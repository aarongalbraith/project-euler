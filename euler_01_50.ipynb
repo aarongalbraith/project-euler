{
 "cells": [
  {
   "cell_type": "code",
   "execution_count": null,
   "metadata": {},
   "outputs": [],
   "source": [
    "import numpy as np\n",
    "import pandas as pd\n",
    "import itertools"
   ]
  },
  {
   "cell_type": "code",
   "execution_count": null,
   "metadata": {},
   "outputs": [],
   "source": [
    "def perm(digits, n):\n",
    "    perms = list(itertools.permutations(digits, n))\n",
    "    for i in range(len(perms)):\n",
    "        num = 0\n",
    "        for j in range(n):\n",
    "            if j < n - 1 or perms[i][j] != 0:\n",
    "                num += perms[i][j] * 10**j\n",
    "        perms[i] = num\n",
    "    perms.sort()\n",
    "    return perms"
   ]
  },
  {
   "cell_type": "code",
   "execution_count": null,
   "metadata": {},
   "outputs": [],
   "source": [
    "def comb(digits, n):\n",
    "    combs = list(itertools.combinations(digits, n))\n",
    "    for i in range(len(combs)):\n",
    "        num = 0\n",
    "        for j in range(n):\n",
    "            num += combs[i][j] * 10**j\n",
    "        combs[i] = num\n",
    "    combs.sort()\n",
    "    return list(set(combs))"
   ]
  },
  {
   "cell_type": "code",
   "execution_count": null,
   "metadata": {},
   "outputs": [],
   "source": [
    "primes = [2, 3]"
   ]
  },
  {
   "cell_type": "code",
   "execution_count": 5,
   "metadata": {},
   "outputs": [],
   "source": [
    "# this will generate all the primes up to a certain condition, which can be modified\n",
    "# if the primes list has already been generated, this can merely add to it from the end\n",
    "def prime_gen(n):\n",
    "    # make k the next candidate for a prime\n",
    "    k = primes[-1] + 2\n",
    "    # set a condition so that it eventually stops generating primes\n",
    "    while k <= n:\n",
    "        # for a given k, we only need to test divisibility by primes up to k_root\n",
    "        k_root = np.sqrt(k)\n",
    "        # check all primes\n",
    "        for p in primes:\n",
    "            # once we reach a prime beyond k_root, we can conclude k is prime\n",
    "            if p > k_root:\n",
    "                primes.append(k)\n",
    "                k += 2\n",
    "                break\n",
    "            # once we find a prime that divides k, we can conclude k is NOT prime\n",
    "            if k%p == 0:\n",
    "                k += 2\n",
    "                break\n",
    "            # if it fails the two tests, then the for-loop continues\n",
    "    # when we've met the while-condition, we return the list of primes\n",
    "    return primes"
   ]
  },
  {
   "cell_type": "code",
   "execution_count": 6,
   "metadata": {},
   "outputs": [],
   "source": [
    "# this will generate a dictionary of prime factors of a number and their powers\n",
    "def prime_fac(n):\n",
    "    # as n will be modified, we need to copy the initial, which will NOT be modified\n",
    "    n0 = n\n",
    "    # establish a dictionary that will record primes and powers\n",
    "    fac = {}\n",
    "    # check all primes\n",
    "    for p in primes:\n",
    "        # once we reach a prime beyond n_root, we can stop checking primes\n",
    "        if p > np.sqrt(n):\n",
    "            # if we have not discovered any divisors, then n itself is prime!\n",
    "            fac[n] = 1\n",
    "            break\n",
    "        # resume checking divisibility by p\n",
    "        # set a zero value for the power of prime p ONLY if p | n and we know we'll increase the zero\n",
    "        # (we don't want zeroes in the final fac dictionary)\n",
    "        if n%p == 0:\n",
    "            fac[p] = 0\n",
    "        # as long as p | n, keep increasing the power of p in the dictionary\n",
    "        while n%p == 0:\n",
    "            fac[p] += 1\n",
    "            # update n to a new number to test\n",
    "            n = int(n/p)\n",
    "        # if we're at the end of the primes list and need more primes, generate some more\n",
    "        if p == primes[-1] and p < np.sqrt(n):\n",
    "            prime_gen(n)\n",
    "        # when we've finished dividing by primes, end the loop\n",
    "        if n == 1:\n",
    "            break\n",
    "    return fac"
   ]
  },
  {
   "cell_type": "code",
   "execution_count": 7,
   "metadata": {},
   "outputs": [],
   "source": [
    "# this will generate a complete list of divisors of a number, including 1 and itself\n",
    "def list_divs(n):\n",
    "    pf = prime_fac(n)\n",
    "    divs = [1]\n",
    "    if n == 1:\n",
    "        return divs\n",
    "    for p in pf:\n",
    "        divs_temp = set(divs)\n",
    "        for k in divs_temp:\n",
    "            for e in range(pf[p]):\n",
    "                divs.append(k * p**(e+1))\n",
    "    return divs"
   ]
  },
  {
   "cell_type": "code",
   "execution_count": 8,
   "metadata": {},
   "outputs": [],
   "source": [
    "# this will return the number of divisors for a number without determining what they are\n",
    "def num_div(n):\n",
    "    if n != int(n) or n < 1:\n",
    "        print('not a positive integer')\n",
    "        return None\n",
    "    if n == 1:\n",
    "        return 1\n",
    "    prod = 1\n",
    "    for p in prime_fac(n):\n",
    "        prod *= (prime_fac(n)[p] + 1)\n",
    "    return prod"
   ]
  },
  {
   "cell_type": "code",
   "execution_count": 9,
   "metadata": {},
   "outputs": [],
   "source": [
    "def factorial(n):\n",
    "    if n == 1 or n == 0:\n",
    "        return 1\n",
    "    else:\n",
    "        return n * factorial(n-1)"
   ]
  },
  {
   "cell_type": "markdown",
   "metadata": {},
   "source": [
    "# #001 Multiples of 3 or 5\n",
    "If we list all the natural numbers below 10 that are multiples of 3 or 5, we get 3, 5, 6 and 9. The sum of these multiples is 23.\n",
    "\n",
    "Find the sum of all the multiples of 3 or 5 below 1000.\n",
    "\n"
   ]
  },
  {
   "cell_type": "code",
   "execution_count": null,
   "metadata": {},
   "outputs": [],
   "source": [
    "total = 0\n",
    "for i in range(1,1000):\n",
    "    if i%3 == 0 or i%5 == 0:\n",
    "        total += i\n",
    "total"
   ]
  },
  {
   "cell_type": "markdown",
   "metadata": {},
   "source": [
    "# #002 Even Fibonacci numbers\n",
    "Each new term in the Fibonacci sequence is generated by adding the previous two terms. By starting with 1 and 2, the first 10 terms will be:\n",
    "\n",
    "1, 2, 3, 5, 8, 13, 21, 34, 55, 89, ...\n",
    "\n",
    "By considering the terms in the Fibonacci sequence whose values do not exceed four million, find the sum of the even-valued terms."
   ]
  },
  {
   "cell_type": "code",
   "execution_count": null,
   "metadata": {},
   "outputs": [],
   "source": [
    "fib = [1,1]\n",
    "total = 0\n",
    "while fib[-1] < 4000000:\n",
    "    fib.append(fib[-1] + fib[-2])\n",
    "    if fib[-1]%2 == 0:\n",
    "        total += fib[-1]\n",
    "total"
   ]
  },
  {
   "cell_type": "markdown",
   "metadata": {},
   "source": [
    "# #003 Largest prime factor\n",
    "The prime factors of 13195 are 5, 7, 13 and 29.\n",
    "\n",
    "What is the largest prime factor of the number 600851475143 ?"
   ]
  },
  {
   "cell_type": "code",
   "execution_count": null,
   "metadata": {},
   "outputs": [],
   "source": [
    "n = 600851475143\n",
    "p = 2\n",
    "while p < n:\n",
    "    if n%p == 0:\n",
    "        n = n/p\n",
    "    else:\n",
    "        p += 1\n",
    "p"
   ]
  },
  {
   "cell_type": "markdown",
   "metadata": {},
   "source": [
    "# #004 Largest palindrome product\n",
    "A palindromic number reads the same both ways. The largest palindrome made from the product of two 2-digit numbers is 9009 = 91 × 99.\n",
    "\n",
    "Find the largest palindrome made from the product of two 3-digit numbers."
   ]
  },
  {
   "cell_type": "code",
   "execution_count": null,
   "metadata": {},
   "outputs": [],
   "source": [
    "pal = 0\n",
    "for m in range(100,1000):\n",
    "    for n in range(100,m):\n",
    "        if m*n > pal:\n",
    "            mn = str(m*n)\n",
    "            if mn[0] == mn[-1] and mn[1] == mn[-2] and mn[2] == mn[-3]:\n",
    "                    pal = m*n\n",
    "pal"
   ]
  },
  {
   "cell_type": "markdown",
   "metadata": {},
   "source": [
    "# #005 Smallest multiple\n",
    "2520 is the smallest number that can be divided by each of the numbers from 1 to 10 without any remainder.\n",
    "\n",
    "What is the smallest positive number that is evenly divisible by all of the numbers from 1 to 20?"
   ]
  },
  {
   "cell_type": "code",
   "execution_count": null,
   "metadata": {},
   "outputs": [],
   "source": [
    "2**4 * 3**2 * 5 * 7 * 11 * 13 * 17 * 19"
   ]
  },
  {
   "cell_type": "markdown",
   "metadata": {},
   "source": [
    "# #006 Sum square difference\n",
    "The sum of the squares of the first ten natural numbers is,\n",
    "\n",
    "The square of the sum of the first ten natural numbers is,\n",
    "\n",
    "Hence the difference between the sum of the squares of the first ten natural numbers and the square of the sum is .\n",
    "\n",
    "Find the difference between the sum of the squares of the first one hundred natural numbers and the square of the sum."
   ]
  },
  {
   "cell_type": "code",
   "execution_count": null,
   "metadata": {},
   "outputs": [],
   "source": [
    "sum_ = 0\n",
    "sum_square = 0\n",
    "\n",
    "for i in range(1,101):\n",
    "    sum_ += i\n",
    "    sum_square += i**2\n",
    "\n",
    "square_sum = sum_**2\n",
    "diff = square_sum - sum_square\n",
    "\n",
    "diff"
   ]
  },
  {
   "cell_type": "markdown",
   "metadata": {},
   "source": [
    "# #007 10001st prime\n",
    "By listing the first six prime numbers: 2, 3, 5, 7, 11, and 13, we can see that the 6th prime is 13.\n",
    "\n",
    "What is the 10,001st prime number?"
   ]
  },
  {
   "cell_type": "code",
   "execution_count": null,
   "metadata": {},
   "outputs": [],
   "source": [
    "primes = [2]\n",
    "k = primes[-1] + 1\n",
    "while len(primes) < 10001:\n",
    "    k_prime = True\n",
    "    k_root = np.sqrt(k)\n",
    "    for p in primes:\n",
    "        if p > k_root:\n",
    "            break\n",
    "        elif k%p == 0:\n",
    "            k_prime = False\n",
    "            break\n",
    "    if k_prime == True:\n",
    "        primes.append(k)\n",
    "    k += 2\n",
    "primes[-1]"
   ]
  },
  {
   "cell_type": "markdown",
   "metadata": {},
   "source": [
    "# #008 Largest product in a series\n",
    "The four adjacent digits in the 1000-digit number that have the greatest product are 9 × 9 × 8 × 9 = 5832.\n",
    "\n",
    "73167176531330624919225119674426574742355349194934\n",
    "96983520312774506326239578318016984801869478851843\n",
    "85861560789112949495459501737958331952853208805511\n",
    "12540698747158523863050715693290963295227443043557\n",
    "66896648950445244523161731856403098711121722383113\n",
    "62229893423380308135336276614282806444486645238749\n",
    "30358907296290491560440772390713810515859307960866\n",
    "70172427121883998797908792274921901699720888093776\n",
    "65727333001053367881220235421809751254540594752243\n",
    "52584907711670556013604839586446706324415722155397\n",
    "53697817977846174064955149290862569321978468622482\n",
    "83972241375657056057490261407972968652414535100474\n",
    "82166370484403199890008895243450658541227588666881\n",
    "16427171479924442928230863465674813919123162824586\n",
    "17866458359124566529476545682848912883142607690042\n",
    "24219022671055626321111109370544217506941658960408\n",
    "07198403850962455444362981230987879927244284909188\n",
    "84580156166097919133875499200524063689912560717606\n",
    "05886116467109405077541002256983155200055935729725\n",
    "71636269561882670428252483600823257530420752963450\n",
    "\n",
    "Find the thirteen adjacent digits in the 1000-digit number that have the greatest product. What is the value of this product?"
   ]
  },
  {
   "cell_type": "code",
   "execution_count": null,
   "metadata": {},
   "outputs": [],
   "source": [
    "n = 7316717653133062491922511967442657474235534919493496983520312774506326239578318016984801869478851843858615607891129494954595017379583319528532088055111254069874715852386305071569329096329522744304355766896648950445244523161731856403098711121722383113622298934233803081353362766142828064444866452387493035890729629049156044077239071381051585930796086670172427121883998797908792274921901699720888093776657273330010533678812202354218097512545405947522435258490771167055601360483958644670632441572215539753697817977846174064955149290862569321978468622482839722413756570560574902614079729686524145351004748216637048440319989000889524345065854122758866688116427171479924442928230863465674813919123162824586178664583591245665294765456828489128831426076900422421902267105562632111110937054421750694165896040807198403850962455444362981230987879927244284909188845801561660979191338754992005240636899125607176060588611646710940507754100225698315520005593572972571636269561882670428252483600823257530420752963450"
   ]
  },
  {
   "cell_type": "code",
   "execution_count": null,
   "metadata": {},
   "outputs": [],
   "source": [
    "big = 0\n",
    "sn = str(n)\n",
    "for i in range(len(sn)-12):\n",
    "    prod = 1\n",
    "    for j in range(13):\n",
    "        prod *= int((sn)[i+j])\n",
    "    if prod > big:\n",
    "        big = prod\n",
    "big"
   ]
  },
  {
   "cell_type": "markdown",
   "metadata": {},
   "source": [
    "# #009 Special Pythagorean triplet\n",
    "A Pythagorean triplet is a set of three natural numbers, a < b < c, for which,\n",
    "\n",
    "a2 + b2 = c2\n",
    "For example, 32 + 42 = 9 + 16 = 25 = 52.\n",
    "\n",
    "There exists exactly one Pythagorean triplet for which a + b + c = 1000.\n",
    "Find the product abc."
   ]
  },
  {
   "cell_type": "code",
   "execution_count": null,
   "metadata": {},
   "outputs": [],
   "source": [
    "for b in range(500):\n",
    "    for a in range(b):\n",
    "        c = 1000 - a - b\n",
    "        if a**2 + b**2 == c**2:\n",
    "            print(a*b*c)"
   ]
  },
  {
   "cell_type": "markdown",
   "metadata": {},
   "source": [
    "# #010 Summation of primes\n",
    "The sum of the primes below 10 is 2 + 3 + 5 + 7 = 17.\n",
    "\n",
    "Find the sum of all the primes below two million."
   ]
  },
  {
   "cell_type": "code",
   "execution_count": null,
   "metadata": {},
   "outputs": [],
   "source": [
    "if primes[-1] > 2000000:\n",
    "    prime2m = []\n",
    "    i = 0\n",
    "    while primes[i] < 2000000:\n",
    "        prime2m.append(primes[i])\n",
    "    print(sum(prime2m))\n",
    "\n",
    "else:\n",
    "    if primes[-1] == 2:\n",
    "        k = 3\n",
    "    else:\n",
    "        k = primes[-1] + 2\n",
    "    while k < 2000000:\n",
    "        k_prime = True\n",
    "        k_root = np.sqrt(k)\n",
    "        for p in primes:\n",
    "            if p > k_root:\n",
    "                break\n",
    "            elif k%p == 0:\n",
    "                k_prime = False\n",
    "                break\n",
    "        if k_prime == True:\n",
    "            primes.append(k)\n",
    "        k += 2\n",
    "    print(sum(primes))"
   ]
  },
  {
   "cell_type": "markdown",
   "metadata": {},
   "source": [
    "# #011 Largest product in a grid\n",
    "In the 20×20 grid below, four numbers along a diagonal line have been marked in red.\n",
    "\n",
    "08 02 22 97 38 15 00 40 00 75 04 05 07 78 52 12 50 77 91 08\n",
    "49 49 99 40 17 81 18 57 60 87 17 40 98 43 69 48 04 56 62 00\n",
    "81 49 31 73 55 79 14 29 93 71 40 67 53 88 30 03 49 13 36 65\n",
    "52 70 95 23 04 60 11 42 69 24 68 56 01 32 56 71 37 02 36 91\n",
    "22 31 16 71 51 67 63 89 41 92 36 54 22 40 40 28 66 33 13 80\n",
    "24 47 32 60 99 03 45 02 44 75 33 53 78 36 84 20 35 17 12 50\n",
    "32 98 81 28 64 23 67 10 26 38 40 67 59 54 70 66 18 38 64 70\n",
    "67 26 20 68 02 62 12 20 95 63 94 39 63 08 40 91 66 49 94 21\n",
    "24 55 58 05 66 73 99 26 97 17 78 78 96 83 14 88 34 89 63 72\n",
    "21 36 23 09 75 00 76 44 20 45 35 14 00 61 33 97 34 31 33 95\n",
    "78 17 53 28 22 75 31 67 15 94 03 80 04 62 16 14 09 53 56 92\n",
    "16 39 05 42 96 35 31 47 55 58 88 24 00 17 54 24 36 29 85 57\n",
    "86 56 00 48 35 71 89 07 05 44 44 37 44 60 21 58 51 54 17 58\n",
    "19 80 81 68 05 94 47 69 28 73 92 13 86 52 17 77 04 89 55 40\n",
    "04 52 08 83 97 35 99 16 07 97 57 32 16 26 26 79 33 27 98 66\n",
    "88 36 68 87 57 62 20 72 03 46 33 67 46 55 12 32 63 93 53 69\n",
    "04 42 16 73 38 25 39 11 24 94 72 18 08 46 29 32 40 62 76 36\n",
    "20 69 36 41 72 30 23 88 34 62 99 69 82 67 59 85 74 04 36 16\n",
    "20 73 35 29 78 31 90 01 74 31 49 71 48 86 81 16 23 57 05 54\n",
    "01 70 54 71 83 51 54 69 16 92 33 48 61 43 52 01 89 19 67 48\n",
    "\n",
    "The product of these numbers is 26 × 63 × 78 × 14 = 1788696.\n",
    "\n",
    "What is the greatest product of four adjacent numbers in the same direction (up, down, left, right, or diagonally) in the 20×20 grid?"
   ]
  },
  {
   "cell_type": "code",
   "execution_count": null,
   "metadata": {},
   "outputs": [],
   "source": [
    "sn = \"08 02 22 97 38 15 00 40 00 75 04 05 07 78 52 12 50 77 91 08 49 49 99 40 17 81 18 57 60 87 17 40 98 43 69 48 04 56 62 00 81 49 31 73 55 79 14 29 93 71 40 67 53 88 30 03 49 13 36 65 52 70 95 23 04 60 11 42 69 24 68 56 01 32 56 71 37 02 36 91 22 31 16 71 51 67 63 89 41 92 36 54 22 40 40 28 66 33 13 80 24 47 32 60 99 03 45 02 44 75 33 53 78 36 84 20 35 17 12 50 32 98 81 28 64 23 67 10 26 38 40 67 59 54 70 66 18 38 64 70 67 26 20 68 02 62 12 20 95 63 94 39 63 08 40 91 66 49 94 21 24 55 58 05 66 73 99 26 97 17 78 78 96 83 14 88 34 89 63 72 21 36 23 09 75 00 76 44 20 45 35 14 00 61 33 97 34 31 33 95 78 17 53 28 22 75 31 67 15 94 03 80 04 62 16 14 09 53 56 92 16 39 05 42 96 35 31 47 55 58 88 24 00 17 54 24 36 29 85 57 86 56 00 48 35 71 89 07 05 44 44 37 44 60 21 58 51 54 17 58 19 80 81 68 05 94 47 69 28 73 92 13 86 52 17 77 04 89 55 40 04 52 08 83 97 35 99 16 07 97 57 32 16 26 26 79 33 27 98 66 88 36 68 87 57 62 20 72 03 46 33 67 46 55 12 32 63 93 53 69 04 42 16 73 38 25 39 11 24 94 72 18 08 46 29 32 40 62 76 36 20 69 36 41 72 30 23 88 34 62 99 69 82 67 59 85 74 04 36 16 20 73 35 29 78 31 90 01 74 31 49 71 48 86 81 16 23 57 05 54 01 70 54 71 83 51 54 69 16 92 33 48 61 43 52 01 89 19 67 48\""
   ]
  },
  {
   "cell_type": "code",
   "execution_count": null,
   "metadata": {},
   "outputs": [],
   "source": [
    "nfull = list(sn.split(' '))\n",
    "for i in range(400):\n",
    "    nfull[i] = int(nfull[i])\n",
    "n = []\n",
    "for j in range(20):\n",
    "    n.append(nfull[20*j:20*j+20])\n",
    "\n",
    "maxprod = 0\n",
    "\n",
    "for x in range(20):\n",
    "    for y in range(20):\n",
    "\n",
    "        if y < 17:\n",
    "            prod = n[x][y] * n[x][y+1] * n[x][y+2] * n[x][y+3]\n",
    "            if prod > maxprod:\n",
    "                maxprod = prod\n",
    "        if x < 17:\n",
    "            prod = n[x][y] * n[x+1][y] * n[x+2][y] * n[x+3][y]\n",
    "            if prod > maxprod:\n",
    "                maxprod = prod\n",
    "        if x < 17 and y < 17:\n",
    "            prod = n[x][y] * n[x+1][y+1] * n[x+2][y+2] * n[x+3][y+3]\n",
    "            if prod > maxprod:\n",
    "                maxprod = prod\n",
    "        if x > 2 and y < 17:\n",
    "            prod = n[x][y] * n[x-1][y+1] * n[x-2][y+2] * n[x-3][y+3]\n",
    "            if prod > maxprod:\n",
    "                maxprod = prod\n",
    "\n",
    "maxprod"
   ]
  },
  {
   "cell_type": "markdown",
   "metadata": {},
   "source": [
    "# #012 Highly divisible triangular number\n",
    "The sequence of triangle numbers is generated by adding the natural numbers. So the 7th triangle number would be 1 + 2 + 3 + 4 + 5 + 6 + 7 = 28. The first ten terms would be:\n",
    "\n",
    "1, 3, 6, 10, 15, 21, 28, 36, 45, 55, ...\n",
    "\n",
    "Let us list the factors of the first seven triangle numbers:\n",
    "\n",
    " 1: 1\n",
    " 3: 1,3\n",
    " 6: 1,2,3,6\n",
    "10: 1,2,5,10\n",
    "15: 1,3,5,15\n",
    "21: 1,3,7,21\n",
    "28: 1,2,4,7,14,28\n",
    "We can see that 28 is the first triangle number to have over five divisors.\n",
    "\n",
    "What is the value of the first triangle number to have over five hundred divisors?"
   ]
  },
  {
   "cell_type": "code",
   "execution_count": null,
   "metadata": {},
   "outputs": [],
   "source": [
    "# presets: n is the index; tri is the nth triangular nunber;\n",
    "# n1 and n2 are factors** of tri with DISTINCT divisors\n",
    "# d1 and d2 are how many divisors n1 and n2 have\n",
    "# dt is how many divisors the triangular number has\n",
    "\n",
    "n, tri, n1, n2, d1, d2, dt = 0, 0, 0, 1, 0, 1, 1\n",
    "\n",
    "while dt <= 500:\n",
    "\n",
    "    n += 1\n",
    "    tri = tri + n\n",
    "    n1 = n2\n",
    "    d1 = d2\n",
    "    if n%2 == 0:\n",
    "        n2 = n+1\n",
    "    else:\n",
    "        n2 = int((n+1)/2)\n",
    "    d2 = num_div(n2)\n",
    "    dt = d1*d2\n",
    "\n",
    "print(str(tri) + ' is the ' + str(n) + 'th triangular number.')\n",
    "print('It has ' + str(dt) + ' divisors.')\n",
    "\n",
    "# **\n",
    "# The nth triangular number can be calculated as (n)(n+1)/2\n",
    "# n and n+1 necessarily will have distinct divisors (other than 1)\n",
    "# dividing one of them (whichever is even) by 2 does not change this distinctness\n",
    "# therefore the number of divisors of the triangular number can be found by multiplying d1 and d2"
   ]
  },
  {
   "cell_type": "markdown",
   "metadata": {},
   "source": [
    "# #013 Large sum\n",
    "Work out the first ten digits of the sum of the following one-hundred 50-digit numbers.\n",
    "\n",
    "37107287533902102798797998220837590246510135740250\n",
    "46376937677490009712648124896970078050417018260538\n",
    "74324986199524741059474233309513058123726617309629\n",
    "91942213363574161572522430563301811072406154908250\n",
    "23067588207539346171171980310421047513778063246676\n",
    "89261670696623633820136378418383684178734361726757\n",
    "28112879812849979408065481931592621691275889832738\n",
    "44274228917432520321923589422876796487670272189318\n",
    "47451445736001306439091167216856844588711603153276\n",
    "70386486105843025439939619828917593665686757934951\n",
    "62176457141856560629502157223196586755079324193331\n",
    "64906352462741904929101432445813822663347944758178\n",
    "92575867718337217661963751590579239728245598838407\n",
    "58203565325359399008402633568948830189458628227828\n",
    "80181199384826282014278194139940567587151170094390\n",
    "35398664372827112653829987240784473053190104293586\n",
    "86515506006295864861532075273371959191420517255829\n",
    "71693888707715466499115593487603532921714970056938\n",
    "54370070576826684624621495650076471787294438377604\n",
    "53282654108756828443191190634694037855217779295145\n",
    "36123272525000296071075082563815656710885258350721\n",
    "45876576172410976447339110607218265236877223636045\n",
    "17423706905851860660448207621209813287860733969412\n",
    "81142660418086830619328460811191061556940512689692\n",
    "51934325451728388641918047049293215058642563049483\n",
    "62467221648435076201727918039944693004732956340691\n",
    "15732444386908125794514089057706229429197107928209\n",
    "55037687525678773091862540744969844508330393682126\n",
    "18336384825330154686196124348767681297534375946515\n",
    "80386287592878490201521685554828717201219257766954\n",
    "78182833757993103614740356856449095527097864797581\n",
    "16726320100436897842553539920931837441497806860984\n",
    "48403098129077791799088218795327364475675590848030\n",
    "87086987551392711854517078544161852424320693150332\n",
    "59959406895756536782107074926966537676326235447210\n",
    "69793950679652694742597709739166693763042633987085\n",
    "41052684708299085211399427365734116182760315001271\n",
    "65378607361501080857009149939512557028198746004375\n",
    "35829035317434717326932123578154982629742552737307\n",
    "94953759765105305946966067683156574377167401875275\n",
    "88902802571733229619176668713819931811048770190271\n",
    "25267680276078003013678680992525463401061632866526\n",
    "36270218540497705585629946580636237993140746255962\n",
    "24074486908231174977792365466257246923322810917141\n",
    "91430288197103288597806669760892938638285025333403\n",
    "34413065578016127815921815005561868836468420090470\n",
    "23053081172816430487623791969842487255036638784583\n",
    "11487696932154902810424020138335124462181441773470\n",
    "63783299490636259666498587618221225225512486764533\n",
    "67720186971698544312419572409913959008952310058822\n",
    "95548255300263520781532296796249481641953868218774\n",
    "76085327132285723110424803456124867697064507995236\n",
    "37774242535411291684276865538926205024910326572967\n",
    "23701913275725675285653248258265463092207058596522\n",
    "29798860272258331913126375147341994889534765745501\n",
    "18495701454879288984856827726077713721403798879715\n",
    "38298203783031473527721580348144513491373226651381\n",
    "34829543829199918180278916522431027392251122869539\n",
    "40957953066405232632538044100059654939159879593635\n",
    "29746152185502371307642255121183693803580388584903\n",
    "41698116222072977186158236678424689157993532961922\n",
    "62467957194401269043877107275048102390895523597457\n",
    "23189706772547915061505504953922979530901129967519\n",
    "86188088225875314529584099251203829009407770775672\n",
    "11306739708304724483816533873502340845647058077308\n",
    "82959174767140363198008187129011875491310547126581\n",
    "97623331044818386269515456334926366572897563400500\n",
    "42846280183517070527831839425882145521227251250327\n",
    "55121603546981200581762165212827652751691296897789\n",
    "32238195734329339946437501907836945765883352399886\n",
    "75506164965184775180738168837861091527357929701337\n",
    "62177842752192623401942399639168044983993173312731\n",
    "32924185707147349566916674687634660915035914677504\n",
    "99518671430235219628894890102423325116913619626622\n",
    "73267460800591547471830798392868535206946944540724\n",
    "76841822524674417161514036427982273348055556214818\n",
    "97142617910342598647204516893989422179826088076852\n",
    "87783646182799346313767754307809363333018982642090\n",
    "10848802521674670883215120185883543223812876952786\n",
    "71329612474782464538636993009049310363619763878039\n",
    "62184073572399794223406235393808339651327408011116\n",
    "66627891981488087797941876876144230030984490851411\n",
    "60661826293682836764744779239180335110989069790714\n",
    "85786944089552990653640447425576083659976645795096\n",
    "66024396409905389607120198219976047599490197230297\n",
    "64913982680032973156037120041377903785566085089252\n",
    "16730939319872750275468906903707539413042652315011\n",
    "94809377245048795150954100921645863754710598436791\n",
    "78639167021187492431995700641917969777599028300699\n",
    "15368713711936614952811305876380278410754449733078\n",
    "40789923115535562561142322423255033685442488917353\n",
    "44889911501440648020369068063960672322193204149535\n",
    "41503128880339536053299340368006977710650566631954\n",
    "81234880673210146739058568557934581403627822703280\n",
    "82616570773948327592232845941706525094512325230608\n",
    "22918802058777319719839450180888072429661980811197\n",
    "77158542502016545090413245809786882778948721859617\n",
    "72107838435069186155435662884062257473692284509516\n",
    "20849603980134001723930671666823555245252804609722\n",
    "53503534226472524250874054075591789781264330331690"
   ]
  },
  {
   "cell_type": "code",
   "execution_count": null,
   "metadata": {},
   "outputs": [],
   "source": [
    "sn = '37107287533902102798797998220837590246510135740250 46376937677490009712648124896970078050417018260538 74324986199524741059474233309513058123726617309629 91942213363574161572522430563301811072406154908250 23067588207539346171171980310421047513778063246676 89261670696623633820136378418383684178734361726757 28112879812849979408065481931592621691275889832738 44274228917432520321923589422876796487670272189318 47451445736001306439091167216856844588711603153276 70386486105843025439939619828917593665686757934951 62176457141856560629502157223196586755079324193331 64906352462741904929101432445813822663347944758178 92575867718337217661963751590579239728245598838407 58203565325359399008402633568948830189458628227828 80181199384826282014278194139940567587151170094390 35398664372827112653829987240784473053190104293586 86515506006295864861532075273371959191420517255829 71693888707715466499115593487603532921714970056938 54370070576826684624621495650076471787294438377604 53282654108756828443191190634694037855217779295145 36123272525000296071075082563815656710885258350721 45876576172410976447339110607218265236877223636045 17423706905851860660448207621209813287860733969412 81142660418086830619328460811191061556940512689692 51934325451728388641918047049293215058642563049483 62467221648435076201727918039944693004732956340691 15732444386908125794514089057706229429197107928209 55037687525678773091862540744969844508330393682126 18336384825330154686196124348767681297534375946515 80386287592878490201521685554828717201219257766954 78182833757993103614740356856449095527097864797581 16726320100436897842553539920931837441497806860984 48403098129077791799088218795327364475675590848030 87086987551392711854517078544161852424320693150332 59959406895756536782107074926966537676326235447210 69793950679652694742597709739166693763042633987085 41052684708299085211399427365734116182760315001271 65378607361501080857009149939512557028198746004375 35829035317434717326932123578154982629742552737307 94953759765105305946966067683156574377167401875275 88902802571733229619176668713819931811048770190271 25267680276078003013678680992525463401061632866526 36270218540497705585629946580636237993140746255962 24074486908231174977792365466257246923322810917141 91430288197103288597806669760892938638285025333403 34413065578016127815921815005561868836468420090470 23053081172816430487623791969842487255036638784583 11487696932154902810424020138335124462181441773470 63783299490636259666498587618221225225512486764533 67720186971698544312419572409913959008952310058822 95548255300263520781532296796249481641953868218774 76085327132285723110424803456124867697064507995236 37774242535411291684276865538926205024910326572967 23701913275725675285653248258265463092207058596522 29798860272258331913126375147341994889534765745501 18495701454879288984856827726077713721403798879715 38298203783031473527721580348144513491373226651381 34829543829199918180278916522431027392251122869539 40957953066405232632538044100059654939159879593635 29746152185502371307642255121183693803580388584903 41698116222072977186158236678424689157993532961922 62467957194401269043877107275048102390895523597457 23189706772547915061505504953922979530901129967519 86188088225875314529584099251203829009407770775672 11306739708304724483816533873502340845647058077308 82959174767140363198008187129011875491310547126581 97623331044818386269515456334926366572897563400500 42846280183517070527831839425882145521227251250327 55121603546981200581762165212827652751691296897789 32238195734329339946437501907836945765883352399886 75506164965184775180738168837861091527357929701337 62177842752192623401942399639168044983993173312731 32924185707147349566916674687634660915035914677504 99518671430235219628894890102423325116913619626622 73267460800591547471830798392868535206946944540724 76841822524674417161514036427982273348055556214818 97142617910342598647204516893989422179826088076852 87783646182799346313767754307809363333018982642090 10848802521674670883215120185883543223812876952786 71329612474782464538636993009049310363619763878039 62184073572399794223406235393808339651327408011116 66627891981488087797941876876144230030984490851411 60661826293682836764744779239180335110989069790714 85786944089552990653640447425576083659976645795096 66024396409905389607120198219976047599490197230297 64913982680032973156037120041377903785566085089252 16730939319872750275468906903707539413042652315011 94809377245048795150954100921645863754710598436791 78639167021187492431995700641917969777599028300699 15368713711936614952811305876380278410754449733078 40789923115535562561142322423255033685442488917353 44889911501440648020369068063960672322193204149535 41503128880339536053299340368006977710650566631954 81234880673210146739058568557934581403627822703280 82616570773948327592232845941706525094512325230608 22918802058777319719839450180888072429661980811197 77158542502016545090413245809786882778948721859617 72107838435069186155435662884062257473692284509516 20849603980134001723930671666823555245252804609722 53503534226472524250874054075591789781264330331690'"
   ]
  },
  {
   "cell_type": "code",
   "execution_count": null,
   "metadata": {},
   "outputs": [],
   "source": [
    "nfull = list(sn.split(' '))\n",
    "\n",
    "for i in range(100):\n",
    "    nfull[i] = int(nfull[i])\n",
    "\n",
    "total = sum(nfull)\n",
    "stotal = str(total)\n",
    "stotal10 = stotal[0:10]\n",
    "int(stotal10)\n",
    "stotal10"
   ]
  },
  {
   "cell_type": "markdown",
   "metadata": {},
   "source": [
    "# #014 Longest Collatz sequence\n",
    "The following iterative sequence is defined for the set of positive integers:\n",
    "\n",
    "n → n/2 (n is even)\n",
    "n → 3n + 1 (n is odd)\n",
    "\n",
    "Using the rule above and starting with 13, we generate the following sequence:\n",
    "\n",
    "13 → 40 → 20 → 10 → 5 → 16 → 8 → 4 → 2 → 1\n",
    "It can be seen that this sequence (starting at 13 and finishing at 1) contains 10 terms. Although it has not been proved yet (Collatz Problem), it is thought that all starting numbers finish at 1.\n",
    "\n",
    "Which starting number, under one million, produces the longest chain?\n",
    "\n",
    "NOTE: Once the chain starts the terms are allowed to go above one million."
   ]
  },
  {
   "cell_type": "code",
   "execution_count": null,
   "metadata": {},
   "outputs": [],
   "source": [
    "collatz_book = {}"
   ]
  },
  {
   "cell_type": "code",
   "execution_count": null,
   "metadata": {},
   "outputs": [],
   "source": [
    "def collatz(n):\n",
    "    if n%2 == 0:\n",
    "        return int(n/2)\n",
    "    else:\n",
    "        return 3*n + 1"
   ]
  },
  {
   "cell_type": "code",
   "execution_count": null,
   "metadata": {},
   "outputs": [],
   "source": [
    "def collatz_chain(n):\n",
    "    if n in collatz_book:\n",
    "        return collatz_book[n]\n",
    "    else:\n",
    "        length = 1 + collatz_chain(collatz(n))\n",
    "        collatz_book[n] = length\n",
    "        return length"
   ]
  },
  {
   "cell_type": "code",
   "execution_count": null,
   "metadata": {},
   "outputs": [],
   "source": [
    "max_length = 0\n",
    "for n in range(1,1000000):\n",
    "    length = collatz_chain(n)\n",
    "    if length > max_length:\n",
    "        max_length = length\n",
    "        winner = n\n",
    "print('The winner is ' + str(winner) + ' with a chain length of ' + str(max_length))"
   ]
  },
  {
   "cell_type": "markdown",
   "metadata": {},
   "source": [
    "# #015 Lattice paths\n",
    "Starting in the top left corner of a 2×2 grid, and only being able to move to the right and down, there are exactly 6 routes to the bottom right corner.\n",
    "\n",
    "\n",
    "How many such routes are there through a 20×20 grid?"
   ]
  },
  {
   "cell_type": "code",
   "execution_count": null,
   "metadata": {},
   "outputs": [],
   "source": [
    "int(factorial(40) / (factorial(20) * factorial(20)))"
   ]
  },
  {
   "cell_type": "markdown",
   "metadata": {},
   "source": [
    "# #016 Power digit sum\n",
    "2^15 = 32768 and the sum of its digits is 3 + 2 + 7 + 6 + 8 = 26.\n",
    "\n",
    "What is the sum of the digits of the number 2^1000?"
   ]
  },
  {
   "cell_type": "code",
   "execution_count": null,
   "metadata": {},
   "outputs": [],
   "source": [
    "sn = str(2**1000)\n",
    "count = 0\n",
    "for i in range(len(sn)):\n",
    "    count += int(sn[i])\n",
    "count"
   ]
  },
  {
   "cell_type": "markdown",
   "metadata": {},
   "source": [
    "# #017 Number letter counts\n",
    "If the numbers 1 to 5 are written out in words: one, two, three, four, five, then there are 3 + 3 + 5 + 4 + 4 = 19 letters used in total.\n",
    "\n",
    "If all the numbers from 1 to 1000 (one thousand) inclusive were written out in words, how many letters would be used?\n",
    "\n",
    "\n",
    "NOTE: Do not count spaces or hyphens. For example, 342 (three hundred and forty-two) contains 23 letters and 115 (one hundred and fifteen) contains 20 letters. The use of \"and\" when writing out numbers is in compliance with British usage."
   ]
  },
  {
   "cell_type": "code",
   "execution_count": null,
   "metadata": {},
   "outputs": [],
   "source": [
    "# think of 1000 = 10^3 where each of the 1s, 10s, and 100s place can be 0-9, but 000 ~ 1000\n",
    "count = 0\n",
    "# one, two, three, four, five, six, seven, eight, nine\n",
    "total = 3 + 3 + 5 + 4 + 4 + 3 + 5 + 5 + 4\n",
    "    # in the 1s place: 10s place not 1, 100s place 0-9\n",
    "count += 9 * 10 * total\n",
    "    # in the 100s place: 1s place 0-9, 10s place 0-9\n",
    "count += 10 * 10 * total\n",
    "# ten, eleven, twelve, thirteen, fourteen, fifteen, sixteen, seventeen, eighteen, nineteen\n",
    "total = 3 + 6 + 6 + 8 + 8 + 7 + 7 + 9 + 8 + 8\n",
    "    # 100s place 0-9\n",
    "count += 10 * total\n",
    "# twenty, thirty, forty, fifty, sixty, seventy, eighty, ninety\n",
    "total = 6 + 6 + 5 + 5 + 5 + 7 + 6 + 6\n",
    "    # 1s place 0-9, 100s place 0-9\n",
    "count += 10 * 10 * total\n",
    "# hundred\n",
    "total = 7\n",
    "    # 1s place 0-9, 10s place 0-9, 100s place not 0\n",
    "count += 10 * 10 * 9 * total\n",
    "# and\n",
    "total = 3\n",
    "    # 100s place not 0, 10s and 1s place not 00\n",
    "count += 9 * 99 * total\n",
    "# the nunber one thousand\n",
    "total = 11\n",
    "count += 1 * total\n",
    "count"
   ]
  },
  {
   "cell_type": "markdown",
   "metadata": {},
   "source": [
    "# #018 Maximum path sum I\n",
    "By starting at the top of the triangle below and moving to adjacent numbers on the row below, the maximum total from top to bottom is 23.\n",
    "\n",
    "3\n",
    "7 4\n",
    "2 4 6\n",
    "8 5 9 3\n",
    "\n",
    "That is, 3 + 7 + 4 + 9 = 23.\n",
    "\n",
    "Find the maximum total from top to bottom of the triangle below:\n",
    "\n",
    "75\n",
    "95 64\n",
    "17 47 82\n",
    "18 35 87 10\n",
    "20 04 82 47 65\n",
    "19 01 23 75 03 34\n",
    "88 02 77 73 07 63 67\n",
    "99 65 04 28 06 16 70 92\n",
    "41 41 26 56 83 40 80 70 33\n",
    "41 48 72 33 47 32 37 16 94 29\n",
    "53 71 44 65 25 43 91 52 97 51 14\n",
    "70 11 33 28 77 73 17 78 39 68 17 57\n",
    "91 71 52 38 17 14 91 43 58 50 27 29 48\n",
    "63 66 04 68 89 53 67 30 73 16 69 87 40 31\n",
    "04 62 98 27 23 09 70 98 73 93 38 53 60 04 23\n",
    "\n",
    "NOTE: As there are only 16384 routes, it is possible to solve this problem by trying every route. However, Problem 67, is the same challenge with a triangle containing one-hundred rows; it cannot be solved by brute force, and requires a clever method! ;o)"
   ]
  },
  {
   "cell_type": "code",
   "execution_count": null,
   "metadata": {},
   "outputs": [],
   "source": [
    "sn = '75 95 64 17 47 82 18 35 87 10 20 04 82 47 65 19 01 23 75 03 34 88 02 77 73 07 63 67 99 65 04 28 06 16 70 92 41 41 26 56 83 40 80 70 33 41 48 72 33 47 32 37 16 94 29 53 71 44 65 25 43 91 52 97 51 14 70 11 33 28 77 73 17 78 39 68 17 57 91 71 52 38 17 14 91 43 58 50 27 29 48 63 66 04 68 89 53 67 30 73 16 69 87 40 31 04 62 98 27 23 09 70 98 73 93 38 53 60 04 23'"
   ]
  },
  {
   "cell_type": "code",
   "execution_count": null,
   "metadata": {},
   "outputs": [],
   "source": [
    "nfull = list(sn.split(' '))\n",
    "\n",
    "size = 15\n",
    "\n",
    "# make an empty list that will hold the triangular values\n",
    "n = []\n",
    "for i in range(size):\n",
    "    # make a list for every row\n",
    "    n.append([])\n",
    "# i will iterate over the entries of nfull in reverse order\n",
    "# the first value of i should be the number of entries in the triangle, a triangular number\n",
    "i = int(size * (size+1) / 2) - 1\n",
    "# iterate over the rows in reverse order\n",
    "for j in reversed(range(size)):\n",
    "    # iterate over the entries in each row\n",
    "    for k in range(j+1):\n",
    "        # if we're in the bottom row, just enter the numbers\n",
    "        if j == size - 1:\n",
    "            n[j].append(int(nfull[i]))\n",
    "        # if we're in any other row, enter the sum of the number that's supposed to be there ...\n",
    "        # ... and the bigger of the two numbers or sums below it\n",
    "        if j < size - 1:\n",
    "            n[j].append(int(nfull[i]) + max(n[j+1][k], n[j+1][k+1]))\n",
    "        i -= 1\n",
    "# display the number at the top, which should be the maximum count\n",
    "n[0][0]"
   ]
  },
  {
   "cell_type": "markdown",
   "metadata": {},
   "source": [
    "# #019 Counting Sundays\n",
    "You are given the following information, but you may prefer to do some research for yourself.\n",
    "\n",
    "1 Jan 1900 was a Monday.\n",
    "Thirty days has September,\n",
    "April, June and November.\n",
    "All the rest have thirty-one,\n",
    "Saving February alone,\n",
    "Which has twenty-eight, rain or shine.\n",
    "And on leap years, twenty-nine.\n",
    "A leap year occurs on any year evenly divisible by 4, but not on a century unless it is divisible by 400.\n",
    "How many Sundays fell on the first of the month during the twentieth century (1 Jan 1901 to 31 Dec 2000)?"
   ]
  },
  {
   "cell_type": "code",
   "execution_count": null,
   "metadata": {},
   "outputs": [],
   "source": [
    "day = 1 + 365\n",
    "count = 0\n",
    "for yr in range(1,101):\n",
    "    for mo in range (1,13):\n",
    "        if day % 7 == 0:\n",
    "            count += 1\n",
    "        if mo == 1 or mo == 3 or mo == 5 or mo == 7 or mo == 8 or mo == 10 or mo == 12:\n",
    "            day += 31\n",
    "        if mo == 4 or mo == 6 or mo == 9 or mo == 11:\n",
    "            day += 30\n",
    "        if mo == 2 and yr % 4 == 0:\n",
    "            day += 29\n",
    "        if mo == 2 and yr % 4 != 0:\n",
    "            day += 28\n",
    "count"
   ]
  },
  {
   "cell_type": "markdown",
   "metadata": {},
   "source": [
    "# #020 Factorial digit sum\n",
    "n! means n × (n − 1) × ... × 3 × 2 × 1\n",
    "\n",
    "For example, 10! = 10 × 9 × ... × 3 × 2 × 1 = 3628800,\n",
    "and the sum of the digits in the number 10! is 3 + 6 + 2 + 8 + 8 + 0 + 0 = 27.\n",
    "\n",
    "Find the sum of the digits in the number 100!"
   ]
  },
  {
   "cell_type": "code",
   "execution_count": null,
   "metadata": {},
   "outputs": [],
   "source": [
    "n = factorial(100)\n",
    "sn = str(n)\n",
    "count = 0\n",
    "for i in range(len(sn)):\n",
    "    count += int(sn[i])\n",
    "count"
   ]
  },
  {
   "cell_type": "markdown",
   "metadata": {},
   "source": [
    "# #021 Amicable numbers\n",
    "Let d(n) be defined as the sum of proper divisors of n (numbers less than n which divide evenly into n).\n",
    "If d(a) = b and d(b) = a, where a ≠ b, then a and b are an amicable pair and each of a and b are called amicable numbers.\n",
    "\n",
    "For example, the proper divisors of 220 are 1, 2, 4, 5, 10, 11, 20, 22, 44, 55 and 110; therefore d(220) = 284. The proper divisors of 284 are 1, 2, 4, 71 and 142; so d(284) = 220.\n",
    "\n",
    "Evaluate the sum of all the amicable numbers under 10000."
   ]
  },
  {
   "cell_type": "code",
   "execution_count": null,
   "metadata": {},
   "outputs": [],
   "source": [
    "list_divs(1)"
   ]
  },
  {
   "cell_type": "code",
   "execution_count": null,
   "metadata": {},
   "outputs": [],
   "source": [
    "amic = {}\n",
    "amic_sum = 0\n",
    "for n in range(1,10000):\n",
    "    amic[n] = sum(list_divs(n)) - n\n",
    "    for m in range(1,n):\n",
    "        if amic[m] == n and amic[n] == m:\n",
    "            print(str(m) + ' and ' + str(n))\n",
    "            amic_sum += m + n\n",
    "amic_sum"
   ]
  },
  {
   "cell_type": "markdown",
   "metadata": {},
   "source": [
    "# #022 Names scores\n",
    "Using names.txt (right click and 'Save Link/Target As...'), a 46K text file containing over five-thousand first names, begin by sorting it into alphabetical order. Then working out the alphabetical value for each name, multiply this value by its alphabetical position in the list to obtain a name score.\n",
    "\n",
    "For example, when the list is sorted into alphabetical order, COLIN, which is worth 3 + 15 + 12 + 9 + 14 = 53, is the 938th name in the list. So, COLIN would obtain a score of 938 × 53 = 49714.\n",
    "\n",
    "What is the total of all the name scores in the file?"
   ]
  },
  {
   "cell_type": "code",
   "execution_count": null,
   "metadata": {},
   "outputs": [],
   "source": [
    "f = open('p022_names.txt', 'r')\n",
    "content = f.read()\n",
    "f.close()\n",
    "\n",
    "content = content.strip('\"').split('\",\"')\n",
    "content.sort()"
   ]
  },
  {
   "cell_type": "code",
   "execution_count": null,
   "metadata": {},
   "outputs": [],
   "source": [
    "count = 0\n",
    "for i in range(len(content)):\n",
    "    subcount = 0\n",
    "    for j in range(len(content[i])):\n",
    "        subcount += ord(content[i][j]) - 64\n",
    "    count += (i+1) * subcount\n",
    "count"
   ]
  },
  {
   "cell_type": "markdown",
   "metadata": {},
   "source": [
    "# #023 Non-abundant sums\n",
    "A perfect number is a number for which the sum of its proper divisors is exactly equal to the number. For example, the sum of the proper divisors of 28 would be 1 + 2 + 4 + 7 + 14 = 28, which means that 28 is a perfect number.\n",
    "\n",
    "A number n is called deficient if the sum of its proper divisors is less than n and it is called abundant if this sum exceeds n.\n",
    "\n",
    "As 12 is the smallest abundant number, 1 + 2 + 3 + 4 + 6 = 16, the smallest number that can be written as the sum of two abundant numbers is 24. By mathematical analysis, it can be shown that all integers greater than 28123 can be written as the sum of two abundant numbers. However, this upper limit cannot be reduced any further by analysis even though it is known that the greatest number that cannot be expressed as the sum of two abundant numbers is less than this limit.\n",
    "\n",
    "Find the sum of all the positive integers which cannot be written as the sum of two abundant numbers."
   ]
  },
  {
   "cell_type": "code",
   "execution_count": null,
   "metadata": {},
   "outputs": [],
   "source": [
    "# create a list of all the relevant abundant numbers\n",
    "abun = []\n",
    "for i in range(1,28124):\n",
    "    if sum(list_divs(i)) > 2*i:\n",
    "        abun.append(i)\n",
    "\n",
    "# create a set of all the relevant sums of abundant numbers\n",
    "sum_abun = set()\n",
    "for i in range(len(abun)):\n",
    "    for j in range(i+1):\n",
    "        sum_abun.add(abun[i]+abun[j])\n",
    "\n",
    "# count how many numbers are not in this list\n",
    "count = 0\n",
    "for i in range(1,28124):\n",
    "    if i not in sum_abun:\n",
    "        count += i\n",
    "\n",
    "count"
   ]
  },
  {
   "cell_type": "markdown",
   "metadata": {},
   "source": [
    "# #024 Lexicographic permutations\n",
    "A permutation is an ordered arrangement of objects. For example, 3124 is one possible permutation of the digits 1, 2, 3 and 4. If all of the permutations are listed numerically or alphabetically, we call it lexicographic order. The lexicographic permutations of 0, 1 and 2 are:\n",
    "\n",
    "012   021   102   120   201   210\n",
    "\n",
    "What is the millionth lexicographic permutation of the digits 0, 1, 2, 3, 4, 5, 6, 7, 8 and 9?"
   ]
  },
  {
   "cell_type": "code",
   "execution_count": null,
   "metadata": {},
   "outputs": [],
   "source": [
    "digs = [0,1,2,3,4,5,6,7,8,9]\n",
    "result = 0\n",
    "# full disclosure: I tried starting with 1,000,000, and then with 1,000,001\n",
    "# before hitting the right answer with 999,999 — not sure exactly why that works\n",
    "n = 999999\n",
    "k = 9\n",
    "\n",
    "while len(str(result)) < 9:\n",
    "    # e.g. we can cycle through 9! twice, meaning the first number is 2\n",
    "    d = int((n / factorial(k)))\n",
    "    # add the digit to the answer and remove it from the field of digits\n",
    "    result = result * 10 + digs[d]\n",
    "    digs.pop(d)\n",
    "    # update the number of iterations left to cycle through\n",
    "    n = n % factorial(k)\n",
    "    # rinse repeat\n",
    "    k -= 1\n",
    "result = result * 10 + digs[0]\n",
    "result"
   ]
  },
  {
   "cell_type": "markdown",
   "metadata": {},
   "source": [
    "# #025 1000-digit Fibonacci number\n",
    "The Fibonacci sequence is defined by the recurrence relation:\n",
    "\n",
    "Fn = Fn−1 + Fn−2, where F1 = 1 and F2 = 1.\n",
    "Hence the first 12 terms will be:\n",
    "\n",
    "F1 = 1\n",
    "F2 = 1\n",
    "F3 = 2\n",
    "F4 = 3\n",
    "F5 = 5\n",
    "F6 = 8\n",
    "F7 = 13\n",
    "F8 = 21\n",
    "F9 = 34\n",
    "F10 = 55\n",
    "F11 = 89\n",
    "F12 = 144\n",
    "The 12th term, F12, is the first term to contain three digits.\n",
    "\n",
    "What is the index of the first term in the Fibonacci sequence to contain 1000 digits?"
   ]
  },
  {
   "cell_type": "code",
   "execution_count": null,
   "metadata": {},
   "outputs": [],
   "source": [
    "fib = [1,1]\n",
    "i = 2\n",
    "while len(str(fib[-1])) < 1000:\n",
    "    fib.append(fib[-1] + fib[-2])\n",
    "    i += 1\n",
    "i"
   ]
  },
  {
   "cell_type": "markdown",
   "metadata": {},
   "source": [
    "# #026 Reciprocal cycles\n",
    "A unit fraction contains 1 in the numerator. The decimal representation of the unit fractions with denominators 2 to 10 are given:\n",
    "\n",
    "1/2\t= \t0.5\n",
    "1/3\t= \t0.(3)\n",
    "1/4\t= \t0.25\n",
    "1/5\t= \t0.2\n",
    "1/6\t= \t0.1(6)\n",
    "1/7\t= \t0.(142857)\n",
    "1/8\t= \t0.125\n",
    "1/9\t= \t0.(1)\n",
    "1/10\t= \t0.1\n",
    "Where 0.1(6) means 0.166666..., and has a 1-digit recurring cycle. It can be seen that 1/7 has a 6-digit recurring cycle.\n",
    "\n",
    "Find the value of d < 1000 for which 1/d contains the longest recurring cycle in its decimal fraction part."
   ]
  },
  {
   "cell_type": "code",
   "execution_count": null,
   "metadata": {},
   "outputs": [],
   "source": [
    "# 7 has a long cycle size because 1/7 is equivalent to 142857/999999\n",
    "# that is, 999999/7 = 142857\n",
    "# the trick is to find a number that requires the longest denom = 999...9 to make that calculation hold true\n",
    "# it's perhaps worthwhile to note that 1/14 has the same cycle size, even though 999999/14 is NOT an integer\n",
    "# \n",
    "\n",
    "cycle_max = 0\n",
    "for d in range(1, 1000):\n",
    "    k = d\n",
    "    # for as much as the prime factorization of d contains 2s and 5s, they do not contribute to its cycle\n",
    "    # e.g. 6 has the same cycle size as 3\n",
    "    while k % 2 == 0:\n",
    "        k = int(k/2)\n",
    "    while k % 5 == 0:\n",
    "        k = int(k/5)\n",
    "    if k != 1:\n",
    "        cycle = 1\n",
    "        denom = 9\n",
    "        while denom % k != 0:\n",
    "            denom = denom * 10 + 9\n",
    "            cycle += 1\n",
    "        if cycle > cycle_max:\n",
    "            cycle_max = cycle\n",
    "            winner = d\n",
    "winner"
   ]
  },
  {
   "cell_type": "markdown",
   "metadata": {},
   "source": [
    "# #027 Quadratic primes\n",
    "Euler discovered the remarkable quadratic formula:\n",
    "\n",
    "\n",
    "It turns out that the formula will produce 40 primes for the consecutive integer values . However, when  is divisible by 41, and certainly when  is clearly divisible by 41.\n",
    "\n",
    "The incredible formula  was discovered, which produces 80 primes for the consecutive values . The product of the coefficients, −79 and 1601, is −126479.\n",
    "\n",
    "Considering quadratics of the form:\n",
    "\n",
    ", where  and \n",
    "\n",
    "where  is the modulus/absolute value of \n",
    "e.g.  and \n",
    "Find the product of the coefficients,  and , for the quadratic expression that produces the maximum number of primes for consecutive values of , starting with ."
   ]
  },
  {
   "cell_type": "code",
   "execution_count": null,
   "metadata": {},
   "outputs": [],
   "source": [
    "prime_gen(1000000)\n",
    "primes[-1]"
   ]
  },
  {
   "cell_type": "code",
   "execution_count": null,
   "metadata": {},
   "outputs": [],
   "source": [
    "# This still runs more slowly than perhaps it should.\n",
    "# Some helpful insights:\n",
    "# b must be prime, and a must be odd.\n",
    "# A way to maximize the streak is to take advantage of the parabola — make a U shape that\n",
    "# ... covers all the same primes *twice* (so make a negative and |a| < b)\n",
    "\n",
    "def p_streak(a, b):\n",
    "    n = 0\n",
    "    count = 0\n",
    "    while n**2 + a*n + b in primes:\n",
    "        count +=1\n",
    "        n += 1\n",
    "    return count\n",
    "\n",
    "max_count = 0\n",
    "for b in primes:\n",
    "    if b != 2 and b < 1000:\n",
    "        for a in range(1, b, 2):\n",
    "            count = p_streak(-a, b)\n",
    "            if count > max_count:\n",
    "                max_count = count\n",
    "                winner = -a*b\n",
    "winner"
   ]
  },
  {
   "cell_type": "markdown",
   "metadata": {},
   "source": [
    "# #028 Number spiral diagonals\n",
    "Starting with the number 1 and moving to the right in a clockwise direction a 5 by 5 spiral is formed as follows:\n",
    "\n",
    "21 22 23 24 25\n",
    "20  7  8  9 10\n",
    "19  6  1  2 11\n",
    "18  5  4  3 12\n",
    "17 16 15 14 13\n",
    "\n",
    "It can be verified that the sum of the numbers on the diagonals is 101.\n",
    "\n",
    "What is the sum of the numbers on the diagonals in a 1001 by 1001 spiral formed in the same way?"
   ]
  },
  {
   "cell_type": "code",
   "execution_count": null,
   "metadata": {},
   "outputs": [],
   "source": [
    "# This will consist of 501 concentric squares of odd numbers\n",
    "# Every NE corner will be a perfect odd square m^2 where m = 2n-1\n",
    "# Every NW corner will be m^2 - (m-1)\n",
    "# Every SW corner will be m^2 - 2(m-1)\n",
    "# Every SE corner will be m^2 - 3(m-1)\n",
    "# These 4 entries total 4m^2 -6m +6\n",
    "count = 1\n",
    "for n in range(2,502):\n",
    "    m = 2*n - 1\n",
    "    count += 4*m**2 - 6*m + 6\n",
    "count"
   ]
  },
  {
   "cell_type": "markdown",
   "metadata": {},
   "source": [
    "# #029 Distinct powers\n",
    "Consider all integer combinations of ab for 2 ≤ a ≤ 5 and 2 ≤ b ≤ 5:\n",
    "\n",
    "22=4, 23=8, 24=16, 25=32\n",
    "32=9, 33=27, 34=81, 35=243\n",
    "42=16, 43=64, 44=256, 45=1024\n",
    "52=25, 53=125, 54=625, 55=3125\n",
    "If they are then placed in numerical order, with any repeats removed, we get the following sequence of 15 distinct terms:\n",
    "\n",
    "4, 8, 9, 16, 25, 27, 32, 64, 81, 125, 243, 256, 625, 1024, 3125\n",
    "\n",
    "How many distinct terms are in the sequence generated by ab for 2 ≤ a ≤ 100 and 2 ≤ b ≤ 100?"
   ]
  },
  {
   "cell_type": "code",
   "execution_count": null,
   "metadata": {},
   "outputs": [],
   "source": [
    "dp = set()\n",
    "for a in range(2,101):\n",
    "    for b in range(2,101):\n",
    "        dp.add(a**b)\n",
    "len(dp)"
   ]
  },
  {
   "cell_type": "markdown",
   "metadata": {},
   "source": [
    "# #030 Digit fifth powers\n",
    "Surprisingly there are only three numbers that can be written as the sum of fourth powers of their digits:\n",
    "\n",
    "1634 = 14 + 64 + 34 + 44\n",
    "8208 = 84 + 24 + 04 + 84\n",
    "9474 = 94 + 44 + 74 + 44\n",
    "As 1 = 14 is not a sum it is not included.\n",
    "\n",
    "The sum of these numbers is 1634 + 8208 + 9474 = 19316.\n",
    "\n",
    "Find the sum of all the numbers that can be written as the sum of fifth powers of their digits."
   ]
  },
  {
   "cell_type": "code",
   "execution_count": null,
   "metadata": {},
   "outputs": [],
   "source": [
    "6*9**5"
   ]
  },
  {
   "cell_type": "code",
   "execution_count": null,
   "metadata": {},
   "outputs": [],
   "source": [
    "# 9^5 is a 5-digit number, so we need to check 5-digit numbers\n",
    "# 6*9^5 is a 6-digit number, so we need to check 6-digit numbers, at least up to 6*9^5\n",
    "# 7*9^5 is also (only) a 6-digit number, so there is no way that a 7-digit number could work\n",
    "# This means that the upper limit must be 6*9^5\n",
    "\n",
    "total = 0\n",
    "\n",
    "for n in range(2,6*9**5):\n",
    "    count = 0\n",
    "    k = n\n",
    "    while k > 0:\n",
    "        count += (k%10)**5\n",
    "        k = int(k/10)\n",
    "    if count == n:\n",
    "        print(n)\n",
    "        total += n\n",
    "\n",
    "total"
   ]
  },
  {
   "cell_type": "markdown",
   "metadata": {},
   "source": [
    "# #031 Coin sums\n",
    "In the United Kingdom the currency is made up of pound (£) and pence (p). There are eight coins in general circulation:\n",
    "\n",
    "1p, 2p, 5p, 10p, 20p, 50p, £1 (100p), and £2 (200p).\n",
    "It is possible to make £2 in the following way:\n",
    "\n",
    "1×£1 + 1×50p + 2×20p + 1×5p + 1×2p + 3×1p\n",
    "How many different ways can £2 be made using any number of coins?"
   ]
  },
  {
   "cell_type": "code",
   "execution_count": null,
   "metadata": {},
   "outputs": [],
   "source": [
    "count = 0\n",
    "amt = [0,0,0,0,0,0,0,0]\n",
    "for p1 in reversed(range(201)):\n",
    "    amt[0] = 1*p1\n",
    "    if sum(amt) == 200:\n",
    "        count += 1\n",
    "    elif sum(amt) < 200:\n",
    "        for p2 in reversed(range(101)):\n",
    "            amt[1] = 2*p2\n",
    "            if sum(amt) == 200:\n",
    "                count += 1\n",
    "            elif sum(amt) < 200 and sum(amt) % 5 == 0:\n",
    "                for p5 in reversed(range(41)):\n",
    "                    amt[2] = 5*p5\n",
    "                    if sum(amt) == 200:\n",
    "                        count += 1\n",
    "                    elif sum(amt) < 200 and sum(amt) % 10 == 0:\n",
    "                        for p10 in reversed(range(21)):\n",
    "                            amt[3] = 10*p10\n",
    "                            if sum(amt) == 200:\n",
    "                                count += 1\n",
    "                            elif sum(amt) < 200:\n",
    "                                for p20 in reversed(range(11)):\n",
    "                                    amt[4] = 20*p20\n",
    "                                    if sum(amt) == 200:\n",
    "                                        count += 1\n",
    "                                    elif sum(amt) < 200 and sum(amt) % 50 == 0:\n",
    "                                        for p50 in reversed(range(5)):\n",
    "                                            amt[5] = 50*p50\n",
    "                                            if sum(amt) == 200:\n",
    "                                                count += 1\n",
    "                                            elif sum(amt) < 200 and sum(amt) % 100 == 0:\n",
    "                                                for p100 in reversed(range(3)):\n",
    "                                                    amt[6] = 100*p100\n",
    "                                                    if sum(amt) == 200:\n",
    "                                                        count += 1\n",
    "                                                    elif sum(amt) == 0:\n",
    "                                                        for p200 in reversed(range(2)):\n",
    "                                                            amt[7] = 200*p200\n",
    "                                                            if sum(amt) == 200:\n",
    "                                                                count += 1\n",
    "count"
   ]
  },
  {
   "cell_type": "markdown",
   "metadata": {},
   "source": [
    "# #032 Pandigital products\n",
    "We shall say that an n-digit number is pandigital if it makes use of all the digits 1 to n exactly once; for example, the 5-digit number, 15234, is 1 through 5 pandigital.\n",
    "\n",
    "The product 7254 is unusual, as the identity, 39 × 186 = 7254, containing multiplicand, multiplier, and product is 1 through 9 pandigital.\n",
    "\n",
    "Find the sum of all products whose multiplicand/multiplier/product identity can be written as a 1 through 9 pandigital.\n",
    "\n",
    "HINT: Some products can be obtained in more than one way so be sure to only include it once in your sum."
   ]
  },
  {
   "cell_type": "code",
   "execution_count": null,
   "metadata": {},
   "outputs": [],
   "source": [
    "solutions = set()\n",
    "\n",
    "# 1-digit * 4-digit = 4-digit\n",
    "digs = set()\n",
    "for i in range(1,10):\n",
    "    digs.add(i)\n",
    "\n",
    "for m1 in range(1,10):\n",
    "    digs.remove(m1)\n",
    "    m2_perms = perm(digs, 4)\n",
    "    for m2 in m2_perms:\n",
    "        dig1 = m2 % 10\n",
    "        dig2 = int(m2/10) % 10\n",
    "        dig3 = int(m2/100) % 10\n",
    "        dig4 = int(m2/1000) % 10\n",
    "        digs.remove(dig1)\n",
    "        digs.remove(dig2)\n",
    "        digs.remove(dig3)\n",
    "        digs.remove(dig4)\n",
    "        prod_perms = perm(digs, 4)\n",
    "        for prod in prod_perms:\n",
    "            if m1 * m2 == prod:\n",
    "                print(str(m1) + ' * ' + str(m2) + ' = ' + str(prod))\n",
    "                solutions.add(prod)\n",
    "        digs.add(dig1)\n",
    "        digs.add(dig2)\n",
    "        digs.add(dig3)\n",
    "        digs.add(dig4)\n",
    "    digs.add(m1)\n",
    "\n",
    "# 2-digit * 3-digit = 4-digit\n",
    "\n",
    "m1_perms = perm(digs, 2)\n",
    "for m1 in m1_perms:\n",
    "    digA = m1 % 10\n",
    "    digB = int(m1/10) % 10\n",
    "    digs.remove(digA)\n",
    "    digs.remove(digB)\n",
    "    m2_perms = perm(digs, 3)\n",
    "    for m2 in m2_perms:\n",
    "        dig1 = m2 % 10\n",
    "        dig2 = int(m2/10) % 10\n",
    "        dig3 = int(m2/100) % 10\n",
    "        digs.remove(dig1)\n",
    "        digs.remove(dig2)\n",
    "        digs.remove(dig3)\n",
    "        prod_perms = perm(digs, 4)\n",
    "        for prod in prod_perms:\n",
    "            if m1 * m2 == prod:\n",
    "                print(str(m1) + ' * ' + str(m2) + ' = ' + str(prod))\n",
    "                solutions.add(prod)\n",
    "        digs.add(dig1)\n",
    "        digs.add(dig2)\n",
    "        digs.add(dig3)\n",
    "    digs.add(digA)\n",
    "    digs.add(digB)    \n",
    "\n",
    "sum(solutions)"
   ]
  },
  {
   "cell_type": "markdown",
   "metadata": {},
   "source": [
    "# #033 Digit cancelling fractions\n",
    "The fraction 49/98 is a curious fraction, as an inexperienced mathematician in attempting to simplify it may incorrectly believe that 49/98 = 4/8, which is correct, is obtained by cancelling the 9s.\n",
    "\n",
    "We shall consider fractions like, 30/50 = 3/5, to be trivial examples.\n",
    "\n",
    "There are exactly four non-trivial examples of this type of fraction, less than one in value, and containing two digits in the numerator and denominator.\n",
    "\n",
    "If the product of these four fractions is given in its lowest common terms, find the value of the denominator."
   ]
  },
  {
   "cell_type": "code",
   "execution_count": null,
   "metadata": {},
   "outputs": [],
   "source": [
    "for i in range(1,10):\n",
    "    for j in range(1,10):\n",
    "        for k in range(1,10):\n",
    "            a = 10*i + j\n",
    "            b = 10*k + i\n",
    "            if i < k and a/b == j/k:\n",
    "                print('a: ' + str(a) + ', b: ' + str(b))\n",
    "                print('  j: ' + str(j) + ', k: ' + str(k))\n",
    "            if k < i and b/a == k/j:\n",
    "                print('a: ' + str(b) + ', b: ' + str(a))\n",
    "                print('  j: ' + str(k) + ', k: ' + str(j))\n",
    "\n",
    "# (1/4) * (2/5) * (1/5) * (4/8) = 1/100"
   ]
  },
  {
   "cell_type": "markdown",
   "metadata": {},
   "source": [
    "# #034 Digit factorials\n",
    "145 is a curious number, as 1! + 4! + 5! = 1 + 24 + 120 = 145.\n",
    "\n",
    "Find the sum of all numbers which are equal to the sum of the factorial of their digits.\n",
    "\n",
    "Note: As 1! = 1 and 2! = 2 are not sums they are not included."
   ]
  },
  {
   "cell_type": "code",
   "execution_count": null,
   "metadata": {},
   "outputs": [],
   "source": [
    "# This code checks up to all 7-digit numbers. It can surely be deduced that there is a lower upper limit and\n",
    "# ... that fewer types of numbers need to be checked, but this solution was fast enough.\n",
    "\n",
    "fac = []\n",
    "for n in range(10):\n",
    "    fac.append(factorial(n))\n",
    "fac\n",
    "\n",
    "solution = set()\n",
    "\n",
    "for n in range(3,10000000):\n",
    "    k = n\n",
    "    f = 0\n",
    "    while k > 0:\n",
    "        f += fac[k%10]\n",
    "        k = int(k/10)\n",
    "    if f == n:\n",
    "        print(n)\n",
    "        solution.add(n)\n",
    "\n",
    "sum(solution)"
   ]
  },
  {
   "cell_type": "markdown",
   "metadata": {},
   "source": [
    "# #035 Circular primes\n",
    "The number, 197, is called a circular prime because all rotations of the digits: 197, 971, and 719, are themselves prime.\n",
    "\n",
    "There are thirteen such primes below 100: 2, 3, 5, 7, 11, 13, 17, 31, 37, 71, 73, 79, and 97.\n",
    "\n",
    "How many circular primes are there below one million?"
   ]
  },
  {
   "cell_type": "code",
   "execution_count": 10,
   "metadata": {},
   "outputs": [
    {
     "data": {
      "text/plain": [
       "78498"
      ]
     },
     "execution_count": 10,
     "metadata": {},
     "output_type": "execute_result"
    }
   ],
   "source": [
    "prime_gen(1000000)\n",
    "len(primes)"
   ]
  },
  {
   "cell_type": "code",
   "execution_count": 15,
   "metadata": {},
   "outputs": [
    {
     "data": {
      "text/plain": [
       "[97531]"
      ]
     },
     "execution_count": 15,
     "metadata": {},
     "output_type": "execute_result"
    }
   ],
   "source": [
    "digs = [1,3,5,7,9]\n",
    "comb(digs, 5)"
   ]
  },
  {
   "cell_type": "code",
   "execution_count": null,
   "metadata": {},
   "outputs": [],
   "source": [
    "digs = [1,3,5,7,9]\n",
    "\n",
    "solutions = set()\n",
    "\n",
    "def rotate(n):\n",
    "    sn = str(n)\n",
    "    sn = sn[-1] + sn[0:-1]\n",
    "    return int(sn)\n",
    "\n",
    "# iterate over the digit-length of the prime candidates (up to 6)\n",
    "for i in range(3,6):\n",
    "    digs.extend(digs)\n",
    "    c_set = comb(digs, i)\n",
    "    for c in c_set:\n",
    "        all_prime = False\n",
    "        for j in range(i):\n",
    "            c = rotate(c)\n",
    "            if c not in primes:\n",
    "                all_prime = False\n",
    "                break\n",
    "            all_prime = True\n",
    "        if all_prime == True:\n",
    "            for j in range(i):\n",
    "                c = rotate(c)\n",
    "                print(c)\n",
    "                solutions.add(c)\n"
   ]
  }
 ],
 "metadata": {
  "kernelspec": {
   "display_name": "Python 3",
   "language": "python",
   "name": "python3"
  },
  "language_info": {
   "codemirror_mode": {
    "name": "ipython",
    "version": 3
   },
   "file_extension": ".py",
   "mimetype": "text/x-python",
   "name": "python",
   "nbconvert_exporter": "python",
   "pygments_lexer": "ipython3",
   "version": "3.8.5"
  }
 },
 "nbformat": 4,
 "nbformat_minor": 4
}
