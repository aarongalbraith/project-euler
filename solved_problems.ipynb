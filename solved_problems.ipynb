{
 "cells": [
  {
   "cell_type": "markdown",
   "metadata": {},
   "source": [
    "# To-do:\n",
    "- resume editing at problem 32\n",
    "- bring functions over from second notebook as needed\n",
    "- edit problem tags for better navigation\n",
    "- revise loops and conditionals to list comprehension\n",
    "- improve variable names\n",
    "- make code more adaptable to new values\n",
    "- introduce recursion"
   ]
  },
  {
   "cell_type": "markdown",
   "metadata": {},
   "source": [
    "# Navigation\n",
    "\n",
    "**[Functions](#Functions)**<br>\n",
    "**[Problems](#Problems)**<br>\n",
    "**[001](#001) [002](#002) [003](#003) [004](#004) [005](#005) [006](#006) [007](#007) [008](#008) [009](#009) [010](#010) [011](#011) [012](#012) [013](#013) [014](#014) [015](#015) [016](#016) [017](#017) [018](#018) [019](#019) [020](#020) [021](#021) [022](#022) [023](#023) [024](#024) [025](#025) [026](#026) [027](#027) [028](#028) [029](#029) [030](#030) [031](#031) [032](#032) [033](#033) [034](#034) [035](#035) [036](#036) [037](#037) [038](#038) [039](#039) [040](#040) [041](#041) [042](#042) [043](#043) [044](#044) [045](#045) [046](#046) [047](#047) [048](#048) [049](#049) [050](#050) [051](#051) [052](#052) [053](#053) [054](#054) [055](#055) [056](#056) [057](#057) [058](#058) [059](#059) [060](#060) [061](#061) [062](#062) [063](#063) [064](#064) [065](#065) [066](#066) [067](#067) [068](#068) [069](#069) [070](#070) [071](#071) [072](#072) [073](#073) [074](#074) [075](#075)**<br>\n",
    "**[End of document](#End-of-document)**<br>\n",
    "\n"
   ]
  },
  {
   "cell_type": "code",
   "execution_count": 1,
   "metadata": {},
   "outputs": [],
   "source": [
    "import numpy as np\n",
    "import pandas as pd\n",
    "import itertools"
   ]
  },
  {
   "cell_type": "markdown",
   "metadata": {},
   "source": [
    "# Functions\n",
    "### Primes, prime factors, divisors"
   ]
  },
  {
   "cell_type": "code",
   "execution_count": 2,
   "metadata": {},
   "outputs": [],
   "source": [
    "def prime_gen(maximum=0, length=0):\n",
    "    \"\"\"\n",
    "    This appends more primes to the end of the primes list.\n",
    "    The primes list must already exist and contain both 2 and 3.\n",
    "    \n",
    "    maximum -- an optional maximum prime candidate\n",
    "    length -- an optional maximum length of list of primes\n",
    "    \n",
    "    if neither argument is specified, it will only add one prime\n",
    "    \"\"\"\n",
    "    solved = False\n",
    "    if maximum == 0 and length == 0:\n",
    "        length = len(primes) + 1\n",
    "    k = primes[-1] # k, once increased by 2, will be the next candidate for a prime\n",
    "    while solved == False: # set a condition so that it eventually stops generating primes\n",
    "        k += 2 # k is the next candidate for a prime\n",
    "        k_root = np.sqrt(k) # for a given k, we only need to test divisibility by primes up to k_root\n",
    "        for p in primes: # check all primes\n",
    "            if p > k_root: # once we reach a prime beyond k_root, we can conclude k is prime\n",
    "                primes.append(k)\n",
    "                if maximum > 0 and k >= maximum:\n",
    "                    solved = True\n",
    "                    if k > maximum:\n",
    "                        primes.remove(k)\n",
    "                elif length > 0 and len(primes) >= length:\n",
    "                    solved = True\n",
    "                break # skip to the next prime, or finish if solved condition is met\n",
    "            elif k%p == 0: # once we find a prime that divides k, we can conclude k is NOT prime\n",
    "                break # skip to the next prime\n",
    "            # if it fails the two tests, then the for-loop continues\n",
    "    # when we've met the while-condition, we return the list of primes\n",
    "    return primes"
   ]
  },
  {
   "cell_type": "code",
   "execution_count": 3,
   "metadata": {},
   "outputs": [],
   "source": [
    "def prime_check(n):\n",
    "    \"\"\"\n",
    "    returns True for prime n, False for composite n or n = < 2\n",
    "    this function will generate primes as needed and only if needed, only up to the square root of n\n",
    "    \"\"\"\n",
    "    if n in [0, 1]:\n",
    "        return False\n",
    "    n_root = int(np.sqrt(n))\n",
    "    for p in primes:\n",
    "        if p > n_root:\n",
    "            return True\n",
    "        elif n%p == 0:\n",
    "            return False\n",
    "    prime_gen(maximum=n_root)\n",
    "    prime_gen()\n",
    "    return prime_check(n)"
   ]
  },
  {
   "cell_type": "code",
   "execution_count": 4,
   "metadata": {},
   "outputs": [],
   "source": [
    "# this will generate a dictionary of prime factors of a number and their powers\n",
    "def prime_fac(n):\n",
    "    \"\"\"\n",
    "    returns a dictionary whose keys are the unique prime factors of an integer and whose values are\n",
    "    the powers that correspond to those primes\n",
    "    \"\"\"\n",
    "    fac = {} # establish a dictionary that will record primes and powers\n",
    "    for p in primes: # check all primes\n",
    "        if p > np.sqrt(n): # once we reach a prime beyond n_root, we can stop checking primes\n",
    "            fac[n] = 1 # if we have not discovered any divisors, then n itself is prime!\n",
    "            break\n",
    "        if n%p == 0: # check divisibility by p\n",
    "            fac[p] = 1\n",
    "            n = n/p\n",
    "            while n%p == 0:\n",
    "                fac[p] += 1 # increase the power of p in the dictionary\n",
    "                n = n//p # update n to a new number to test\n",
    "        # if we're at the end of the primes list and need more primes, generate some more\n",
    "        if p == primes[-1] and p < np.sqrt(n): # generate more primes if needed\n",
    "            prime_gen(maximum=int(np.sqrt(n)))\n",
    "        if n == 1: # when we've finished dividing by primes, end the loop\n",
    "            break\n",
    "    return fac"
   ]
  },
  {
   "cell_type": "code",
   "execution_count": 5,
   "metadata": {},
   "outputs": [],
   "source": [
    "# this will generate a complete list of divisors of a number, including 1 and itself\n",
    "def list_divs(n):\n",
    "    \"\"\"\n",
    "    returns a list of all the divisors of n, including 1 and including n\n",
    "    \"\"\"\n",
    "    pf = prime_fac(n)\n",
    "    divs = [1]\n",
    "    if n == 1:\n",
    "        return divs\n",
    "    for p in pf:\n",
    "        divs_temp = set(divs)\n",
    "        for k in divs_temp:\n",
    "            for e in range(pf[p]):\n",
    "                divs.append(k * p**(e+1))\n",
    "    return divs"
   ]
  },
  {
   "cell_type": "code",
   "execution_count": 6,
   "metadata": {},
   "outputs": [],
   "source": [
    "def GCF(integer_list):\n",
    "    \"\"\"\n",
    "    returns the GCF of a list of two or more integers\n",
    "    this uses the Euclidean algorithm\n",
    "    it is possible that a function based on prime factorization could be more efficient\n",
    "    \"\"\"\n",
    "    if len(integer_list) > 2:\n",
    "        return GCF([GCF(integer_list[:2])] + integer_list[2:])\n",
    "    else:\n",
    "        while integer_list[0] % integer_list[1] != 0:\n",
    "            return GCF([integer_list[1], integer_list[0] % integer_list[1]])\n",
    "        return integer_list[1]"
   ]
  },
  {
   "cell_type": "code",
   "execution_count": 7,
   "metadata": {},
   "outputs": [],
   "source": [
    "def LCM(integer_list):\n",
    "    \"\"\"\n",
    "    returns the LCM of a list of two or more integers\n",
    "    this uses the GCF of the list\n",
    "    it is possible that a function based on prime factorization could be more efficient\n",
    "    \"\"\"\n",
    "    if len(integer_list) > 2:\n",
    "        return LCM([LCM(integer_list[:2])] + integer_list[2:])\n",
    "    else:\n",
    "        return int(integer_list[0] * integer_list[1] / GCF(integer_list))"
   ]
  },
  {
   "cell_type": "markdown",
   "metadata": {},
   "source": [
    "### Combinatorics"
   ]
  },
  {
   "cell_type": "code",
   "execution_count": 8,
   "metadata": {},
   "outputs": [],
   "source": [
    "def factorial(n):\n",
    "    \"\"\"\n",
    "    returns n!, the factorial of a nonnegative integer n\n",
    "    \"\"\"\n",
    "    if n == 1 or n == 0:\n",
    "        return 1\n",
    "    else:\n",
    "        return n * factorial(n-1)"
   ]
  },
  {
   "cell_type": "code",
   "execution_count": 9,
   "metadata": {},
   "outputs": [],
   "source": [
    "def nCr(n, r):\n",
    "    \"\"\"\n",
    "    returns the number of combinations of r elements selected from n elements\n",
    "    \"\"\"\n",
    "    return int(factorial(n) / (factorial(r) * factorial(n-r)))"
   ]
  },
  {
   "cell_type": "code",
   "execution_count": 10,
   "metadata": {},
   "outputs": [],
   "source": [
    "def nPr(n, r):\n",
    "    \"\"\"\n",
    "    returns the number of permutations of r elements selected from n elements\n",
    "    \"\"\"\n",
    "    return int(factorial(n) / factorial(n-r))"
   ]
  },
  {
   "cell_type": "code",
   "execution_count": 11,
   "metadata": {},
   "outputs": [],
   "source": [
    "def combinations(number_as_string, n):\n",
    "    \"\"\"\n",
    "    takes an alphanumeric string and returns the list of its (unique) n-combinations as strings\n",
    "    \"\"\"\n",
    "    result = []\n",
    "    for comb in list(itertools.combinations(number_as_string, n)):\n",
    "        result.append('')\n",
    "        for j in range(n):\n",
    "            result[-1] +=comb[j]\n",
    "    result = list(set(result))\n",
    "    result.sort()\n",
    "    return result"
   ]
  },
  {
   "cell_type": "code",
   "execution_count": 12,
   "metadata": {},
   "outputs": [],
   "source": [
    "def permutations(number_as_string, n):\n",
    "    \"\"\"\n",
    "    takes an alphanumeric string and returns the list of its (unique) n-permutations as strings\n",
    "    \"\"\"\n",
    "    result = []\n",
    "    for perm in list(itertools.permutations(number_as_string, n)):\n",
    "        result.append('')\n",
    "        for j in range(n):\n",
    "            result[-1] +=perm[j]\n",
    "    result = list(set(result))\n",
    "    result.sort()\n",
    "    return result"
   ]
  },
  {
   "cell_type": "markdown",
   "metadata": {},
   "source": [
    "# Problems"
   ]
  },
  {
   "cell_type": "markdown",
   "metadata": {},
   "source": [
    "# 001\n",
    "**[Navigation](#Navigation)**\n",
    "## Multiples of 3 or 5\n",
    "![problem 001](images/001.jpg)"
   ]
  },
  {
   "cell_type": "code",
   "execution_count": 13,
   "metadata": {},
   "outputs": [
    {
     "name": "stdout",
     "output_type": "stream",
     "text": [
      "CPU times: user 120 µs, sys: 4 µs, total: 124 µs\n",
      "Wall time: 128 µs\n"
     ]
    },
    {
     "data": {
      "text/plain": [
       "233168"
      ]
     },
     "execution_count": 13,
     "metadata": {},
     "output_type": "execute_result"
    }
   ],
   "source": [
    "%%time\n",
    "\n",
    "sum([n for n in range(1,1000) if n%3 == 0 or n%5 == 0])"
   ]
  },
  {
   "cell_type": "markdown",
   "metadata": {},
   "source": [
    "# 002\n",
    "**[Navigation](#Navigation)**\n",
    "## Even Fibonacci numbers\n",
    "![problem 002](images/002.jpg)\n",
    "## Comments:\n",
    "There are some different ways to count the even terms, such as adding even terms to a separate list and summing that list, or generating the terms three at a time (because every third term is even). None of these changes the runtime.\n",
    "\n",
    "We can also use [phi](https://en.wikipedia.org/wiki/Golden_ratio) to calculate successive terms of the sequence, but this is slower than using the traditional formula.\n",
    "## Related problems:\n",
    "**[025 1000-digit Fibonacci number](#025)**"
   ]
  },
  {
   "cell_type": "code",
   "execution_count": 14,
   "metadata": {},
   "outputs": [
    {
     "name": "stdout",
     "output_type": "stream",
     "text": [
      "CPU times: user 30 µs, sys: 0 ns, total: 30 µs\n",
      "Wall time: 34.1 µs\n"
     ]
    },
    {
     "data": {
      "text/plain": [
       "4613732"
      ]
     },
     "execution_count": 14,
     "metadata": {},
     "output_type": "execute_result"
    }
   ],
   "source": [
    "%%time\n",
    "\n",
    "# method 1:\n",
    "# generate terms by adding two previous terms\n",
    "\n",
    "fibonacci = [1,1] # seed the sequence\n",
    "total = 0\n",
    "solved = False\n",
    "while solved == False:\n",
    "    fibonacci.append(fibonacci[-1] + fibonacci[-2]) # extend the sequence\n",
    "    if fibonacci[-1] >= 4000000:\n",
    "        solved = True\n",
    "        break\n",
    "    elif fibonacci[-1]%2 == 0:\n",
    "        total += fibonacci[-1]\n",
    "total"
   ]
  },
  {
   "cell_type": "code",
   "execution_count": 15,
   "metadata": {},
   "outputs": [
    {
     "name": "stdout",
     "output_type": "stream",
     "text": [
      "CPU times: user 127 µs, sys: 52 µs, total: 179 µs\n",
      "Wall time: 183 µs\n"
     ]
    },
    {
     "data": {
      "text/plain": [
       "4613732"
      ]
     },
     "execution_count": 15,
     "metadata": {},
     "output_type": "execute_result"
    }
   ],
   "source": [
    "%%time\n",
    "\n",
    "# method 2:\n",
    "# generate terms by multiplying previous term by phi and rounding\n",
    "\n",
    "fibonacci = [1] # seed the sequence ... we can skip the first term\n",
    "phi = (1+np.sqrt(5))/2\n",
    "total = 0\n",
    "solved = False\n",
    "while solved == False:\n",
    "    fibonacci.append(int(round(fibonacci[-1] * phi, 0))) # extend the sequence\n",
    "    if fibonacci[-1] >= 4000000:\n",
    "        solved = True\n",
    "        break\n",
    "    elif fibonacci[-1]%2 == 0:\n",
    "        total += fibonacci[-1]\n",
    "total"
   ]
  },
  {
   "cell_type": "markdown",
   "metadata": {},
   "source": [
    "# 003\n",
    "**[Navigation](#Navigation)**\n",
    "## Largest prime factor\n",
    "![problem 003](images/003.jpg)\n",
    "## Comments:\n",
    "This is the first problem that uses the `prime_gen()` function to extend the list of primes.\n",
    "\n",
    "Note that generating one prime at a time, as needed, does not take longer than generating exactly the number of needed primes — which we can't know until we've solved the problem anyway — in advance ."
   ]
  },
  {
   "cell_type": "code",
   "execution_count": 16,
   "metadata": {},
   "outputs": [
    {
     "name": "stdout",
     "output_type": "stream",
     "text": [
      "CPU times: user 8.88 ms, sys: 557 µs, total: 9.43 ms\n",
      "Wall time: 9.43 ms\n"
     ]
    },
    {
     "data": {
      "text/plain": [
       "6857"
      ]
     },
     "execution_count": 16,
     "metadata": {},
     "output_type": "execute_result"
    }
   ],
   "source": [
    "%%time\n",
    "\n",
    "# method 1:\n",
    "# generate one prime at a time as you go along\n",
    "\n",
    "n = 600851475143\n",
    "primes = [2, 3] # seed the list of primes\n",
    "i = 0\n",
    "p = primes[i] # the first prime is 2\n",
    "\n",
    "while p < n:\n",
    "    while n%p == 0:\n",
    "        n = n/p\n",
    "    if n == 1:\n",
    "        break\n",
    "    else:\n",
    "        i += 1\n",
    "        if len(primes) <= i:\n",
    "            prime_gen()\n",
    "        p = primes[i]\n",
    "p"
   ]
  },
  {
   "cell_type": "code",
   "execution_count": 17,
   "metadata": {},
   "outputs": [
    {
     "name": "stdout",
     "output_type": "stream",
     "text": [
      "CPU times: user 9.32 ms, sys: 357 µs, total: 9.68 ms\n",
      "Wall time: 10.5 ms\n"
     ]
    },
    {
     "data": {
      "text/plain": [
       "6857"
      ]
     },
     "execution_count": 17,
     "metadata": {},
     "output_type": "execute_result"
    }
   ],
   "source": [
    "%%time\n",
    "\n",
    "# method 2:\n",
    "# generate the maximum list of primes possibly needed first and then run the loop\n",
    "\n",
    "n = 600851475143\n",
    "primes = [2, 3] # handicap the primes list in order to calculate true time\n",
    "prime_gen(maximum=6857)\n",
    "i = 0\n",
    "p = primes[i]\n",
    "\n",
    "while p < n:\n",
    "    while n%p == 0:\n",
    "        n = n/p\n",
    "    if n == 1:\n",
    "        break\n",
    "    else:\n",
    "        i += 1\n",
    "        p = primes[i]\n",
    "p"
   ]
  },
  {
   "cell_type": "markdown",
   "metadata": {},
   "source": [
    "# 004\n",
    "**[Navigation](#Navigation)**\n",
    "## Largest palindrome product\n",
    "![problem 004](images/004.jpg)\n",
    "## Comments:\n",
    "We can iterate (in descending order) over pairs of 3-digit numbers looking for the palindrome condition, or we can iterate (in descending order) over 5- and 6-digit palindromes and look for the factor condition. In the latter case, the first palindrome that meets the factor condition will be the largest. In the former case, we should keep looking beyond the first time we meet the palindrome condition, but we can modify the range of numbers we loop over.\n",
    "\n",
    "Iterating over the palindromes turns out to be significantly faster.\n",
    "## Related problems:\n",
    "**[036 Double-base palindromes](#036)** | **[055 Lychrel numbers](#055)**"
   ]
  },
  {
   "cell_type": "code",
   "execution_count": 18,
   "metadata": {},
   "outputs": [
    {
     "name": "stdout",
     "output_type": "stream",
     "text": [
      "CPU times: user 3.37 ms, sys: 167 µs, total: 3.54 ms\n",
      "Wall time: 3.79 ms\n"
     ]
    },
    {
     "data": {
      "text/plain": [
       "906609"
      ]
     },
     "execution_count": 18,
     "metadata": {},
     "output_type": "execute_result"
    }
   ],
   "source": [
    "%%time\n",
    "\n",
    "# method 1:\n",
    "# iterate over products of 3-digit numbers, check for palindrome condition\n",
    "\n",
    "pal = 10001 # this is the smallest potential palindrome that could be the product of 3-digit numbers\n",
    "for m in range(999,99,-1):\n",
    "    if m**2 < pal: # if m**2 < pal, then mn < pal (since n < m), so not worth checking (and done)\n",
    "        break\n",
    "    for n in range(m-1,pal//m,-1): # if n < pal//m, then mn < pal, so not worth checking\n",
    "        mn = str(m*n)\n",
    "        if mn[0] == mn[-1] and mn[1] == mn[-2] and mn[2] == mn[-3]:\n",
    "            pal = m*n\n",
    "            break # stop checking n's in this range; move to the next m\n",
    "pal"
   ]
  },
  {
   "cell_type": "code",
   "execution_count": 19,
   "metadata": {},
   "outputs": [
    {
     "name": "stdout",
     "output_type": "stream",
     "text": [
      "CPU times: user 607 µs, sys: 3 µs, total: 610 µs\n",
      "Wall time: 614 µs\n"
     ]
    },
    {
     "data": {
      "text/plain": [
       "906609"
      ]
     },
     "execution_count": 19,
     "metadata": {},
     "output_type": "execute_result"
    }
   ],
   "source": [
    "%%time\n",
    "\n",
    "# method 2:\n",
    "# iterate over palindromes, check for 3-digit factor condition\n",
    "\n",
    "pal_seed = 998 # seed of largest possible palindrome, 998899\n",
    "solved = False\n",
    "while solved == False:\n",
    "    num = int(str(pal_seed) + str(pal_seed)[::-1]) # easier to create palindromes as if we're \"spelling\" the number\n",
    "    for div in range(int(np.sqrt(num)), 1000):\n",
    "        if num % div == 0:\n",
    "            solved = True\n",
    "            break\n",
    "    pal_seed -= 1\n",
    "num"
   ]
  },
  {
   "cell_type": "markdown",
   "metadata": {},
   "source": [
    "# 005\n",
    "**[Navigation](#Navigation)**\n",
    "## Smallest multiple\n",
    "![problem 005](images/005.jpg)\n",
    "## Comments:\n",
    "This problem is trivial to calculate directly by multiplying relevant maximal powers of prime factors.\n",
    "\n",
    "The method below is adaptable to other contexts. This is the first problem to use the `prime_fac()` function."
   ]
  },
  {
   "cell_type": "code",
   "execution_count": 20,
   "metadata": {},
   "outputs": [
    {
     "name": "stdout",
     "output_type": "stream",
     "text": [
      "CPU times: user 319 µs, sys: 7 µs, total: 326 µs\n",
      "Wall time: 342 µs\n"
     ]
    },
    {
     "data": {
      "text/plain": [
       "232792560"
      ]
     },
     "execution_count": 20,
     "metadata": {},
     "output_type": "execute_result"
    }
   ],
   "source": [
    "%%time\n",
    "\n",
    "pf = {} # establish a dictionary to hold the prime factorization of the answer\n",
    "        # keys will be primes and values will be their corresponding powers\n",
    "\n",
    "for n in range(2,21):\n",
    "    for p in prime_fac(n): # iterate over prime factors of n\n",
    "        if p not in pf or pf[p] < prime_fac(n)[p]: # determine whether we need to modify the power of p\n",
    "            pf[p] = prime_fac(n)[p]\n",
    "\n",
    "num = 1 # seed the answer\n",
    "for p in pf: # construct the answer from the relevant maximal powers of primes\n",
    "    num *= p**pf[p]\n",
    "\n",
    "num"
   ]
  },
  {
   "cell_type": "code",
   "execution_count": 21,
   "metadata": {},
   "outputs": [
    {
     "name": "stdout",
     "output_type": "stream",
     "text": [
      "CPU times: user 3 µs, sys: 1 µs, total: 4 µs\n",
      "Wall time: 6.91 µs\n"
     ]
    },
    {
     "data": {
      "text/plain": [
       "232792560"
      ]
     },
     "execution_count": 21,
     "metadata": {},
     "output_type": "execute_result"
    }
   ],
   "source": [
    "%%time\n",
    "\n",
    "2**4 * 3**2 * 5 * 7 * 11 * 13 * 17 * 19"
   ]
  },
  {
   "cell_type": "markdown",
   "metadata": {},
   "source": [
    "# 006\n",
    "**[Navigation](#Navigation)**\n",
    "## Sum square difference\n",
    "![problem 006](images/006.jpg)"
   ]
  },
  {
   "cell_type": "code",
   "execution_count": 22,
   "metadata": {},
   "outputs": [
    {
     "name": "stdout",
     "output_type": "stream",
     "text": [
      "CPU times: user 42 µs, sys: 0 ns, total: 42 µs\n",
      "Wall time: 46 µs\n"
     ]
    },
    {
     "data": {
      "text/plain": [
       "25164150"
      ]
     },
     "execution_count": 22,
     "metadata": {},
     "output_type": "execute_result"
    }
   ],
   "source": [
    "%%time\n",
    "\n",
    "sum(range(101))**2 - sum([n**2 for n in range(101)])"
   ]
  },
  {
   "cell_type": "markdown",
   "metadata": {},
   "source": [
    "# 007\n",
    "**[Navigation](#Navigation)**\n",
    "## 10001st prime\n",
    "![problem 007](images/007.jpg)"
   ]
  },
  {
   "cell_type": "code",
   "execution_count": 23,
   "metadata": {},
   "outputs": [
    {
     "name": "stdout",
     "output_type": "stream",
     "text": [
      "CPU times: user 155 ms, sys: 6.79 ms, total: 162 ms\n",
      "Wall time: 175 ms\n"
     ]
    },
    {
     "data": {
      "text/plain": [
       "104743"
      ]
     },
     "execution_count": 23,
     "metadata": {},
     "output_type": "execute_result"
    }
   ],
   "source": [
    "%%time\n",
    "\n",
    "primes = [2, 3] # seed the list of primes\n",
    "prime_gen(length=10001)\n",
    "primes[10000]"
   ]
  },
  {
   "cell_type": "markdown",
   "metadata": {},
   "source": [
    "# 008\n",
    "**[Navigation](#Navigation)**\n",
    "## Largest product in a series\n",
    "![problem 008](images/008.jpg)"
   ]
  },
  {
   "cell_type": "code",
   "execution_count": 24,
   "metadata": {},
   "outputs": [],
   "source": [
    "n_as_string = '7316717653133062491922511967442657474235534919493496983520312774506326239578318016984801869478851843858615607891129494954595017379583319528532088055111254069874715852386305071569329096329522744304355766896648950445244523161731856403098711121722383113622298934233803081353362766142828064444866452387493035890729629049156044077239071381051585930796086670172427121883998797908792274921901699720888093776657273330010533678812202354218097512545405947522435258490771167055601360483958644670632441572215539753697817977846174064955149290862569321978468622482839722413756570560574902614079729686524145351004748216637048440319989000889524345065854122758866688116427171479924442928230863465674813919123162824586178664583591245665294765456828489128831426076900422421902267105562632111110937054421750694165896040807198403850962455444362981230987879927244284909188845801561660979191338754992005240636899125607176060588611646710940507754100225698315520005593572972571636269561882670428252483600823257530420752963450'"
   ]
  },
  {
   "cell_type": "code",
   "execution_count": 25,
   "metadata": {},
   "outputs": [
    {
     "name": "stdout",
     "output_type": "stream",
     "text": [
      "CPU times: user 4.32 ms, sys: 144 µs, total: 4.47 ms\n",
      "Wall time: 4.41 ms\n"
     ]
    },
    {
     "data": {
      "text/plain": [
       "23514624000"
      ]
     },
     "execution_count": 25,
     "metadata": {},
     "output_type": "execute_result"
    }
   ],
   "source": [
    "%%time\n",
    "\n",
    "max_prod = 0\n",
    "for i in range(len(n_as_string)-12):\n",
    "    prod = 1\n",
    "    for j in range(13):\n",
    "        prod *= int((n_as_string)[i+j])\n",
    "    if prod > max_prod:\n",
    "        max_prod = prod\n",
    "max_prod"
   ]
  },
  {
   "cell_type": "markdown",
   "metadata": {},
   "source": [
    "# 009\n",
    "**[Navigation](#Navigation)**\n",
    "## Special Pythagorean triplet\n",
    "![problem 009](images/009.jpg)\n",
    "## Comments:\n",
    "We can substitute `c = 1000 - (a + b)` into the Pythagorean Theorem and solve for `b` in terms of `a` (the squared terms cancel out, making the algebra quite manageable). This gives us expressions for *both* `b` *and* `c` in terms of `a`. Then we only need to iterate over `a` until we arrive at an integer value for `b`; `c` will automatically be an integer, too, and the Pythagorean Theorem will hold for the generated values of `b` and `c` because we defined them that way.\n",
    "\n",
    "This method of iterating only over `a` turns out to be much faster than iterating over `a` and `b`.\n",
    "## Related problems:\n",
    "**[039 Integer right triangles](#039)**"
   ]
  },
  {
   "cell_type": "code",
   "execution_count": 26,
   "metadata": {},
   "outputs": [
    {
     "name": "stdout",
     "output_type": "stream",
     "text": [
      "CPU times: user 82.5 ms, sys: 3.74 ms, total: 86.3 ms\n",
      "Wall time: 92 ms\n"
     ]
    },
    {
     "data": {
      "text/plain": [
       "31875000"
      ]
     },
     "execution_count": 26,
     "metadata": {},
     "output_type": "execute_result"
    }
   ],
   "source": [
    "%%time\n",
    "\n",
    "# method 1:\n",
    "# iterate over a and b, derive c, then check Pythagorean condition\n",
    "\n",
    "solved = False\n",
    "b = 0\n",
    "while solved == False:\n",
    "    b += 1\n",
    "    a = 0\n",
    "    while solved == False and a < b:\n",
    "        a += 1\n",
    "        c = 1000 - a - b\n",
    "        if a**2 + b**2 == c**2:\n",
    "            solved = True\n",
    "            break\n",
    "a*b*c"
   ]
  },
  {
   "cell_type": "code",
   "execution_count": 27,
   "metadata": {},
   "outputs": [
    {
     "name": "stdout",
     "output_type": "stream",
     "text": [
      "CPU times: user 171 µs, sys: 20 µs, total: 191 µs\n",
      "Wall time: 429 µs\n"
     ]
    },
    {
     "data": {
      "text/plain": [
       "31875000"
      ]
     },
     "execution_count": 27,
     "metadata": {},
     "output_type": "execute_result"
    }
   ],
   "source": [
    "%%time\n",
    "\n",
    "# method 2:\n",
    "# iterate over a, derive b and c, check integer condition\n",
    "\n",
    "a = 0\n",
    "solved = False\n",
    "while solved == False:\n",
    "    a += 1\n",
    "    b = 1000 * (500 - a) / (1000 - a)\n",
    "    if b == int(b):\n",
    "        c = 1000 - a - b\n",
    "        solved = True\n",
    "        break\n",
    "int(a*b*c)"
   ]
  },
  {
   "cell_type": "markdown",
   "metadata": {},
   "source": [
    "# 010\n",
    "**[Navigation](#Navigation)**\n",
    "## Summation of primes\n",
    "![problem 010](images/010.jpg)"
   ]
  },
  {
   "cell_type": "code",
   "execution_count": 28,
   "metadata": {},
   "outputs": [
    {
     "name": "stdout",
     "output_type": "stream",
     "text": [
      "CPU times: user 4.52 s, sys: 75.9 ms, total: 4.6 s\n",
      "Wall time: 4.74 s\n"
     ]
    },
    {
     "data": {
      "text/plain": [
       "142913828922"
      ]
     },
     "execution_count": 28,
     "metadata": {},
     "output_type": "execute_result"
    }
   ],
   "source": [
    "%%time\n",
    "\n",
    "primes = [2, 3] # generate the list of primes\n",
    "prime_gen(maximum=2000000)\n",
    "sum(primes)"
   ]
  },
  {
   "cell_type": "markdown",
   "metadata": {},
   "source": [
    "# 011\n",
    "**[Navigation](#Navigation)**\n",
    "## Largest product in a grid\n",
    "![problem 011](images/011.jpg)\n",
    "## Comments:\n",
    "This is mostly an iteration headache. We can use a function to tighten up the code, but it increases the runtime."
   ]
  },
  {
   "cell_type": "code",
   "execution_count": 29,
   "metadata": {},
   "outputs": [],
   "source": [
    "grid_as_string = \"08 02 22 97 38 15 00 40 00 75 04 05 07 78 52 12 50 77 91 08 49 49 99 40 17 81 18 57 60 87 17 40 98 43 69 48 04 56 62 00 81 49 31 73 55 79 14 29 93 71 40 67 53 88 30 03 49 13 36 65 52 70 95 23 04 60 11 42 69 24 68 56 01 32 56 71 37 02 36 91 22 31 16 71 51 67 63 89 41 92 36 54 22 40 40 28 66 33 13 80 24 47 32 60 99 03 45 02 44 75 33 53 78 36 84 20 35 17 12 50 32 98 81 28 64 23 67 10 26 38 40 67 59 54 70 66 18 38 64 70 67 26 20 68 02 62 12 20 95 63 94 39 63 08 40 91 66 49 94 21 24 55 58 05 66 73 99 26 97 17 78 78 96 83 14 88 34 89 63 72 21 36 23 09 75 00 76 44 20 45 35 14 00 61 33 97 34 31 33 95 78 17 53 28 22 75 31 67 15 94 03 80 04 62 16 14 09 53 56 92 16 39 05 42 96 35 31 47 55 58 88 24 00 17 54 24 36 29 85 57 86 56 00 48 35 71 89 07 05 44 44 37 44 60 21 58 51 54 17 58 19 80 81 68 05 94 47 69 28 73 92 13 86 52 17 77 04 89 55 40 04 52 08 83 97 35 99 16 07 97 57 32 16 26 26 79 33 27 98 66 88 36 68 87 57 62 20 72 03 46 33 67 46 55 12 32 63 93 53 69 04 42 16 73 38 25 39 11 24 94 72 18 08 46 29 32 40 62 76 36 20 69 36 41 72 30 23 88 34 62 99 69 82 67 59 85 74 04 36 16 20 73 35 29 78 31 90 01 74 31 49 71 48 86 81 16 23 57 05 54 01 70 54 71 83 51 54 69 16 92 33 48 61 43 52 01 89 19 67 48\""
   ]
  },
  {
   "cell_type": "code",
   "execution_count": 30,
   "metadata": {},
   "outputs": [
    {
     "name": "stdout",
     "output_type": "stream",
     "text": [
      "CPU times: user 810 µs, sys: 16 µs, total: 826 µs\n",
      "Wall time: 828 µs\n"
     ]
    },
    {
     "data": {
      "text/plain": [
       "70600674"
      ]
     },
     "execution_count": 30,
     "metadata": {},
     "output_type": "execute_result"
    }
   ],
   "source": [
    "%%time\n",
    "\n",
    "# method 1:\n",
    "# write out more iteration\n",
    "\n",
    "four_hundred_numbers = list(grid_as_string.split(' ')) # create a list of 400 numbers as strings\n",
    "num_grid = [] # create an array that will hold 20 rows of 20 numbers each\n",
    "for row in range(20): # iterate over the 20 rows\n",
    "    num_grid.append([int(n) for n in four_hundred_numbers[20*row:20*row+20]]) # populate each row with 20 numbers\n",
    "\n",
    "maxprod = 0\n",
    "\n",
    "for row in range(20):\n",
    "    for col in range(20):\n",
    "        # check all vertical 4-products\n",
    "        if col < 17:\n",
    "            prod = num_grid[row][col] * num_grid[row][col+1] * num_grid[row][col+2] * num_grid[row][col+3]\n",
    "            if prod > maxprod:\n",
    "                maxprod = prod\n",
    "        # check all horizontal 4-products\n",
    "        if row < 17:\n",
    "            prod = num_grid[row][col] * num_grid[row+1][col] * num_grid[row+2][col] * num_grid[row+3][col]\n",
    "            if prod > maxprod:\n",
    "                maxprod = prod\n",
    "        # check all diagonal 4-products\n",
    "        if row < 17 and col < 17:\n",
    "            prod = num_grid[row][col] * num_grid[row+1][col+1] * num_grid[row+2][col+2] * num_grid[row+3][col+3]\n",
    "            if prod > maxprod:\n",
    "                maxprod = prod\n",
    "        # check all antidiagonal 4-products\n",
    "        if row > 2 and col < 17:\n",
    "            prod = num_grid[row][col] * num_grid[row-1][col+1] * num_grid[row-2][col+2] * num_grid[row-3][col+3]\n",
    "            if prod > maxprod:\n",
    "                maxprod = prod\n",
    "\n",
    "maxprod"
   ]
  },
  {
   "cell_type": "code",
   "execution_count": 31,
   "metadata": {},
   "outputs": [
    {
     "name": "stdout",
     "output_type": "stream",
     "text": [
      "CPU times: user 2.35 ms, sys: 5 µs, total: 2.36 ms\n",
      "Wall time: 2.39 ms\n"
     ]
    },
    {
     "data": {
      "text/plain": [
       "70600674"
      ]
     },
     "execution_count": 31,
     "metadata": {},
     "output_type": "execute_result"
    }
   ],
   "source": [
    "%%time\n",
    "\n",
    "# method 2:\n",
    "# use a function to handle much of the iteration\n",
    "\n",
    "def check_product(\n",
    "    row, col, max_prod,\n",
    "    r_range=range(20), c_range=range(20), # specify eligible range of row and column values\n",
    "    r_inc=0, c_inc=0 # specify increments to grow row and col values (to trace 4 numbers in a certain direction)\n",
    "):\n",
    "    if row in r_range and col in c_range:\n",
    "        prod = 1\n",
    "        for i in range(4):\n",
    "            prod *= num_grid[row+i*r_inc][col+i*c_inc]\n",
    "        if prod > max_prod:\n",
    "            return prod\n",
    "    return max_prod\n",
    "\n",
    "four_hundred_numbers = list(grid_as_string.split(' ')) # create a list of 400 numbers as strings\n",
    "num_grid = [] # create an array that will hold 20 rows of 20 numbers each\n",
    "for row in range(20): # iterate over the 20 rows\n",
    "    num_grid.append([int(n) for n in four_hundred_numbers[20*row:20*row+20]]) # populate each row with 20 numbers\n",
    "\n",
    "max_prod = 0\n",
    "\n",
    "for row in range(20):\n",
    "    for col in range(20):\n",
    "        # check all vertical 4-products\n",
    "        max_prod = check_product(row, col, max_prod, c_range=range(17), c_inc=1)\n",
    "        # check all horizontal 4-products\n",
    "        max_prod = check_product(row, col, max_prod, r_range=range(17), r_inc=1)\n",
    "        # check all diagonal 4-products\n",
    "        max_prod = check_product(row, col, max_prod, r_range=range(17), c_range=range(17), r_inc=1, c_inc=1)\n",
    "        # check all antidiagonal 4-products\n",
    "        max_prod = check_product(row, col, max_prod, r_range=range(3,20), c_range=range(17), r_inc=-1, c_inc=1)\n",
    "\n",
    "max_prod"
   ]
  },
  {
   "cell_type": "markdown",
   "metadata": {},
   "source": [
    "# 012\n",
    "**[Navigation](#Navigation)**\n",
    "## Highly divisible triangular number\n",
    "![problem 012](images/012.jpg)\n",
    "## Comments:\n",
    "The formula for the nth triangular number `Tn` is `(n)(n+1)/2`. `n` and `n+1` are a pair of consecutive numbers — which necessarily do not share any common divisors — and `Tn` then can be written as the product of two numbers: 1) the odd number of that pair, and 2) the even number of that pair divided by 2. These two factors of `Tn` also do not share any common divisors; thus the number of `Tn`'s divisors is determined by the number of the two factors' divisors."
   ]
  },
  {
   "cell_type": "code",
   "execution_count": 32,
   "metadata": {},
   "outputs": [
    {
     "name": "stdout",
     "output_type": "stream",
     "text": [
      "CPU times: user 442 ms, sys: 10.6 ms, total: 452 ms\n",
      "Wall time: 465 ms\n"
     ]
    },
    {
     "data": {
      "text/plain": [
       "76576500"
      ]
     },
     "execution_count": 32,
     "metadata": {},
     "output_type": "execute_result"
    }
   ],
   "source": [
    "%%time\n",
    "\n",
    "n, odd_factor = 0, 1 # establish baseline values to build upon\n",
    "                     # \"even_factor\" is not necessarily even - it is the result of\n",
    "                     # dividing the even number from the consecutive pair by two\n",
    "\n",
    "solved = False\n",
    "while solved == False:\n",
    "    n += 1\n",
    "    if n%2 == 1: # for odd n, odd_factor does not change\n",
    "        even_factor = (n+1)/2\n",
    "    else: # for even n, even_factor does not change\n",
    "        odd_factor = n+1\n",
    "    if len(list_divs(odd_factor)) * len(list_divs(even_factor)) > 500:\n",
    "        solved = True\n",
    "        break\n",
    "\n",
    "int(odd_factor * even_factor)"
   ]
  },
  {
   "cell_type": "markdown",
   "metadata": {},
   "source": [
    "# 013\n",
    "**[Navigation](#Navigation)**\n",
    "## Large sum\n",
    "![problem 013](images/013.jpg)"
   ]
  },
  {
   "cell_type": "code",
   "execution_count": 33,
   "metadata": {},
   "outputs": [],
   "source": [
    "one_hundred_numbers_as_string = '37107287533902102798797998220837590246510135740250 46376937677490009712648124896970078050417018260538 74324986199524741059474233309513058123726617309629 91942213363574161572522430563301811072406154908250 23067588207539346171171980310421047513778063246676 89261670696623633820136378418383684178734361726757 28112879812849979408065481931592621691275889832738 44274228917432520321923589422876796487670272189318 47451445736001306439091167216856844588711603153276 70386486105843025439939619828917593665686757934951 62176457141856560629502157223196586755079324193331 64906352462741904929101432445813822663347944758178 92575867718337217661963751590579239728245598838407 58203565325359399008402633568948830189458628227828 80181199384826282014278194139940567587151170094390 35398664372827112653829987240784473053190104293586 86515506006295864861532075273371959191420517255829 71693888707715466499115593487603532921714970056938 54370070576826684624621495650076471787294438377604 53282654108756828443191190634694037855217779295145 36123272525000296071075082563815656710885258350721 45876576172410976447339110607218265236877223636045 17423706905851860660448207621209813287860733969412 81142660418086830619328460811191061556940512689692 51934325451728388641918047049293215058642563049483 62467221648435076201727918039944693004732956340691 15732444386908125794514089057706229429197107928209 55037687525678773091862540744969844508330393682126 18336384825330154686196124348767681297534375946515 80386287592878490201521685554828717201219257766954 78182833757993103614740356856449095527097864797581 16726320100436897842553539920931837441497806860984 48403098129077791799088218795327364475675590848030 87086987551392711854517078544161852424320693150332 59959406895756536782107074926966537676326235447210 69793950679652694742597709739166693763042633987085 41052684708299085211399427365734116182760315001271 65378607361501080857009149939512557028198746004375 35829035317434717326932123578154982629742552737307 94953759765105305946966067683156574377167401875275 88902802571733229619176668713819931811048770190271 25267680276078003013678680992525463401061632866526 36270218540497705585629946580636237993140746255962 24074486908231174977792365466257246923322810917141 91430288197103288597806669760892938638285025333403 34413065578016127815921815005561868836468420090470 23053081172816430487623791969842487255036638784583 11487696932154902810424020138335124462181441773470 63783299490636259666498587618221225225512486764533 67720186971698544312419572409913959008952310058822 95548255300263520781532296796249481641953868218774 76085327132285723110424803456124867697064507995236 37774242535411291684276865538926205024910326572967 23701913275725675285653248258265463092207058596522 29798860272258331913126375147341994889534765745501 18495701454879288984856827726077713721403798879715 38298203783031473527721580348144513491373226651381 34829543829199918180278916522431027392251122869539 40957953066405232632538044100059654939159879593635 29746152185502371307642255121183693803580388584903 41698116222072977186158236678424689157993532961922 62467957194401269043877107275048102390895523597457 23189706772547915061505504953922979530901129967519 86188088225875314529584099251203829009407770775672 11306739708304724483816533873502340845647058077308 82959174767140363198008187129011875491310547126581 97623331044818386269515456334926366572897563400500 42846280183517070527831839425882145521227251250327 55121603546981200581762165212827652751691296897789 32238195734329339946437501907836945765883352399886 75506164965184775180738168837861091527357929701337 62177842752192623401942399639168044983993173312731 32924185707147349566916674687634660915035914677504 99518671430235219628894890102423325116913619626622 73267460800591547471830798392868535206946944540724 76841822524674417161514036427982273348055556214818 97142617910342598647204516893989422179826088076852 87783646182799346313767754307809363333018982642090 10848802521674670883215120185883543223812876952786 71329612474782464538636993009049310363619763878039 62184073572399794223406235393808339651327408011116 66627891981488087797941876876144230030984490851411 60661826293682836764744779239180335110989069790714 85786944089552990653640447425576083659976645795096 66024396409905389607120198219976047599490197230297 64913982680032973156037120041377903785566085089252 16730939319872750275468906903707539413042652315011 94809377245048795150954100921645863754710598436791 78639167021187492431995700641917969777599028300699 15368713711936614952811305876380278410754449733078 40789923115535562561142322423255033685442488917353 44889911501440648020369068063960672322193204149535 41503128880339536053299340368006977710650566631954 81234880673210146739058568557934581403627822703280 82616570773948327592232845941706525094512325230608 22918802058777319719839450180888072429661980811197 77158542502016545090413245809786882778948721859617 72107838435069186155435662884062257473692284509516 20849603980134001723930671666823555245252804609722 53503534226472524250874054075591789781264330331690'"
   ]
  },
  {
   "cell_type": "code",
   "execution_count": 34,
   "metadata": {},
   "outputs": [
    {
     "name": "stdout",
     "output_type": "stream",
     "text": [
      "CPU times: user 51 µs, sys: 1 µs, total: 52 µs\n",
      "Wall time: 54.1 µs\n"
     ]
    },
    {
     "data": {
      "text/plain": [
       "5537376230"
      ]
     },
     "execution_count": 34,
     "metadata": {},
     "output_type": "execute_result"
    }
   ],
   "source": [
    "%%time\n",
    "\n",
    "int(str(sum([int(n) for n in list(one_hundred_numbers_as_string.split(' '))]))[0:10])"
   ]
  },
  {
   "cell_type": "markdown",
   "metadata": {},
   "source": [
    "# 014\n",
    "**[Navigation](#Navigation)**\n",
    "## Longest Collatz sequence\n",
    "![problem 014](images/014.jpg)\n",
    "## Comments:\n",
    "Now that we know, for example, that the sequence starting at 13 contains 10 numbers, we can store that information and use it later when 13 appears in the middle of another sequence. We'll create a dictionary whose keys are numbers that appear in Collatz sequences and whose values are the lengths of those chains. With every new number, we only have to calculate the terms of its sequence until we encounter a term already logged in our dictionary.\n",
    "\n",
    "This will involve the recursive use of a function that computes the Collatz length of new values."
   ]
  },
  {
   "cell_type": "code",
   "execution_count": 35,
   "metadata": {},
   "outputs": [],
   "source": [
    "def collatz_length(n):\n",
    "    \"\"\"\n",
    "    input a number n and return the length of its collatz chain\n",
    "    if the chain length of n has not yet been recorded, this function runs recursively and computes ...\n",
    "    ... the collatz chain lengths of all of its descendants\n",
    "    \"\"\"\n",
    "    if n in collatz_dict:\n",
    "        return collatz_dict[n]\n",
    "    else:\n",
    "        if n%2 == 0:\n",
    "            length = 1 + collatz_length(int(n/2))\n",
    "        else:\n",
    "            length = 1 + collatz_length(3*n + 1)\n",
    "        collatz_dict[n] = length\n",
    "        return length"
   ]
  },
  {
   "cell_type": "code",
   "execution_count": 36,
   "metadata": {},
   "outputs": [
    {
     "name": "stdout",
     "output_type": "stream",
     "text": [
      "CPU times: user 1.58 s, sys: 114 ms, total: 1.69 s\n",
      "Wall time: 1.75 s\n"
     ]
    },
    {
     "data": {
      "text/plain": [
       "837799"
      ]
     },
     "execution_count": 36,
     "metadata": {},
     "output_type": "execute_result"
    }
   ],
   "source": [
    "%%time\n",
    "\n",
    "collatz_dict = {1: 1} # establish a dictionary as described above\n",
    "max_length = 0\n",
    "for n in range(1,1000000):\n",
    "    length = collatz_length(n)\n",
    "    if length > max_length:\n",
    "        max_length = length\n",
    "        winner = n\n",
    "winner"
   ]
  },
  {
   "cell_type": "markdown",
   "metadata": {},
   "source": [
    "# 015\n",
    "**[Navigation](#Navigation)**\n",
    "## Lattice paths\n",
    "![problem 015](images/015.jpg)\n",
    "## Comments:\n",
    "Every path consists of 40 steps, 20 east and 20 south. This amounts to counting the ways that we can place 20 east's in 40 positions, a simple combinatorics (combination) problem."
   ]
  },
  {
   "cell_type": "code",
   "execution_count": 37,
   "metadata": {},
   "outputs": [
    {
     "name": "stdout",
     "output_type": "stream",
     "text": [
      "CPU times: user 25 µs, sys: 0 ns, total: 25 µs\n",
      "Wall time: 27.9 µs\n"
     ]
    },
    {
     "data": {
      "text/plain": [
       "137846528820"
      ]
     },
     "execution_count": 37,
     "metadata": {},
     "output_type": "execute_result"
    }
   ],
   "source": [
    "%%time\n",
    "\n",
    "nCr(40,20)"
   ]
  },
  {
   "cell_type": "markdown",
   "metadata": {},
   "source": [
    "# 016\n",
    "**[Navigation](#Navigation)**\n",
    "## Power digit sum\n",
    "![problem 016](images/016.jpg)"
   ]
  },
  {
   "cell_type": "code",
   "execution_count": 38,
   "metadata": {},
   "outputs": [
    {
     "name": "stdout",
     "output_type": "stream",
     "text": [
      "CPU times: user 64 µs, sys: 0 ns, total: 64 µs\n",
      "Wall time: 67.9 µs\n"
     ]
    },
    {
     "data": {
      "text/plain": [
       "1366"
      ]
     },
     "execution_count": 38,
     "metadata": {},
     "output_type": "execute_result"
    }
   ],
   "source": [
    "%%time\n",
    "\n",
    "sum([int(place_value) for place_value in str(2**1000)])"
   ]
  },
  {
   "cell_type": "markdown",
   "metadata": {},
   "source": [
    "# 017\n",
    "**[Navigation](#Navigation)**\n",
    "## Number letter counts\n",
    "![problem 017](images/017.jpg)\n",
    "## Comments:\n",
    "It's only somewhat involved to count instances of word lengths in each place value, which results in minimal runtime. We can also run code that is adaptable to other number lists."
   ]
  },
  {
   "cell_type": "code",
   "execution_count": 39,
   "metadata": {},
   "outputs": [
    {
     "name": "stdout",
     "output_type": "stream",
     "text": [
      "CPU times: user 16 µs, sys: 1 µs, total: 17 µs\n",
      "Wall time: 20 µs\n"
     ]
    },
    {
     "data": {
      "text/plain": [
       "21124"
      ]
     },
     "execution_count": 39,
     "metadata": {},
     "output_type": "execute_result"
    }
   ],
   "source": [
    "%%time\n",
    "\n",
    "# method 1:\n",
    "# carefully add all the instances of each word length together, one place value at a time\n",
    "\n",
    "# think of 1000 = 10^3 where each of the 1s, 10s, and 100s place can be 0-9, but 000 ~ 1000\n",
    "count = 0\n",
    "# one, two, three, four, five, six, seven, eight, nine\n",
    "total = 3 + 3 + 5 + 4 + 4 + 3 + 5 + 5 + 4\n",
    "    # in the 1s place: 10s place not 1, 100s place 0-9\n",
    "count += 9 * 10 * total\n",
    "    # in the 100s place: 1s place 0-9, 10s place 0-9\n",
    "count += 10 * 10 * total\n",
    "# ten, eleven, twelve, thirteen, fourteen, fifteen, sixteen, seventeen, eighteen, nineteen\n",
    "total = 3 + 6 + 6 + 8 + 8 + 7 + 7 + 9 + 8 + 8\n",
    "    # 100s place 0-9\n",
    "count += 10 * total\n",
    "# twenty, thirty, forty, fifty, sixty, seventy, eighty, ninety\n",
    "total = 6 + 6 + 5 + 5 + 5 + 7 + 6 + 6\n",
    "    # 1s place 0-9, 100s place 0-9\n",
    "count += 10 * 10 * total\n",
    "# hundred\n",
    "total = 7\n",
    "    # 1s place 0-9, 10s place 0-9, 100s place not 0\n",
    "count += 10 * 10 * 9 * total\n",
    "# and\n",
    "total = 3\n",
    "    # 100s place not 0, 10s and 1s place not 00\n",
    "count += 9 * 99 * total\n",
    "# the number one thousand\n",
    "total = 11\n",
    "count += 1 * total\n",
    "count"
   ]
  },
  {
   "cell_type": "code",
   "execution_count": 40,
   "metadata": {},
   "outputs": [
    {
     "name": "stdout",
     "output_type": "stream",
     "text": [
      "CPU times: user 1.29 ms, sys: 9 µs, total: 1.3 ms\n",
      "Wall time: 1.31 ms\n"
     ]
    },
    {
     "data": {
      "text/plain": [
       "21124"
      ]
     },
     "execution_count": 40,
     "metadata": {},
     "output_type": "execute_result"
    }
   ],
   "source": [
    "%%time\n",
    "\n",
    "# method 2:\n",
    "# create a dictionary for some relevant word lengths, then run a loop that adds them appropriately\n",
    "\n",
    "letter_count = {\n",
    "    0: 0,\n",
    "    1: 3, 2: 3, 3: 5, 4: 4, 5: 4, 6: 3, 7: 5, 8: 5, 9: 4,\n",
    "    10: 3, 11: 6, 12: 6, 13: 8, 14: 8, 15: 7, 16: 7, 17: 9, 18: 8, 19: 8,\n",
    "    20: 6, 30: 6, 40: 5, 50: 5, 60: 5, 70: 7, 80: 6, 90: 6\n",
    "}\n",
    "\n",
    "letter_total = 0\n",
    "\n",
    "for n in range(1001):\n",
    "    thousands_place = n // 1000 % 10\n",
    "    hundreds_place = n // 100 % 10\n",
    "    tens_place = n // 10 % 10\n",
    "    ones_place = n % 10\n",
    "    \n",
    "    # thousands place\n",
    "    if n >= 1000:\n",
    "        letter_total += letter_count[thousands_place] # ONE thousand, three hundred and fifty nine\n",
    "        letter_total += len('thousand') # one THOUSAND, three hundred and fifty nine\n",
    "    \n",
    "    # hundreds place\n",
    "    letter_total += letter_count[hundreds_place] # one thousand, THREE hundred and fifty nine\n",
    "    if n >= 100 and n < 1000:\n",
    "        letter_total += len('hundred') # one thousand, three HUNDRED and fifty nine\n",
    "        if n%100 > 0:\n",
    "            letter_total += len('and') # one thousand, three hundred AND fifty nine\n",
    "    \n",
    "    # last two digits\n",
    "    if n%100 > 10 and n%100 < 20:\n",
    "        letter_total += letter_count[n%100] # one thousand, three hundred and NINETEEN\n",
    "    else:\n",
    "        # tens place\n",
    "        letter_total += letter_count[tens_place * 10] # one thousand, three hundred and FIFTY nine\n",
    "        # ones place\n",
    "        letter_total += letter_count[ones_place] # one thousand, three hundred and fifty NINE\n",
    "        \n",
    "letter_total"
   ]
  },
  {
   "cell_type": "markdown",
   "metadata": {},
   "source": [
    "# 018\n",
    "**[Navigation](#Navigation)**\n",
    "## Maximum path sum I\n",
    "![problem 018](images/018.jpg)\n",
    "## Comments:\n",
    "Rather than calculate every possible sum, start at the bottom and calculate only the greater of two possible sums at each entry location in the triangle."
   ]
  },
  {
   "cell_type": "code",
   "execution_count": 41,
   "metadata": {},
   "outputs": [],
   "source": [
    "n_as_string = '75 95 64 17 47 82 18 35 87 10 20 04 82 47 65 19 01 23 75 03 34 88 02 77 73 07 63 67 99 65 04 28 06 16 70 92 41 41 26 56 83 40 80 70 33 41 48 72 33 47 32 37 16 94 29 53 71 44 65 25 43 91 52 97 51 14 70 11 33 28 77 73 17 78 39 68 17 57 91 71 52 38 17 14 91 43 58 50 27 29 48 63 66 04 68 89 53 67 30 73 16 69 87 40 31 04 62 98 27 23 09 70 98 73 93 38 53 60 04 23'"
   ]
  },
  {
   "cell_type": "code",
   "execution_count": 42,
   "metadata": {},
   "outputs": [
    {
     "name": "stdout",
     "output_type": "stream",
     "text": [
      "CPU times: user 267 µs, sys: 38 µs, total: 305 µs\n",
      "Wall time: 421 µs\n"
     ]
    },
    {
     "data": {
      "text/plain": [
       "1074"
      ]
     },
     "execution_count": 42,
     "metadata": {},
     "output_type": "execute_result"
    }
   ],
   "source": [
    "%%time\n",
    "\n",
    "all_numbers = list(n_as_string.split(' ')) # put the numbers in a comma-separated list\n",
    "Tn = len(all_numbers) # Tn will be the triangular number of entries in the list\n",
    "size = int((np.sqrt(1 + 8*Tn) - 1) / 2) # use the quad. formula to solve for size of triangle\n",
    "\n",
    "# make an empty list that will hold the triangular values\n",
    "partial_sums = []\n",
    "for i in range(size):\n",
    "    # make a list for every row\n",
    "    partial_sums.append([])\n",
    "\n",
    "# i will iterate over the entries of nfull in reverse order\n",
    "# the first value of i should be the number of entries in the triangle, a triangular number\n",
    "ind = Tn - 1\n",
    "# iterate over the rows in reverse order\n",
    "for row in reversed(range(size)):\n",
    "    # iterate over the entries in each row\n",
    "    for entry in range(row+1):\n",
    "        # if we're in the bottom row, just enter the numbers\n",
    "        if row == size - 1:\n",
    "            partial_sums[row].append(int(all_numbers[ind]))\n",
    "        # if we're in any other row, enter the sum of the number that's supposed to be there ...\n",
    "        # ... and the bigger of the two numbers or sums below it\n",
    "        if row < size - 1:\n",
    "            partial_sums[row].append(int(all_numbers[ind]) + \\\n",
    "                                     max(partial_sums[row+1][entry], partial_sums[row+1][entry+1]))\n",
    "        ind -= 1\n",
    "# display the number at the top, which should be the maximum count\n",
    "partial_sums[0][0]"
   ]
  },
  {
   "cell_type": "markdown",
   "metadata": {},
   "source": [
    "# 019\n",
    "**[Navigation](#Navigation)**\n",
    "## Counting Sundays\n",
    "![problem 019](images/019.jpg)\n",
    "## Comments:\n",
    "The first line of code handles the fact that 1900 lacked a February 29th. All the other years follow the pattern that every fourth year includes a February 29th."
   ]
  },
  {
   "cell_type": "code",
   "execution_count": 43,
   "metadata": {},
   "outputs": [
    {
     "name": "stdout",
     "output_type": "stream",
     "text": [
      "CPU times: user 826 µs, sys: 50 µs, total: 876 µs\n",
      "Wall time: 1.78 ms\n"
     ]
    },
    {
     "data": {
      "text/plain": [
       "171"
      ]
     },
     "execution_count": 43,
     "metadata": {},
     "output_type": "execute_result"
    }
   ],
   "source": [
    "%%time\n",
    "\n",
    "day = 1 + 365 # 1 Jan 1900 was Monday, coded \"1\" ... then advance 365 days from that day to 1 Jan 1901\n",
    "sunday_count = 0\n",
    "for yr in range(1,101): # iterate over 100 years\n",
    "    for mo in range (1,13): # iterate over 12 monts\n",
    "        if day % 7 == 0: # count if the day is currently Sunday\n",
    "            sunday_count += 1\n",
    "        if mo == 1 or mo == 3 or mo == 5 or mo == 7 or mo == 8 or mo == 10 or mo == 12: # advance 31 days\n",
    "            day += 31\n",
    "        elif mo == 4 or mo == 6 or mo == 9 or mo == 11: # advance 30 days\n",
    "            day += 30\n",
    "        elif mo == 2 and yr % 4 == 0: # advance 29 days on leap year\n",
    "            day += 29\n",
    "        else: # mo == 2 and yr % 4 != 0: # advance 28 days on non-leap year\n",
    "            day += 28\n",
    "sunday_count"
   ]
  },
  {
   "cell_type": "markdown",
   "metadata": {},
   "source": [
    "# 020\n",
    "**[Navigation](#Navigation)**\n",
    "## Factorial digit sum\n",
    "![problem 020](images/020.jpg)"
   ]
  },
  {
   "cell_type": "code",
   "execution_count": 44,
   "metadata": {},
   "outputs": [
    {
     "name": "stdout",
     "output_type": "stream",
     "text": [
      "CPU times: user 70 µs, sys: 0 ns, total: 70 µs\n",
      "Wall time: 74.1 µs\n"
     ]
    },
    {
     "data": {
      "text/plain": [
       "648"
      ]
     },
     "execution_count": 44,
     "metadata": {},
     "output_type": "execute_result"
    }
   ],
   "source": [
    "%%time\n",
    "\n",
    "sum([int(place_value) for place_value in str(factorial(100))])"
   ]
  },
  {
   "cell_type": "markdown",
   "metadata": {},
   "source": [
    "# 021\n",
    "**[Navigation](#Navigation)**\n",
    "## Amicable numbers\n",
    "![problem 021](images/021.jpg)"
   ]
  },
  {
   "cell_type": "code",
   "execution_count": 45,
   "metadata": {},
   "outputs": [
    {
     "name": "stdout",
     "output_type": "stream",
     "text": [
      "CPU times: user 6.75 s, sys: 89.7 ms, total: 6.84 s\n",
      "Wall time: 6.99 s\n"
     ]
    },
    {
     "data": {
      "text/plain": [
       "31626"
      ]
     },
     "execution_count": 45,
     "metadata": {},
     "output_type": "execute_result"
    }
   ],
   "source": [
    "%%time\n",
    "\n",
    "amic = {}\n",
    "amic_sum = 0\n",
    "for n in range(1,10000):\n",
    "    amic[n] = sum(list_divs(n)) - n\n",
    "    for m in range(1,n):\n",
    "        if amic[m] == n and amic[n] == m:\n",
    "            amic_sum += m + n\n",
    "amic_sum"
   ]
  },
  {
   "cell_type": "markdown",
   "metadata": {},
   "source": [
    "# 022\n",
    "**[Navigation](#Navigation)**\n",
    "## Names scores\n",
    "![problem 022](images/022.jpg)"
   ]
  },
  {
   "cell_type": "code",
   "execution_count": 46,
   "metadata": {},
   "outputs": [
    {
     "name": "stdout",
     "output_type": "stream",
     "text": [
      "CPU times: user 10 ms, sys: 1.74 ms, total: 11.7 ms\n",
      "Wall time: 12 ms\n"
     ]
    },
    {
     "data": {
      "text/plain": [
       "871198282"
      ]
     },
     "execution_count": 46,
     "metadata": {},
     "output_type": "execute_result"
    }
   ],
   "source": [
    "%%time\n",
    "\n",
    "f = open('p022_names.txt', 'r')\n",
    "names = f.read()\n",
    "f.close()\n",
    "\n",
    "names = names.strip('\"').split('\",\"')\n",
    "names.sort()\n",
    "\n",
    "scores = [sum([(ord(name[i]) - 64) for i in range(len(name))]) for name in names]\n",
    "\n",
    "sum([(i+1) * scores[i] for i in range(len(scores))])"
   ]
  },
  {
   "cell_type": "markdown",
   "metadata": {},
   "source": [
    "# 023\n",
    "**[Navigation](#Navigation)**\n",
    "## Non-abundant sums\n",
    "![problem 023](images/023.jpg)"
   ]
  },
  {
   "cell_type": "code",
   "execution_count": 47,
   "metadata": {},
   "outputs": [
    {
     "name": "stdout",
     "output_type": "stream",
     "text": [
      "CPU times: user 2.65 s, sys: 56 ms, total: 2.7 s\n",
      "Wall time: 2.78 s\n"
     ]
    },
    {
     "data": {
      "text/plain": [
       "4179871"
      ]
     },
     "execution_count": 47,
     "metadata": {},
     "output_type": "execute_result"
    }
   ],
   "source": [
    "%%time\n",
    "\n",
    "abundant_numbers, abundant_sums = [], set() # create a list of all the relevant abundant numbers\n",
    "\n",
    "for n in range(1,28124):\n",
    "    if sum(list_divs(n)) - n > n: # list_divs includes the factor n, so we subtract it from the sum\n",
    "        abundant_numbers.append(n) # build the list of abundant numbers\n",
    "        abundant_sums.update([n + number for number in abundant_numbers]) # build the set of sums of abundant nos\n",
    "\n",
    "sum([n for n in range(28124) if n not in abundant_sums])"
   ]
  },
  {
   "cell_type": "markdown",
   "metadata": {},
   "source": [
    "# 024\n",
    "**[Navigation](#Navigation)**\n",
    "## Lexicographic permutations\n",
    "![problem 024](images/024.jpg)\n",
    "## Comments:\n",
    "The first 9! permutations will begin with a 0, and the next 9! permutations will begin with a 1, etc. We divide 1,000,000 by 9! to see how many digits we have to cycle through for the first place value. Then we divide the remainder by 8! to see how many digits we have to cycle through for the second place value, and so on.\n",
    "## Related problems:\n",
    "**[040 Champernowne's constant](#040)**"
   ]
  },
  {
   "cell_type": "code",
   "execution_count": 48,
   "metadata": {},
   "outputs": [
    {
     "name": "stdout",
     "output_type": "stream",
     "text": [
      "CPU times: user 93 µs, sys: 4 µs, total: 97 µs\n",
      "Wall time: 104 µs\n"
     ]
    },
    {
     "data": {
      "text/plain": [
       "2783915460"
      ]
     },
     "execution_count": 48,
     "metadata": {},
     "output_type": "execute_result"
    }
   ],
   "source": [
    "%%time\n",
    "\n",
    "digits = list(range(10)) # the pool of 10 digits that we draw from and lock in place in the result variable\n",
    "result = '' # this will grow into the answer, one place value at a time\n",
    "digits_remaining = 1000000 # the number of iterations left\n",
    "factorial_seed = 9\n",
    "\n",
    "while len(digits) > 0:\n",
    "    new_digit_index = (digits_remaining - 1) // factorial(factorial_seed)\n",
    "    result += str(digits[new_digit_index]) # add the new digit to the answer\n",
    "    digits.pop(new_digit_index) # and remove the new digit from the field of available digits\n",
    "    digits_remaining %= factorial(factorial_seed) # update the number of iters left to cycle through\n",
    "    factorial_seed -= 1 # reduce the factorial number\n",
    "int(result)"
   ]
  },
  {
   "cell_type": "markdown",
   "metadata": {},
   "source": [
    "# 025\n",
    "**[Navigation](#Navigation)**\n",
    "## 1000-digit Fibonacci number\n",
    "![problem 025](images/025.jpg)\n",
    "## Comments:\n",
    "We learned in problem 002 that it was slower to use phi to calculate Fibonacci terms.\n",
    "## Related problems:\n",
    "**[002 Even Fibonacci numbers](#002)**"
   ]
  },
  {
   "cell_type": "code",
   "execution_count": 49,
   "metadata": {},
   "outputs": [
    {
     "name": "stdout",
     "output_type": "stream",
     "text": [
      "CPU times: user 26 ms, sys: 1.79 ms, total: 27.8 ms\n",
      "Wall time: 29 ms\n"
     ]
    },
    {
     "data": {
      "text/plain": [
       "4782"
      ]
     },
     "execution_count": 49,
     "metadata": {},
     "output_type": "execute_result"
    }
   ],
   "source": [
    "%%time\n",
    "\n",
    "fibonacci = [1,1] # seed the sequence\n",
    "while len(str(fibonacci[-1])) < 1000:\n",
    "    fibonacci.append(fibonacci[-1] + fibonacci[-2])\n",
    "len(fibonacci)"
   ]
  },
  {
   "cell_type": "markdown",
   "metadata": {},
   "source": [
    "# 026\n",
    "**[Navigation](#Navigation)**\n",
    "## Reciprocal cycles\n",
    "![problem 026](images/026.jpg)\n",
    "## Comments:\n",
    "One way to do this is to generate the decimal value of `1/d` as `a/10 + b/100 + c/1000 ...` and identify the length of the repeating period. This process involves calculating common denominators, floor division, and remainders. The trick is to recognize the end of the repeating period at the first instance of a repeated remainder.\n",
    "\n",
    "There is another way that runs much faster. For any integer `d`, `1/d` can always be written as `k / 99..9900..00` for some number of 9s and 0s (or no 9s at all and a leading 1). The number of 9s will be the length of the repeating period. (If there are no 9s, then the decimal truncates and the denominator has a leading 1.)\n",
    "\n",
    "This means that `99..9900..00 / d` equals an integer `k` for some number of 9s and 0s. We're concerned, again, with the minimal number of 9s.\n",
    "\n",
    "First consider the 0s: Adding more 0s (multiplying by 10) would still yield an integer for `k`, so we don't really need to worry about how many of them there are. If 2 and/or 5 are among `d`'s prime factors, then those 2s and 5s can cancel out with the numerator without affecting the number of 9s in the numerator.\n",
    "\n",
    "For the task at hand, this means that any value of `d` that is divisible by 2 or 5 can be ignored, as it would at best be in a tie with a smaller value (namely `d` divided by its 2s and 5s)."
   ]
  },
  {
   "cell_type": "code",
   "execution_count": 50,
   "metadata": {},
   "outputs": [
    {
     "name": "stdout",
     "output_type": "stream",
     "text": [
      "CPU times: user 2.19 s, sys: 33.1 ms, total: 2.23 s\n",
      "Wall time: 2.29 s\n"
     ]
    },
    {
     "data": {
      "text/plain": [
       "983"
      ]
     },
     "execution_count": 50,
     "metadata": {},
     "output_type": "execute_result"
    }
   ],
   "source": [
    "%%time\n",
    "\n",
    "# method 1:\n",
    "# perform the arithmetic involved in solving for 1/d = a/10 + b/100 + c/1000 + ...\n",
    "# identify a periodic sequence when a remainder repeats an earlier remainder\n",
    "\n",
    "cycle_max = 0\n",
    "for d in range(1,1000):\n",
    "    solved = False\n",
    "    remainders = [1]\n",
    "    while solved == False:\n",
    "        remainders.append((10 * remainders[-1]) % d) # add new remainder to list\n",
    "        if remainders[-1] == 0: # check for truncating decimal\n",
    "            break\n",
    "        for i in range(len(remainders)-1):\n",
    "            if remainders[i] == remainders[-1]: # check for completed period\n",
    "                solved = True\n",
    "                cycle_length = len(remainders) - i\n",
    "                if cycle_length > cycle_max:\n",
    "                    cycle_max = cycle_length\n",
    "                    winner = d\n",
    "                break\n",
    "winner"
   ]
  },
  {
   "cell_type": "code",
   "execution_count": 51,
   "metadata": {},
   "outputs": [
    {
     "name": "stdout",
     "output_type": "stream",
     "text": [
      "CPU times: user 37.9 ms, sys: 1.99 ms, total: 39.9 ms\n",
      "Wall time: 41.9 ms\n"
     ]
    },
    {
     "data": {
      "text/plain": [
       "983"
      ]
     },
     "execution_count": 51,
     "metadata": {},
     "output_type": "execute_result"
    }
   ],
   "source": [
    "%%time\n",
    "\n",
    "# method 2:\n",
    "# determine the minimal number 99..99 such that 99..99 / d is an integer, ignoring multiples of 2 and 5\n",
    "\n",
    "max_cycle = 0\n",
    "for d in range(3, 1000, 2): # skip 1 and any multiple of 2\n",
    "    if d%5 == 0: # skip any multiple of 5\n",
    "        continue\n",
    "    denom = 9\n",
    "    cycle = 1\n",
    "    while denom % d != 0:\n",
    "        denom = denom * 10 + 9\n",
    "        cycle += 1\n",
    "    if cycle > max_cycle:\n",
    "        max_cycle = cycle\n",
    "        winner = d\n",
    "winner"
   ]
  },
  {
   "cell_type": "markdown",
   "metadata": {},
   "source": [
    "# 027\n",
    "**[Navigation](#Navigation)**\n",
    "## Quadratic primes\n",
    "![problem 027](images/027.jpg)\n",
    "## Comments:\n",
    "It is an elementary observation that the constant `b` should be prime and the linear coefficient `a` should be odd. When the linear coefficient of a parabola is odd, its vertex does not lie on a lattice point, and the y-values of its lattice points increase by successive even numbers. For example, the y-value of the lattice point nearest the vertex might be 41, then 41 + *2* = 43, then 43 + *4* = 47, then 47 + *6* = 53, etc.\n",
    "\n",
    "If the set of consecutive `n`s includes values adjacent to the vertex, then every prime value of y on one side of the vertex would be duplicated on its other side. In this event, we're looking for a parabola in which the greatest possible succession of lattice points adjacent to the vertex has all prime y-values.\n",
    "\n",
    "As this parabola opens up toward the y-axis, the last prime value will be the y-intercept, `b < 1000`.\n",
    "\n",
    "Once this maximal succession of prime y-value lattice points (between 0 and 1000, separated by increasing even numbers) is determined, the location of the vertex can be calculated from the length of the chain, and the value of `a` can be calculated as well."
   ]
  },
  {
   "cell_type": "code",
   "execution_count": 52,
   "metadata": {},
   "outputs": [
    {
     "name": "stdout",
     "output_type": "stream",
     "text": [
      "CPU times: user 3.2 ms, sys: 8.84 ms, total: 12 ms\n",
      "Wall time: 13.1 ms\n"
     ]
    },
    {
     "data": {
      "text/plain": [
       "-59231"
      ]
     },
     "execution_count": 52,
     "metadata": {},
     "output_type": "execute_result"
    }
   ],
   "source": [
    "%%time\n",
    "\n",
    "primes = [2, 3]\n",
    "prime_gen(maximum=1000) # need to generate primes for seed_prime to iterate over\n",
    "\n",
    "max_chain_length = 0\n",
    "for seed_prime in primes[1:]:\n",
    "    if seed_prime + (max_chain_length)*(max_chain_length + 1) > 1000: # no room to achieve a chain of record length\n",
    "        break\n",
    "    chain_length = 0\n",
    "    next_y = seed_prime + 2\n",
    "    while next_y in primes:\n",
    "        chain_length += 1\n",
    "        next_y = next_y + 2*(chain_length + 1)\n",
    "    if chain_length > max_chain_length:\n",
    "        max_chain_length = chain_length\n",
    "        y_zero = seed_prime # y-value of lattice point adjacent to vertex\n",
    "\n",
    "b = y_zero + (max_chain_length)*(max_chain_length + 1) # the result of algebra\n",
    "a = - (2*max_chain_length + 1) # the result of algebra\n",
    "\n",
    "a*b"
   ]
  },
  {
   "cell_type": "markdown",
   "metadata": {},
   "source": [
    "# 028\n",
    "**[Navigation](#Navigation)**\n",
    "## Number spiral diagonals\n",
    "![problem 028](images/028.jpg)\n",
    "## Comments:\n",
    "This will create 501 concentric squares (the innermost \"square\" is just the number 1) with these properties:\n",
    "- The NE corner of the nth square will be `m**2` where `m = 2*n - 1`.\n",
    "- The NW corner will be `m - 1` less than the NE corner\n",
    "- The SW corner will be `m - 1` less than the NW corner\n",
    "- The SE corner will be `m - 1` less than the SW corner"
   ]
  },
  {
   "cell_type": "code",
   "execution_count": 53,
   "metadata": {},
   "outputs": [
    {
     "name": "stdout",
     "output_type": "stream",
     "text": [
      "CPU times: user 1.28 ms, sys: 33 µs, total: 1.31 ms\n",
      "Wall time: 1.39 ms\n"
     ]
    },
    {
     "data": {
      "text/plain": [
       "669171001"
      ]
     },
     "execution_count": 53,
     "metadata": {},
     "output_type": "execute_result"
    }
   ],
   "source": [
    "%%time\n",
    "\n",
    "# method 1:\n",
    "# add the corners separately\n",
    "\n",
    "total = 1\n",
    "total += sum((2*n - 1)**2 for n in range(2,502)) # all the NE corners\n",
    "total += sum((2*n - 1)**2 - 1*(2*n - 1 - 1) for n in range(2,502)) # all the NW corners\n",
    "total += sum((2*n - 1)**2 - 2*(2*n - 1 - 1) for n in range(2,502)) # all the SW corners\n",
    "total += sum((2*n - 1)**2 - 3*(2*n - 1 - 1) for n in range(2,502)) # all the SE corners\n",
    "\n",
    "total"
   ]
  },
  {
   "cell_type": "code",
   "execution_count": 54,
   "metadata": {},
   "outputs": [
    {
     "name": "stdout",
     "output_type": "stream",
     "text": [
      "CPU times: user 350 µs, sys: 10 µs, total: 360 µs\n",
      "Wall time: 376 µs\n"
     ]
    },
    {
     "data": {
      "text/plain": [
       "669171001"
      ]
     },
     "execution_count": 54,
     "metadata": {},
     "output_type": "execute_result"
    }
   ],
   "source": [
    "%%time\n",
    "\n",
    "# method 2:\n",
    "# do the algebra first and sum everything in one line\n",
    "\n",
    "sum([4*(2*n - 1)**2 - 6*(2*n - 1) + 6 for n in range(2,502)]) + 1"
   ]
  },
  {
   "cell_type": "markdown",
   "metadata": {},
   "source": [
    "# 029\n",
    "**[Navigation](#Navigation)**\n",
    "## Distinct powers\n",
    "![problem 029](images/029.jpg)\n",
    "## Comments:\n",
    "The blunt method is to iterate over `a` and `b` and add all distinct powers to a set.\n",
    "\n",
    "The faster and more precise method is to determine what all the duplicates will be without calculating them, but this determination turns out to be quite cumbersome.\n",
    "\n",
    "Some examples to illustrate:\n",
    "- 2^24 will be duplicated by 4^12, 8^8, 16^6, and 64^4.\n",
    "    - note that 2 is not duplicated by a power of 32 in this instance.\n",
    "- 4^30 will be duplicated by 2^60, 8^20, 16^15, 32^12, and 64^10.\n",
    "    - note that 8 and 32 are rational powers of 4 but not integer powers of 4.\n",
    "\n",
    "A method for determining the number of duplicates to subtract from 99^2 could involve determining all the powers of {2, 3, 4, 5, 6, 7, 8, 9, 10, 16, 27, 32} that are duplicated by a power of a larger number. Powers of 6 can *only* be duplicated by powers of 36 (specifically, 6^b for 49 even powers of b, 4 ≤ b ≤ 100), but powers of 8 can be duplicated by powers of 16, 32, and 64."
   ]
  },
  {
   "cell_type": "code",
   "execution_count": 55,
   "metadata": {},
   "outputs": [
    {
     "name": "stdout",
     "output_type": "stream",
     "text": [
      "CPU times: user 8.62 ms, sys: 1.27 ms, total: 9.88 ms\n",
      "Wall time: 9.87 ms\n"
     ]
    },
    {
     "data": {
      "text/plain": [
       "9183"
      ]
     },
     "execution_count": 55,
     "metadata": {},
     "output_type": "execute_result"
    }
   ],
   "source": [
    "%%time\n",
    "\n",
    "distinct_powers = set()\n",
    "for a in range(2,101):\n",
    "    distinct_powers.update([a**b for b in range(2,101)])\n",
    "len(distinct_powers)"
   ]
  },
  {
   "cell_type": "markdown",
   "metadata": {},
   "source": [
    "# 030\n",
    "**[Navigation](#Navigation)**\n",
    "## Digit fifth powers\n",
    "![problem 030](images/030.jpg)\n",
    "## Comments:\n",
    "It's not easy to see what useful constraints we could put on the potential solutions. Because 3^5 > 99, all 2-digit solutions could only have {0-2} as digits; similar logic puts constraints on 3- and 4-digit solutions. Implementing these constraints wouldn't change the runtime much, but it is necessary to have an upper bound. 6 * 9^5 has 6 digits, but 7 * 9^5 only has 6 digits, so we can use 6 * 9^5 as a rough upper bound.\n",
    "## Related problems:\n",
    "**[034 Digit factorials](#034)**"
   ]
  },
  {
   "cell_type": "code",
   "execution_count": 56,
   "metadata": {},
   "outputs": [
    {
     "name": "stdout",
     "output_type": "stream",
     "text": [
      "CPU times: user 1.06 s, sys: 18.1 ms, total: 1.08 s\n",
      "Wall time: 1.11 s\n"
     ]
    },
    {
     "data": {
      "text/plain": [
       "443839"
      ]
     },
     "execution_count": 56,
     "metadata": {},
     "output_type": "execute_result"
    }
   ],
   "source": [
    "%%time\n",
    "\n",
    "total = 0\n",
    "for n in range(2, 6*9**5):\n",
    "    if n == sum([int(k)**5 for k in str(n)]):\n",
    "        total += n\n",
    "total"
   ]
  },
  {
   "cell_type": "markdown",
   "metadata": {},
   "source": [
    "# 031\n",
    "**[Navigation](#Navigation)**\n",
    "## Coin sums\n",
    "![problem 031](images/031.jpg)\n",
    "## Comments:\n",
    "We can use a function recursively to count all the ways of adding coins to a target value. Start with the largest possible amount of the highest denomination. Decrease the amount of that denomination by one and then add the largest possible amount of the next-highest denomination, etc."
   ]
  },
  {
   "cell_type": "code",
   "execution_count": 57,
   "metadata": {},
   "outputs": [
    {
     "name": "stdout",
     "output_type": "stream",
     "text": [
      "CPU times: user 34.3 ms, sys: 2.19 ms, total: 36.4 ms\n",
      "Wall time: 42.7 ms\n"
     ]
    },
    {
     "data": {
      "text/plain": [
       "73682"
      ]
     },
     "execution_count": 57,
     "metadata": {},
     "output_type": "execute_result"
    }
   ],
   "source": [
    "%%time\n",
    "\n",
    "def coin_count(remainder, coin=0):\n",
    "    \"\"\"\n",
    "    the initial value of remainder will be the target sum; remainder will then be reduced by the value of\n",
    "    coins selected so far\n",
    "    coin is an index that determines the coin's value and when the recursion has reached an end\n",
    "    \"\"\"\n",
    "    if remainder % coin_vals[coin] == 0: # if we can hit the target directly\n",
    "        count = 1\n",
    "        max_amt = remainder / coin_vals[coin] - 1 # the largest amt of this denomination in the loop below\n",
    "    else:\n",
    "        count = 0\n",
    "        max_amt = remainder // coin_vals[coin] # the largest amt of this denomination in the loop below\n",
    "    if coin + 1 < len(coin_vals): # proceed unless this is the smallest (last) denomination\n",
    "        for amt in reversed(range(int(max_amt + 1))): # loop over all possible amounts of this denomination\n",
    "            count += coin_count(remainder - amt*coin_vals[coin], coin=coin + 1) # increase the count\n",
    "    return count # return the count back to the previous denomination\n",
    "            \n",
    "coin_vals = [200, 100, 50, 20, 10, 5, 2, 1]\n",
    "coin_count(200)"
   ]
  },
  {
   "cell_type": "markdown",
   "metadata": {},
   "source": [
    "# 032\n",
    "**[Navigation](#Navigation)**\n",
    "## Pandigital products\n",
    "![problem 032](images/032.jpg)\n",
    "## Comments:\n",
    "The important part of this code is to convert integers to string in order to more easily maneuver their digits. This is the first problem to use the `permutations()` function.\n",
    "## Related problems:\n",
    "**[038 Pandigital multiples](#038)** | **[041 Pandigital prime](#041)** | **[043 Sub-string divisibility](#043)**"
   ]
  },
  {
   "cell_type": "code",
   "execution_count": 58,
   "metadata": {},
   "outputs": [
    {
     "name": "stdout",
     "output_type": "stream",
     "text": [
      "CPU times: user 61.3 ms, sys: 2.5 ms, total: 63.8 ms\n",
      "Wall time: 64.5 ms\n"
     ]
    },
    {
     "data": {
      "text/plain": [
       "45228"
      ]
     },
     "execution_count": 58,
     "metadata": {},
     "output_type": "execute_result"
    }
   ],
   "source": [
    "%%time\n",
    "\n",
    "digits = '123456789'\n",
    "factor_splits = [[1, 4], [2, 3]]\n",
    "pandigital_products = set()\n",
    "\n",
    "for split in factor_splits:\n",
    "    for factor_1 in permutations(digits, split[0]):\n",
    "        digit_pool = [d for d in digits if d not in factor_1]\n",
    "        for factor_2 in permutations(digit_pool, split[1]):\n",
    "            product = str(int(factor_1) * int(factor_2))\n",
    "            if len(product) == 4 and set(factor_1).union(set(factor_2)).union(set(product)) == set(digits):\n",
    "                pandigital_products.add(int(product))\n",
    "\n",
    "sum(pandigital_products)"
   ]
  },
  {
   "cell_type": "markdown",
   "metadata": {},
   "source": [
    "# 033\n",
    "**[Navigation](#Navigation)**\n",
    "## Digit cancelling fractions\n",
    "![problem 033](images/033.jpg)\n",
    "## Comments:\n",
    "As described, this can only happen when the cancelling digit is in the tens place of one number and the ones place of another number.\n",
    "\n",
    "It will necessarily be the case that none of the digits can be zero or equal to each other."
   ]
  },
  {
   "cell_type": "code",
   "execution_count": 59,
   "metadata": {},
   "outputs": [
    {
     "name": "stdout",
     "output_type": "stream",
     "text": [
      "CPU times: user 252 µs, sys: 1e+03 ns, total: 253 µs\n",
      "Wall time: 259 µs\n"
     ]
    },
    {
     "data": {
      "text/plain": [
       "100"
      ]
     },
     "execution_count": 59,
     "metadata": {},
     "output_type": "execute_result"
    }
   ],
   "source": [
    "%%time\n",
    "\n",
    "numer, denom = 1, 1\n",
    "for i in range(1,9): # the lesser of the two non-repeating digits\n",
    "    for j in range(i,10): # the greater of the two non-repeating digits\n",
    "        for k in [n for n in range(1,10) if n not in [i, j]]: # not equal to either of the two other digits\n",
    "            if (10*i + k) / (10*k + j) == i / j: # verify condition\n",
    "                numer *= i # fraction multiplication\n",
    "                denom *= j # fraction multiplication\n",
    "\n",
    "int(denom / GCF([numer, denom])) # reduce denominator of fraction"
   ]
  },
  {
   "cell_type": "markdown",
   "metadata": {},
   "source": [
    "# 034\n",
    "**[Navigation](#Navigation)**\n",
    "## Digit factorials\n",
    "![problem 034](images/034.jpg)\n",
    "## Comments:\n",
    "Much like problem **[030](#030)**, it isn't obvious how to put constraints on the pool of potential solutions. The best we can do without further work is to observe that the digit factorials of a 7-digit number with all 9s would add to a 7-digit number that starts with 2. This suggests the 7-digit number with all 9s can be neglected, and a reasonable upper bound could be 2 + 6 * 9!.\n",
    "\n",
    "Perhaps there is something to explore in the fact that, for example, the digit factorials of a number like 239 add to a 6-digit number, meaning that any number that ends in 239 should have at least 3 more digits in front of it before we have to check it for the condition. It seems like this would still require the generation of all the same numbers, though.\n",
    "## Related problems:\n",
    "**[030 Digit fifth powers](#030)**"
   ]
  },
  {
   "cell_type": "code",
   "execution_count": 60,
   "metadata": {},
   "outputs": [
    {
     "name": "stdout",
     "output_type": "stream",
     "text": [
      "CPU times: user 2.17 s, sys: 33.8 ms, total: 2.2 s\n",
      "Wall time: 2.28 s\n"
     ]
    },
    {
     "data": {
      "text/plain": [
       "40730"
      ]
     },
     "execution_count": 60,
     "metadata": {},
     "output_type": "execute_result"
    }
   ],
   "source": [
    "%%time\n",
    "\n",
    "factorial_dict = {}\n",
    "for n in range(10):\n",
    "    factorial_dict[str(n)] = factorial(n)\n",
    "\n",
    "total = 0\n",
    "\n",
    "for n in range(3,2 + 6*factorial(9)):\n",
    "    if n == sum([factorial_dict[d] for d in str(n)]):\n",
    "        total += n\n",
    "\n",
    "total"
   ]
  },
  {
   "cell_type": "markdown",
   "metadata": {},
   "source": [
    "# 035\n",
    "**[Navigation](#Navigation)**\n",
    "## Circular primes\n",
    "![problem 035](images/035.jpg)\n",
    "## Comments:\n",
    "While it takes less than 3 seconds to generate all primes under one million, we only require a list of all primes under one thousand in order to *check* for primeness of numbers up to one million.\n",
    "\n",
    "For solution candidates to this problem greater than 100, we note that prime numbers above 5 can only end in 1, 3, 7, or 9. Therefore circular primes must be composed of these digits *only*.\n",
    "\n",
    "Further, prime numbers above 5 must contain a 1 and/or a 7, lest their digits be all 3s and 9s and therefore clearly divisible by 3.\n",
    "\n",
    "Finally, we can iterate over solution candidates in two groups: those that start with 1, and those that start wtih 7 *and do not contain 1*. Because of the nature of circular primes, any group of circular primes that contains 1 must have a member that *starts* with 1. And if a group of circular primes does not contain 1, then it must similarly have a member that *starts* with 7.\n",
    "\n",
    "We can iterate over these candidates and check the condition of them being a circular prime. There still may be some small amount of redundancy in this iteration, but it is easy enough to check for duplicates using set notation.\n",
    "## Related problems:\n",
    "**[037 Truncatable primes](#037)**"
   ]
  },
  {
   "cell_type": "code",
   "execution_count": 61,
   "metadata": {},
   "outputs": [
    {
     "name": "stdout",
     "output_type": "stream",
     "text": [
      "CPU times: user 13.8 ms, sys: 681 µs, total: 14.4 ms\n",
      "Wall time: 15.5 ms\n"
     ]
    },
    {
     "data": {
      "text/plain": [
       "55"
      ]
     },
     "execution_count": 61,
     "metadata": {},
     "output_type": "execute_result"
    }
   ],
   "source": [
    "%%time\n",
    "\n",
    "max_digits = 6\n",
    "\n",
    "primes = [2, 3] # initiate primes list\n",
    "prime_gen(maximum=10**(max_digits/2)) # generate primes up to 1000\n",
    "prime_gen() # generate one prime greater than 1000, otherwise it throws a recursion error\n",
    "\n",
    "def circular_prime(n):\n",
    "    \"\"\"\n",
    "    If an integer n is a circular prime, this returns the list of circular primes associated with n,\n",
    "    otherwise an empty set. Any duplication is handled later by gathering all solutions in a set.\n",
    "    \"\"\"\n",
    "    list_of_primes = []\n",
    "    for i in range(len(str(n))):\n",
    "        if not prime_check(n):\n",
    "            return []\n",
    "        else:\n",
    "            list_of_primes.append(n)\n",
    "            n = n // 10 + n%10 * 10**(len(str(n))-1) # rotate the digits of n in a circle\n",
    "    return list_of_primes\n",
    "\n",
    "circular_primes = set()\n",
    "\n",
    "for n in range(100): # gather circular primes less than 100\n",
    "    circular_primes.update(circular_prime(n))\n",
    "\n",
    "stem_1, stem_7 = [[]] * (max_digits + 1), [[]] * (max_digits + 1) # establish stems to build candidates from\n",
    "stem_1[2] = [11, 13, 17, 19]\n",
    "stem_7[2] = [73, 77, 79]\n",
    "\n",
    "for digit_length in range(3, max_digits + 1): # iterate over the number of digits in a candidate\n",
    "    stem_1[digit_length], stem_7[digit_length] = [], [] # initiate a list to hold candidates of a certain length\n",
    "    for d in [1, 3, 7, 9]: # build candidates that start with 1\n",
    "        stem_1[digit_length].extend([10*c + d for c in stem_1[digit_length - 1]])\n",
    "    for d in [3, 7, 9]: # build candidates that start with 7\n",
    "        stem_7[digit_length].extend([10*c + d for c in stem_7[digit_length - 1]])\n",
    "    for n in stem_1[digit_length]: # gather circular primes of this length that start with 1\n",
    "        circular_primes.update(circular_prime(n))\n",
    "    for n in stem_7[digit_length]: # gather circular primes of this length that start with 7\n",
    "        circular_primes.update(circular_prime(n))\n",
    "\n",
    "len(circular_primes)"
   ]
  },
  {
   "cell_type": "markdown",
   "metadata": {},
   "source": [
    "# 036\n",
    "**[Navigation](#Navigation)**\n",
    "## Double-base palindromes\n",
    "![problem 036](images/036.jpg)\n",
    "## Comments:\n",
    "We can start by generating base-ten palindromes and then test their binary representations for the palindrome condition. We first generate palindromes of even-digit length by mirroring a certain number of digits. Then we can generate the respective lists of palindromes that are one digit shorter by removing one of the middle digits. The solution below only generates palindromes of odd-digit length by truncating palindromes that are one digit longer; extra code would be necessary if the maximum digit length were odd.\n",
    "## Related problems:\n",
    "**[004 Largest palindrome product](#004)** | **[055 Lychrel numbers](#055)**"
   ]
  },
  {
   "cell_type": "code",
   "execution_count": 62,
   "metadata": {},
   "outputs": [
    {
     "name": "stdout",
     "output_type": "stream",
     "text": [
      "CPU times: user 3.25 ms, sys: 62 µs, total: 3.31 ms\n",
      "Wall time: 3.42 ms\n"
     ]
    },
    {
     "data": {
      "text/plain": [
       "872187"
      ]
     },
     "execution_count": 62,
     "metadata": {},
     "output_type": "execute_result"
    }
   ],
   "source": [
    "%%time\n",
    "\n",
    "max_digits = 6\n",
    "\n",
    "palindromes = []\n",
    "        \n",
    "for half_digits in range(1, max_digits // 2 + 1): # iterate over half the number of (even) digits in the palindrome\n",
    "    palindromes.extend([int(str(n) + str(n)[::-1]) \\\n",
    "                        for n in range(10**(half_digits - 1), 10**half_digits)]) # generate even pals\n",
    "    palindromes.extend([int(str(n)[:half_digits] + str(n)[half_digits + 1:]) \\\n",
    "                        for n in palindromes if n > 10**(half_digits * 2 - 1)]) # generate odd pals from evens\n",
    "\n",
    "sum([n for n in palindromes if bin(n)[2:] == bin(n)[2:][::-1]])"
   ]
  },
  {
   "cell_type": "markdown",
   "metadata": {},
   "source": [
    "# 037\n",
    "**[Navigation](#Navigation)**\n",
    "## Truncatable primes\n",
    "![problem 037](images/037.jpg)\n",
    "## Comments:\n",
    "The first and last digits must belong to `[2, 3, 5, 7]` so that they can take the value of a single-digit prime. Also, all but the first digits must belong to `[1, 3, 7, 9]` so that they can take the value of the ones digit of a two-digit prime. Together, that means that the last digit must belong to `[3, 7]`.\n",
    "\n",
    "Any truncatable prime will have \"descendants\" of shorter length. To use the example above, 3797 has two 3-digit descendants: 379 and 797. It also has three 2-digit descendants: 37, 79, and 97. The descendants need not be truncatable.\n",
    "\n",
    "The trick will be to identify all the potential 2-digit descendants and consider only candidates that can be built up into \"ascendants\" that are prime, and continue building up, while noting truncatable primes as we build.\n",
    "\n",
    "Some work can also be done to determine the value of the largest hypothetical prime we'll need ...\n",
    "## Related problems:\n",
    "**[035 Circular primes](#035)**"
   ]
  },
  {
   "cell_type": "code",
   "execution_count": 63,
   "metadata": {},
   "outputs": [
    {
     "name": "stdout",
     "output_type": "stream",
     "text": [
      "CPU times: user 3.08 ms, sys: 413 µs, total: 3.49 ms\n",
      "Wall time: 3.4 ms\n"
     ]
    },
    {
     "data": {
      "text/plain": [
       "748317"
      ]
     },
     "execution_count": 63,
     "metadata": {},
     "output_type": "execute_result"
    }
   ],
   "source": [
    "%%time\n",
    "\n",
    "primes = [2, 3]\n",
    "\n",
    "middle = ['1', '3', '7', '9']\n",
    "right = ['3', '7']\n",
    "\n",
    "left, truncatable = [[]]*2, []\n",
    "\n",
    "left[1] = ['2', '3', '5', '7']\n",
    "\n",
    "digit_length = 1\n",
    "while len(truncatable) < 11:\n",
    "    digit_length += 1\n",
    "    prime_gen(maximum=10**(digit_length/2))\n",
    "    prime_gen()\n",
    "    left.append([a + b for a in left[digit_length - 1] for b in middle if prime_check(int(a + b))])\n",
    "    candidates = [a + b for a in left[digit_length - 1] for b in right]\n",
    "    for i in range(2,digit_length+1):\n",
    "        candidates = [n for n in candidates if prime_check(int(n[:i]))]\n",
    "        candidates = [n for n in candidates if prime_check(int(n[i-1:]))]\n",
    "    truncatable.extend(candidates)\n",
    "\n",
    "sum([int(n) for n in truncatable])"
   ]
  },
  {
   "cell_type": "markdown",
   "metadata": {},
   "source": [
    "# 038\n",
    "**[Navigation](#Navigation)**\n",
    "## Pandigital multiples\n",
    "![problem 038](images/038.jpg)\n",
    "## Comments:\n",
    "In considering possible values of n, we can see that, for example, that n = 3 only works for 3-digit seed values between 100 and 333, or that n = 4 only works for 2-digit seed values between 25 and 33. There are ways to automate these calculations, but the result in any case is that the most efficient algorithm is to iterate backwards starting with the largest 4-digit number (actually 9876) until we find an n = 2 solution better than the n = 5 solution already mentioned, 918273645 — This means only iterating down to 9182.\n",
    "## Related problems:\n",
    "**[032 Pandigital products](#032)** | **[041 Pandigital prime](#041)** | **[043 Sub-string divisibility](#043)**"
   ]
  },
  {
   "cell_type": "code",
   "execution_count": 64,
   "metadata": {},
   "outputs": [
    {
     "name": "stdout",
     "output_type": "stream",
     "text": [
      "CPU times: user 761 µs, sys: 58 µs, total: 819 µs\n",
      "Wall time: 991 µs\n"
     ]
    },
    {
     "data": {
      "text/plain": [
       "'932718654'"
      ]
     },
     "execution_count": 64,
     "metadata": {},
     "output_type": "execute_result"
    }
   ],
   "source": [
    "%%time\n",
    "\n",
    "max_concatenated_product = 918273645\n",
    "\n",
    "for seed in range(9876, 9182, -1):\n",
    "    concatenated_product = str(seed) + str(seed*2)\n",
    "    if '0' in concatenated_product:\n",
    "        continue\n",
    "    if len(set(concatenated_product)) == 9:\n",
    "        max_concatenated_product = concatenated_product\n",
    "        break\n",
    "\n",
    "max_concatenated_product"
   ]
  },
  {
   "cell_type": "markdown",
   "metadata": {},
   "source": [
    "# 039\n",
    "**[Navigation](#Navigation)**\n",
    "## Integer right triangles\n",
    "![problem 039](images/039.jpg)\n",
    "## Comments:\n",
    "We can do a lot of algebra first to better understand how to generate and categorize integer right triangles where a^2 + b^2 = c^2.\n",
    "\n",
    "First, if a, b, and c have common factors, then there is a reduced version of them that do not have common factors. We can focus on identifying the reduced versions and generate multiples of them as needed.\n",
    "\n",
    "The Pythagorean theorem can be rearranged to a^2 = (c + b)(c - b). We can assume without loss of generality that a is odd. In the reduced case, (c + b) and (c - b) would not have any common factors, meaning that those two expressions represent relatively prime (and necessarily odd) factors of a^2. The solution below assumes a = p•q for some relatively prime p and q, and more algebra gives expressions for b and c in terms of p and q. We use odd p < odd q to generate all the reduced integer right triangles. Then we generate as many multiples of those triangles as meet the constraints of the problem.\n",
    "## Related problems:\n",
    "**[009 Special Pythagorean triplet](#009)**"
   ]
  },
  {
   "cell_type": "code",
   "execution_count": 65,
   "metadata": {},
   "outputs": [
    {
     "name": "stdout",
     "output_type": "stream",
     "text": [
      "CPU times: user 603 µs, sys: 6 µs, total: 609 µs\n",
      "Wall time: 626 µs\n"
     ]
    },
    {
     "data": {
      "text/plain": [
       "840"
      ]
     },
     "execution_count": 65,
     "metadata": {},
     "output_type": "execute_result"
    }
   ],
   "source": [
    "%%time\n",
    "\n",
    "perimeter_counts = [0]*1001\n",
    "max_count = 0\n",
    "\n",
    "for q in range(3,32,2):\n",
    "    for p in range(1, q, 2):\n",
    "        perimeter = int(p*q + (q**2 - p**2)/2 + (q**2 + p**2)/2)\n",
    "        if perimeter < 1001 and GCF([p,q]) == 1:\n",
    "            mult = 1\n",
    "            for mult in range(1, (1000 + perimeter) // perimeter):\n",
    "                perimeter_counts[mult*perimeter] += 1\n",
    "            if perimeter_counts[perimeter] > max_count:\n",
    "                max_count = perimeter_counts[perimeter]\n",
    "                winner = perimeter\n",
    "\n",
    "winner"
   ]
  },
  {
   "cell_type": "markdown",
   "metadata": {},
   "source": [
    "# 040\n",
    "**[Navigation](#Navigation)**\n",
    "## Champernowne's constant\n",
    "![problem 040](images/040.jpg)\n",
    "## Comments:\n",
    "This is mostly just an iteration headache.\n",
    "## Related problems:\n",
    "**[024 Lexicographic permutations](#024)**"
   ]
  },
  {
   "cell_type": "code",
   "execution_count": 66,
   "metadata": {},
   "outputs": [
    {
     "name": "stdout",
     "output_type": "stream",
     "text": [
      "CPU times: user 68 µs, sys: 0 ns, total: 68 µs\n",
      "Wall time: 73 µs\n"
     ]
    },
    {
     "data": {
      "text/plain": [
       "210"
      ]
     },
     "execution_count": 66,
     "metadata": {},
     "output_type": "execute_result"
    }
   ],
   "source": [
    "%%time\n",
    "\n",
    "prod = 1\n",
    "num_count = 1\n",
    "digit_count = 1\n",
    "for d in range(7): # iterates over the single-digit values that multiply to the solution\n",
    "    digits_remaining = 10**d - digit_count # number of digits to cycle through until the next d value\n",
    "    digit_length = len(str(num_count)) # establish how many digits n has\n",
    "    nums_remaining = 10**digit_length - num_count # in this many steps, we increase by a digit\n",
    "    while digits_remaining >= digit_length * nums_remaining: # if we must advance to a new digit length\n",
    "        digit_count += digit_length * nums_remaining # advance the digit count\n",
    "        digits_remaining = 10**d - digit_count # reset this value\n",
    "        num_count = 10**digit_length # advance the number count\n",
    "        digit_length = len(str(num_count)) # reset this value\n",
    "        nums_remaining = 10**digit_length - num_count # reset this value\n",
    "    num_count += digits_remaining // digit_length\n",
    "    digit_count += digits_remaining - digits_remaining % digit_length\n",
    "    prod *= int(str(num_count)[digits_remaining % digit_length])\n",
    "    \n",
    "prod"
   ]
  },
  {
   "cell_type": "markdown",
   "metadata": {},
   "source": [
    "# 041\n",
    "**[Navigation](#Navigation)**\n",
    "## Pandigital prime\n",
    "![problem 041](images/041.jpg)\n",
    "## Comments:\n",
    "Such pandigital primes are necessarily divisible by 3 unless n = 4 or 7. We'll work backwards from the largest 7-digit pandigital.\n",
    "\n",
    "We'll choose a set of candidates, and iterate over them descendingly. It takes too long to generate all the necessary primes up to 7 digits. We can generate pandigital candidates, but it turns out to be faster to just iterate over all numbers and check for the pandigital condition. We could add some more precision by ensuring our candidates only end in [1, 3, 7, 9]. We'll just make them odd.\n",
    "## Related problems:\n",
    "**[032 Pandigital product](#032)** | **[038 Pandigital multiples](#038)** | **[043 Sub-string divisibility](#043)**"
   ]
  },
  {
   "cell_type": "code",
   "execution_count": 67,
   "metadata": {},
   "outputs": [
    {
     "name": "stdout",
     "output_type": "stream",
     "text": [
      "CPU times: user 3.09 ms, sys: 32 µs, total: 3.12 ms\n",
      "Wall time: 3.19 ms\n"
     ]
    },
    {
     "data": {
      "text/plain": [
       "7654319"
      ]
     },
     "execution_count": 67,
     "metadata": {},
     "output_type": "execute_result"
    }
   ],
   "source": [
    "%%time\n",
    "\n",
    "primes = [2, 3]\n",
    "prime_gen(maximum=int(np.sqrt(7654321)))\n",
    "prime_gen()\n",
    "\n",
    "max_prime = 0\n",
    "\n",
    "for n in range(7654321, 7123456, -2):\n",
    "    if prime_check(int(n)):\n",
    "        max_prime = int(n)\n",
    "        break\n",
    "\n",
    "if max_prime == 0:\n",
    "    for n in range(4321, 4122, -2):\n",
    "        if prime_check(int(n)):\n",
    "            max_prime = int(n)\n",
    "            break\n",
    "\n",
    "max_prime"
   ]
  },
  {
   "cell_type": "markdown",
   "metadata": {},
   "source": [
    "# 042\n",
    "**[Navigation](#Navigation)**\n",
    "## Coded triangle numbers\n",
    "![problem 042](images/042.jpg)\n",
    "## Comments:\n",
    "We can use some fancy algebra to pinpoint exactly how many triangular numbers we need to generate.\n",
    "## Related problems:"
   ]
  },
  {
   "cell_type": "code",
   "execution_count": 68,
   "metadata": {},
   "outputs": [],
   "source": [
    "f = open('p042_words.txt', 'r')\n",
    "content = f.read().strip('\"').split('\",\"')\n",
    "f.close()"
   ]
  },
  {
   "cell_type": "code",
   "execution_count": 69,
   "metadata": {},
   "outputs": [
    {
     "name": "stdout",
     "output_type": "stream",
     "text": [
      "CPU times: user 4.83 ms, sys: 610 µs, total: 5.44 ms\n",
      "Wall time: 5.21 ms\n"
     ]
    },
    {
     "data": {
      "text/plain": [
       "162"
      ]
     },
     "execution_count": 69,
     "metadata": {},
     "output_type": "execute_result"
    }
   ],
   "source": [
    "%%time\n",
    "\n",
    "max_word_length = max([len(word) for word in content])\n",
    "max_triangular_number = max_word_length * (ord('z') - 64)\n",
    "max_n = int((np.sqrt(1 + 8*max_triangular_number) - 1) / 2) # use the quad. formula to solve for size of triangle\n",
    "triangular_numbers = [int(i*(i+1)/2) for i in range(max_n)]\n",
    "\n",
    "triangular_words = []\n",
    "\n",
    "for word in content:\n",
    "    count = sum([ord(word[i]) - 64 for i in range(len(word))])\n",
    "    if count in triangular_numbers:\n",
    "        triangular_words.append(word)\n",
    "\n",
    "len(triangular_words)"
   ]
  },
  {
   "cell_type": "markdown",
   "metadata": {},
   "source": [
    "# 043\n",
    "**[Navigation](#Navigation)**\n",
    "## Sub-string divisibility\n",
    "![problem 043](images/043.jpg)\n",
    "## Comments:\n",
    "A succinct solution method is to keep track of a list of candidates starting with the last three digits (that must be divisible by 17). Then generate more candidates by adding digits to the left but at the same time eliminate candidates based on the constraints.\n",
    "\n",
    "A more clever mathematical method is to deduce, for example, that d6 must equal 0 or 5 in order for d4d5d6 to divide 5 but that d6 must not equal 0 because no solutions would exist that d6d7d8 divides 11 and the number is pandigital.\n",
    "## Related problems:\n",
    "**[032 Pandigital products](#032)** | **[038 Pandigital multiples](#038)** | **[041 Pandigital prime](#041)**"
   ]
  },
  {
   "cell_type": "code",
   "execution_count": 70,
   "metadata": {},
   "outputs": [
    {
     "name": "stdout",
     "output_type": "stream",
     "text": [
      "CPU times: user 1.94 ms, sys: 2 µs, total: 1.94 ms\n",
      "Wall time: 1.95 ms\n"
     ]
    },
    {
     "data": {
      "text/plain": [
       "16695334890"
      ]
     },
     "execution_count": 70,
     "metadata": {},
     "output_type": "execute_result"
    }
   ],
   "source": [
    "%%time\n",
    "\n",
    "primes = [2, 3]\n",
    "prime_gen(length=7)\n",
    "factors = [1] + primes\n",
    "\n",
    "candidates = [n for n in permutations([str(m) for m in range(10)], 2)] # generate last 2 digits\n",
    "for i in range(7,-1,-1): # successively add digits to the left that meet constraints\n",
    "    candidates = [digit+stem for digit in [str(n) for n in range(10)] for stem in candidates if \\\n",
    "                  len(digit+stem) == len(set(digit+stem)) and \\\n",
    "                  int((digit+stem)[:3]) % factors[i] == 0\n",
    "                 ]\n",
    "\n",
    "sum([int(x) for x in candidates])"
   ]
  },
  {
   "cell_type": "markdown",
   "metadata": {},
   "source": [
    "# 044\n",
    "**[Navigation](#Navigation)**\n",
    "## Pentagon numbers\n",
    "![problem 044](images/044.jpg)\n",
    "## Comments:\n",
    "As pentagon numbers are generated by a quadratic function, the quadratic formula can be used to check the condition of being a pentagon number.\n",
    "\n",
    "This problem amounts to finding 4 unique pentagon numbers. We can streamline the iteration by searching for the 2 smallest numbers, but some additional checking will be required to determine which of them is the difference sought for.\n",
    "\n",
    "It turns out that the first solution found is the minimal one, but it is not clear how to validate that this is minimal in a reasonable runtime.\n",
    "\n",
    "Idea to explore: Use prime residuals. Plug the numbers 1 to 5 into the formula and observe that pentagon numbers are always congruent to 0, 1 or 2 modulo 5. They are also always congruent to 0, 1, 2, or 5 modulo 7. Putting just these two facts together gives us [0, 1, 2, 5, 7, 12, 15, 16, 21, 22, 26, 30] modulo 35, just over a third of the possible numbers.\n",
    "## Related problems:\n",
    "**[045 Triangular, pentagonal, and hexagonal](#045)**"
   ]
  },
  {
   "cell_type": "code",
   "execution_count": 71,
   "metadata": {},
   "outputs": [
    {
     "name": "stdout",
     "output_type": "stream",
     "text": [
      "CPU times: user 2.71 s, sys: 46.2 ms, total: 2.76 s\n",
      "Wall time: 2.87 s\n"
     ]
    },
    {
     "data": {
      "text/plain": [
       "5482660"
      ]
     },
     "execution_count": 71,
     "metadata": {},
     "output_type": "execute_result"
    }
   ],
   "source": [
    "%%time\n",
    "\n",
    "Pn = []\n",
    "n = 1\n",
    "solved = False\n",
    "while solved == False:\n",
    "    Pn.append(n*(3*n-1)//2)\n",
    "    Pb = Pn[-1]\n",
    "    for Pa in [x for x in Pn if x >= 3*n + 1]:\n",
    "        if np.sqrt(1+24*(Pa+Pb)) % 6 == 5:\n",
    "            if np.sqrt(1+24*(2*Pa+Pb)) % 6 == 5:\n",
    "                D = Pb\n",
    "                solved = True\n",
    "                break\n",
    "            elif np.sqrt(1+24*(Pa+2*Pb)) % 6 == 5:\n",
    "                D = Pa\n",
    "                solved = True\n",
    "                break\n",
    "    n += 1\n",
    "\n",
    "D"
   ]
  },
  {
   "cell_type": "markdown",
   "metadata": {},
   "source": [
    "# 045\n",
    "**[Navigation](#Navigation)**\n",
    "## Triangular, pentagonal, and hexagonal\n",
    "![problem 045](images/045.jpg)\n",
    "## Comments:\n",
    "## Related problems:\n",
    "**[044 Pentagon numbers](#044)**"
   ]
  },
  {
   "cell_type": "code",
   "execution_count": 72,
   "metadata": {},
   "outputs": [
    {
     "name": "stdout",
     "output_type": "stream",
     "text": [
      "CPU times: user 58.6 ms, sys: 2.96 ms, total: 61.6 ms\n",
      "Wall time: 65.1 ms\n"
     ]
    },
    {
     "data": {
      "text/plain": [
       "1533776805"
      ]
     },
     "execution_count": 72,
     "metadata": {},
     "output_type": "execute_result"
    }
   ],
   "source": [
    "%%time\n",
    "\n",
    "solved = False\n",
    "h = 144 # go past the solution already indicated\n",
    "while solved == False:\n",
    "    H = h*(2*h - 1) # generate hexagonal numbers\n",
    "    p = (1 + np.sqrt(1+24*(H))) / 6 # solve for pentagonal index\n",
    "    if p == int(p): # verify pentagonal\n",
    "        solved = True\n",
    "        break\n",
    "    h += 1\n",
    "H"
   ]
  },
  {
   "cell_type": "markdown",
   "metadata": {},
   "source": [
    "# 046\n",
    "**[Navigation](#Navigation)**\n",
    "## Goldbach's other conjecture\n",
    "![problem 046](images/046.jpg)\n",
    "## Comments:\n",
    "## Related problems:"
   ]
  },
  {
   "cell_type": "code",
   "execution_count": 83,
   "metadata": {},
   "outputs": [
    {
     "name": "stdout",
     "output_type": "stream",
     "text": [
      "CPU times: user 173 ms, sys: 5.94 ms, total: 179 ms\n",
      "Wall time: 186 ms\n"
     ]
    },
    {
     "data": {
      "text/plain": [
       "5777"
      ]
     },
     "execution_count": 83,
     "metadata": {},
     "output_type": "execute_result"
    }
   ],
   "source": [
    "%%time\n",
    "\n",
    "n = 7\n",
    "\n",
    "primes = [2, 3]\n",
    "\n",
    "solved = False\n",
    "while solved == False:\n",
    "    n += 2\n",
    "    prime_gen()\n",
    "    while prime_check(n): # we need to skip instances of n being prime\n",
    "        n += 4 # skip an odd, because the next odd (prime + 2) will clearly satisfy the conjecture\n",
    "        prime_gen()\n",
    "    for p in primes[1:]:\n",
    "        if p > n: # once we hit a prime bigger than n, we know we have failed to find n = p + 2r^2\n",
    "            solved = True\n",
    "            break\n",
    "        r = np.sqrt((n - p) / 2)\n",
    "        if r == int(r): # if r is an integer, then we have satisfied n = p + 2r^2\n",
    "            break\n",
    "n"
   ]
  },
  {
   "cell_type": "markdown",
   "metadata": {},
   "source": [
    "# 047\n",
    "**[Navigation](#Navigation)**\n",
    "## Distinct primes factors\n",
    "![problem 047](images/047.jpg)\n",
    "## Comments:\n",
    "## Related problems:"
   ]
  },
  {
   "cell_type": "code",
   "execution_count": 95,
   "metadata": {},
   "outputs": [
    {
     "name": "stdout",
     "output_type": "stream",
     "text": [
      "CPU times: user 3.32 s, sys: 33 ms, total: 3.35 s\n",
      "Wall time: 3.41 s\n"
     ]
    },
    {
     "data": {
      "text/plain": [
       "134043"
      ]
     },
     "execution_count": 95,
     "metadata": {},
     "output_type": "execute_result"
    }
   ],
   "source": [
    "%%time\n",
    "\n",
    "primes = [2, 3]\n",
    "\n",
    "solved = False\n",
    "n = 2*3*5*7 # first eligible \n",
    "\n",
    "while solved == False:\n",
    "    solved = True # reset to True, and only change to False upon failure of any of the four consecutive values\n",
    "    for i in range(4):\n",
    "        if len(prime_fac(n+i)) != 4: # test until failure\n",
    "            n += i + 1 # upon failure, skip past value that failed\n",
    "            solved = False\n",
    "            break\n",
    "n"
   ]
  },
  {
   "cell_type": "markdown",
   "metadata": {},
   "source": [
    "# 048\n",
    "**[Navigation](#Navigation)**\n",
    "## Self powers\n",
    "![problem 048](images/048.jpg)\n",
    "## Comments:\n",
    "## Related problems:"
   ]
  },
  {
   "cell_type": "code",
   "execution_count": 115,
   "metadata": {},
   "outputs": [
    {
     "name": "stdout",
     "output_type": "stream",
     "text": [
      "CPU times: user 10.9 ms, sys: 893 µs, total: 11.8 ms\n",
      "Wall time: 11.2 ms\n"
     ]
    },
    {
     "data": {
      "text/plain": [
       "9110846700"
      ]
     },
     "execution_count": 115,
     "metadata": {},
     "output_type": "execute_result"
    }
   ],
   "source": [
    "%%time\n",
    "\n",
    "sum([n**n for n in range(1,1001)]) % 10**10"
   ]
  },
  {
   "cell_type": "markdown",
   "metadata": {},
   "source": [
    "# 049\n",
    "**[Navigation](#Navigation)**\n",
    "## Prime permutations\n",
    "![problem 049](images/049.jpg)\n",
    "## Comments:\n",
    "## Related problems:"
   ]
  },
  {
   "cell_type": "code",
   "execution_count": 123,
   "metadata": {},
   "outputs": [
    {
     "name": "stdout",
     "output_type": "stream",
     "text": [
      "CPU times: user 86 ms, sys: 3.63 ms, total: 89.6 ms\n",
      "Wall time: 92.1 ms\n"
     ]
    },
    {
     "data": {
      "text/plain": [
       "296962999629"
      ]
     },
     "execution_count": 123,
     "metadata": {},
     "output_type": "execute_result"
    }
   ],
   "source": [
    "%%time\n",
    "\n",
    "primes = [2, 3]\n",
    "prime_gen(maximum=10000)\n",
    "solved = False\n",
    "for a in [p for p in primes if p > 999 and p != 1487]:\n",
    "    for b in [int(p) for p in permutations(str(a), 4) if int(p) > a and int(p) in primes]:\n",
    "        c = 2*b - a\n",
    "        if c in primes and str(c) in permutations(str(a), 4):\n",
    "            solved = True\n",
    "            result = int(str(a)+str(b)+str(c))\n",
    "            break\n",
    "    if solved == True:\n",
    "        break\n",
    "result"
   ]
  },
  {
   "cell_type": "markdown",
   "metadata": {},
   "source": [
    "# 050\n",
    "**[Navigation](#Navigation)**\n",
    "## Consecutive prime sum\n",
    "![problem 050](images/050.jpg)\n",
    "## Comments:\n",
    "## Related problems:"
   ]
  },
  {
   "cell_type": "code",
   "execution_count": 162,
   "metadata": {},
   "outputs": [
    {
     "name": "stdout",
     "output_type": "stream",
     "text": [
      "CPU times: user 1.86 s, sys: 24.8 ms, total: 1.89 s\n",
      "Wall time: 1.97 s\n"
     ]
    },
    {
     "data": {
      "text/plain": [
       "997651"
      ]
     },
     "execution_count": 162,
     "metadata": {},
     "output_type": "execute_result"
    }
   ],
   "source": [
    "%%time\n",
    "\n",
    "upper_bound = 10**6\n",
    "primes = [2, 3]\n",
    "prime_gen(maximum=upper_bound)\n",
    "\n",
    "total, index = 0, 0\n",
    "while total <= primes[-1]:\n",
    "    total += primes[index]\n",
    "    index += 1\n",
    "sum_length = index - 1\n",
    "\n",
    "solved = False\n",
    "while solved == False:\n",
    "    prime_sum = sum([p for p in primes[:sum_length]])\n",
    "    i = 0\n",
    "    while prime_sum < upper_bound:\n",
    "        if prime_sum in primes:\n",
    "            solved = True\n",
    "            break\n",
    "        else:\n",
    "            i += 1\n",
    "            prime_sum = sum([p for p in primes[i:i + sum_length]])\n",
    "    sum_length -= 1\n",
    "prime_sum"
   ]
  },
  {
   "cell_type": "markdown",
   "metadata": {},
   "source": [
    "# #051 Prime digit replacements\n",
    "By replacing the 1st digit of the 2-digit number *3, it turns out that six of the nine possible values: 13, 23, 43, 53, 73, and 83, are all prime.\n",
    "\n",
    "By replacing the 3rd and 4th digits of 56**3 with the same digit, this 5-digit number is the first example having seven primes among the ten generated numbers, yielding the family: 56003, 56113, 56333, 56443, 56663, 56773, and 56993. Consequently 56003, being the first member of this family, is the smallest prime with this property.\n",
    "\n",
    "Find the smallest prime which, by replacing part of the number (not necessarily adjacent digits) with the same digit, is part of an eight prime value family.\n",
    "\n"
   ]
  },
  {
   "cell_type": "code",
   "execution_count": 79,
   "metadata": {
    "scrolled": true
   },
   "outputs": [
    {
     "name": "stdout",
     "output_type": "stream",
     "text": [
      "121313\n",
      "8\n",
      "(0, 2, 4)\n",
      "CPU times: user 9 s, sys: 112 ms, total: 9.12 s\n",
      "Wall time: 9.37 s\n"
     ]
    }
   ],
   "source": [
    "%%time\n",
    "\n",
    "# The difference in adding various digits is something like 00101. Adding this value successive times will make\n",
    "# one out of every three values divisible by 3. The example is the maximal case of this constraint, as using\n",
    "# 2, 5, or 8 evidently would have made the number divisible by 3. The trick will be to use the new digit exactly\n",
    "# three (or six?) times.\n",
    "\n",
    "# iterate over number (n) of ALL digits (4+)\n",
    "# iterate over number (k) of SPECIAL digits to replace (3, 6, ..)\n",
    "# iterate over the placement combinations (n-choose-k) of the SPECIAL digits\n",
    "#   make sure the final digit is not included in these combinations\n",
    "#   do something about the first digit? (not zero?)\n",
    "# iterate over ways to populate (n-k) NORMAL digits\n",
    "#   make sure the final digit is 1, 3, 7, 9\n",
    "#   do something about the first digit? (not zero?)\n",
    "# iterate over 0-9 to populate SPECIAL digits, checking for primeness\n",
    "\n",
    "# OR, since we already have the list of primes, we could run the list of primes and check them for this condition?\n",
    "# This has another advantage that, since we need 8, we only have to check for repetition of 0, 1, or 2.\n",
    "\n",
    "# This function will take a number n (a candidate prime) and a digit k (0, 1, or 2)\n",
    "# and return True if it has at least 3 instances of that digit, followed by the places of that digit\n",
    "\n",
    "i = 167\n",
    "victory = False\n",
    "while victory == False:\n",
    "    # n is a prime greater than 1000\n",
    "    n = primes[i]\n",
    "    # sn is the string of that prime\n",
    "    sn = str(n)\n",
    "    # length is the number of digits of that prime\n",
    "    length = len(str(n))\n",
    "    # places will populate with the places of the three repeaters\n",
    "    places = [[],[],[]]\n",
    "    # iterate over all places in n\n",
    "    for place in range(length):\n",
    "        # iterate over repeaters 0s, 1s, 2s\n",
    "        for repeater in range(2):\n",
    "            # check whether each repeater matches the digit in place\n",
    "            if sn[place] == str(repeater):\n",
    "                # build the places list of lists\n",
    "                places[repeater].append(place)\n",
    "    # iterate over repeaters 0s, 1s, 2s\n",
    "    for repeater in range(2):\n",
    "        # check whether at least three places hold a certain repeater\n",
    "        if len(places[repeater]) > 2:\n",
    "            # create list of choose-3 combinations of places that hold repeater\n",
    "            place_combos = list(itertools.combinations(places[repeater], 3))\n",
    "            # iterate over combinations of places\n",
    "            for combo in place_combos:\n",
    "                generator = 10**(length-combo[0]-1) + 10**(length-combo[1]-1) + 10**(length-combo[2]-1)\n",
    "                n_base = n - generator * repeater\n",
    "                prime_count = 0\n",
    "                for j in range(10):\n",
    "                    if (n_base + generator * j in primes) and (len(str(n_base + generator * j)) == length):\n",
    "                        prime_count += 1\n",
    "                if prime_count > 7:\n",
    "                    victory = True\n",
    "                    print(n)\n",
    "                    print(prime_count)\n",
    "                    print(combo)\n",
    "                    break\n",
    "    i += 1"
   ]
  },
  {
   "cell_type": "markdown",
   "metadata": {},
   "source": [
    "# #052 Permuted multiples\n",
    "It can be seen that the number, 125874, and its double, 251748, contain exactly the same digits, but in a different order.\n",
    "\n",
    "Find the smallest positive integer, x, such that 2x, 3x, 4x, 5x, and 6x, contain the same digits.\n",
    "\n"
   ]
  },
  {
   "cell_type": "code",
   "execution_count": 80,
   "metadata": {},
   "outputs": [
    {
     "ename": "NameError",
     "evalue": "name 'digicom' is not defined",
     "output_type": "error",
     "traceback": [
      "\u001b[0;31m---------------------------------------------------------------------------\u001b[0m",
      "\u001b[0;31mNameError\u001b[0m                                 Traceback (most recent call last)",
      "\u001b[0;32m<ipython-input-80-3672f0d3363e>\u001b[0m in \u001b[0;36m<module>\u001b[0;34m\u001b[0m\n\u001b[1;32m      2\u001b[0m \u001b[0mvictory\u001b[0m \u001b[0;34m=\u001b[0m \u001b[0;32mFalse\u001b[0m\u001b[0;34m\u001b[0m\u001b[0;34m\u001b[0m\u001b[0m\n\u001b[1;32m      3\u001b[0m \u001b[0;32mwhile\u001b[0m \u001b[0mvictory\u001b[0m \u001b[0;34m==\u001b[0m \u001b[0;32mFalse\u001b[0m\u001b[0;34m:\u001b[0m\u001b[0;34m\u001b[0m\u001b[0;34m\u001b[0m\u001b[0m\n\u001b[0;32m----> 4\u001b[0;31m     if (digicom(n) == digicom(2*n)\n\u001b[0m\u001b[1;32m      5\u001b[0m        \u001b[0;32mand\u001b[0m \u001b[0mdigicom\u001b[0m\u001b[0;34m(\u001b[0m\u001b[0mn\u001b[0m\u001b[0;34m)\u001b[0m \u001b[0;34m==\u001b[0m \u001b[0mdigicom\u001b[0m\u001b[0;34m(\u001b[0m\u001b[0;36m3\u001b[0m\u001b[0;34m*\u001b[0m\u001b[0mn\u001b[0m\u001b[0;34m)\u001b[0m\u001b[0;34m\u001b[0m\u001b[0;34m\u001b[0m\u001b[0m\n\u001b[1;32m      6\u001b[0m        \u001b[0;32mand\u001b[0m \u001b[0mdigicom\u001b[0m\u001b[0;34m(\u001b[0m\u001b[0mn\u001b[0m\u001b[0;34m)\u001b[0m \u001b[0;34m==\u001b[0m \u001b[0mdigicom\u001b[0m\u001b[0;34m(\u001b[0m\u001b[0;36m4\u001b[0m\u001b[0;34m*\u001b[0m\u001b[0mn\u001b[0m\u001b[0;34m)\u001b[0m\u001b[0;34m\u001b[0m\u001b[0;34m\u001b[0m\u001b[0m\n",
      "\u001b[0;31mNameError\u001b[0m: name 'digicom' is not defined"
     ]
    }
   ],
   "source": [
    "n = 1\n",
    "victory = False\n",
    "while victory == False:\n",
    "    if (digicom(n) == digicom(2*n)\n",
    "       and digicom(n) == digicom(3*n)\n",
    "       and digicom(n) == digicom(4*n)\n",
    "       and digicom(n) == digicom(5*n)\n",
    "       and digicom(n) == digicom(6*n)):\n",
    "        victory = True\n",
    "        print(n)\n",
    "    n += 1"
   ]
  },
  {
   "cell_type": "markdown",
   "metadata": {},
   "source": [
    "# #053 Combinatoric selections\n",
    "There are exactly ten ways of selecting three from five, 12345:\n",
    "\n",
    "123, 124, 125, 134, 135, 145, 234, 235, 245, and 345\n",
    "\n",
    "In combinatorics, we use the notation, \n",
    ".\n",
    "\n",
    "In general, \n",
    " \n",
    ", where \n",
    ", \n",
    ", and \n",
    ".\n",
    "\n",
    "It is not until \n",
    ", that a value exceeds one-million: \n",
    ".\n",
    "\n",
    "How many, not necessarily distinct, values of \n",
    " for \n",
    ", are greater than one-million?\n",
    "\n"
   ]
  },
  {
   "cell_type": "code",
   "execution_count": null,
   "metadata": {},
   "outputs": [],
   "source": [
    "count = 0\n",
    "for n in range(22,101):\n",
    "    for r in range(n):\n",
    "        if factorial(n) / (factorial(n-r) * factorial(r)) > 1000000:\n",
    "            count += 1\n",
    "\n",
    "count"
   ]
  },
  {
   "cell_type": "markdown",
   "metadata": {},
   "source": [
    "# #054 Poker hands\n",
    "In the card game poker, a hand consists of five cards and are ranked, from lowest to highest, in the following way:\n",
    "\n",
    "High Card: Highest value card.\n",
    "One Pair: Two cards of the same value.\n",
    "Two Pairs: Two different pairs.\n",
    "Three of a Kind: Three cards of the same value.\n",
    "Straight: All cards are consecutive values.\n",
    "Flush: All cards of the same suit.\n",
    "Full House: Three of a kind and a pair.\n",
    "Four of a Kind: Four cards of the same value.\n",
    "Straight Flush: All cards are consecutive values of same suit.\n",
    "Royal Flush: Ten, Jack, Queen, King, Ace, in same suit.\n",
    "The cards are valued in the order:\n",
    "2, 3, 4, 5, 6, 7, 8, 9, 10, Jack, Queen, King, Ace.\n",
    "\n",
    "If two players have the same ranked hands then the rank made up of the highest value wins; for example, a pair of eights beats a pair of fives (see example 1 below). But if two ranks tie, for example, both players have a pair of queens, then highest cards in each hand are compared (see example 4 below); if the highest cards tie then the next highest cards are compared, and so on.\n",
    "\n",
    "Consider the following five hands dealt to two players:\n",
    "\n",
    "Hand\t \tPlayer 1\t \tPlayer 2\t \tWinner\n",
    "1\t \t5H 5C 6S 7S KD\n",
    "Pair of Fives\n",
    " \t2C 3S 8S 8D TD\n",
    "Pair of Eights\n",
    " \tPlayer 2\n",
    "2\t \t5D 8C 9S JS AC\n",
    "Highest card Ace\n",
    " \t2C 5C 7D 8S QH\n",
    "Highest card Queen\n",
    " \tPlayer 1\n",
    "3\t \t2D 9C AS AH AC\n",
    "Three Aces\n",
    " \t3D 6D 7D TD QD\n",
    "Flush with Diamonds\n",
    " \tPlayer 2\n",
    "4\t \t4D 6S 9H QH QC\n",
    "Pair of Queens\n",
    "Highest card Nine\n",
    " \t3D 6D 7H QD QS\n",
    "Pair of Queens\n",
    "Highest card Seven\n",
    " \tPlayer 1\n",
    "5\t \t2H 2D 4C 4D 4S\n",
    "Full House\n",
    "With Three Fours\n",
    " \t3C 3D 3S 9S 9D\n",
    "Full House\n",
    "with Three Threes\n",
    " \tPlayer 1\n",
    "The file, poker.txt, contains one-thousand random hands dealt to two players. Each line of the file contains ten cards (separated by a single space): the first five are Player 1's cards and the last five are Player 2's cards. You can assume that all hands are valid (no invalid characters or repeated cards), each player's hand is in no specific order, and in each hand there is a clear winner.\n",
    "\n",
    "How many hands does Player 1 win?\n",
    "\n"
   ]
  },
  {
   "cell_type": "code",
   "execution_count": null,
   "metadata": {},
   "outputs": [],
   "source": [
    "f = open('p054_poker.txt', 'r')\n",
    "content = f.read()\n",
    "f.close()\n",
    "\n",
    "content = content.replace('\\n', ' ').split(' ')"
   ]
  },
  {
   "cell_type": "code",
   "execution_count": null,
   "metadata": {},
   "outputs": [],
   "source": [
    "def flush(hand):\n",
    "    suits = set()\n",
    "    for i in range(5):\n",
    "        suits.add(hand[i][1])\n",
    "    if len(suits) == 1:\n",
    "        return True\n",
    "    else:\n",
    "        return False\n",
    "\n",
    "def vals(hand):\n",
    "    vals = []\n",
    "    for i in range(5):\n",
    "        if hand[i][0] == 'A':\n",
    "            vals.append(14)\n",
    "        elif hand[i][0] == 'K':\n",
    "            vals.append(13)\n",
    "        elif hand[i][0] == 'Q':\n",
    "            vals.append(12)\n",
    "        elif hand[i][0] == 'J':\n",
    "            vals.append(11)\n",
    "        elif hand[i][0] == 'T':\n",
    "            vals.append(10)\n",
    "        else:\n",
    "            vals.append(int(hand[i][0]))\n",
    "    vals.sort()\n",
    "    vals.reverse()\n",
    "    return vals\n",
    "\n",
    "def valcounts(vals):\n",
    "    valcounts = [0] * 15\n",
    "    for value in vals:\n",
    "        valcounts[value] += 1\n",
    "    return valcounts\n",
    "\n",
    "def rank(hand):\n",
    "    values = vals(hand)\n",
    "    num_unique = len(set(values))\n",
    "    # check all unique values\n",
    "    if num_unique == 5:\n",
    "        # check WHEEL\n",
    "        if set(values) == set([2, 3, 4, 5, 14]):\n",
    "            straight = True\n",
    "            high = [5]\n",
    "        # check other straights\n",
    "        elif max(values) - min(values) == 4:\n",
    "            straight = True\n",
    "            high = [values[0]]\n",
    "        # deduce not a straight\n",
    "        else:\n",
    "            straight = False\n",
    "            high = values\n",
    "        # check flush\n",
    "        if flush(hand):\n",
    "            # check straight flush\n",
    "            if straight:\n",
    "                return (8, high)\n",
    "            # deduce flush (only)\n",
    "            else:\n",
    "                return (5, high)\n",
    "        # not a flush\n",
    "        else:\n",
    "            # check straight (only)\n",
    "            if straight:\n",
    "                return (4, high)\n",
    "            # deduce high card (only)\n",
    "            else:\n",
    "                return (0, high)\n",
    "    else:\n",
    "        counts = valcounts(values)\n",
    "        # check one pair\n",
    "        if num_unique == 4:\n",
    "            # find which value is paired\n",
    "            for i in range(2,15):\n",
    "                if counts[i] == 2:\n",
    "                    # set first high value to the paired value\n",
    "                    high = [i]\n",
    "                    # add all other values to the high list (won't matter that paired card is included)\n",
    "                    high.extend(values)\n",
    "                    return (1, high)\n",
    "        # check two pair or trips\n",
    "        elif num_unique == 3:\n",
    "            # check two pair\n",
    "            if max(counts) == 2:\n",
    "                pairs = []\n",
    "                i = 2\n",
    "                # find which values are paired \n",
    "                while len(pairs) < 2:\n",
    "                    if counts[i] == 2:\n",
    "                        pairs.append(i)\n",
    "                    i += 1\n",
    "                high = [max(pairs), min(pairs)]\n",
    "                high.extend(values)\n",
    "                return (2, high)\n",
    "            # deduce trips\n",
    "            else:\n",
    "                # find which values are trips\n",
    "                for i in range(15):\n",
    "                    if counts[i] == 3:\n",
    "                        high = [i]\n",
    "                        high.extend(values)\n",
    "                        return (3, high)\n",
    "        # deduce full house or quads\n",
    "        else:\n",
    "            # distinguishing high card is just the middle value of the ordered values either way\n",
    "            high = values[2]\n",
    "            # check full house\n",
    "            if max(counts) == 3:\n",
    "                return (6, high)\n",
    "            # deduce quads\n",
    "            else:\n",
    "                return (7, high)\n",
    "\n",
    "def p1_win(p1_vals, p2_vals):\n",
    "    for i in range(len(p1_vals)):\n",
    "        if p1_vals[i] > p2_vals[i]:\n",
    "            return True\n",
    "        if p2_vals[i] > p1_vals[i]:\n",
    "            return False"
   ]
  },
  {
   "cell_type": "code",
   "execution_count": null,
   "metadata": {},
   "outputs": [],
   "source": [
    "p1_wins = 0\n",
    "\n",
    "for hand in range(1000):\n",
    "    p1_hand = []\n",
    "    p2_hand = []\n",
    "    for card in range(hand*10, hand*10 + 5):\n",
    "        p1_hand.append(content[card])\n",
    "    for card in range(hand*10 + 5, hand*10 + 10):\n",
    "        p2_hand.append(content[card])\n",
    "    p1_rank, p1_vals = rank(p1_hand)[0], rank(p1_hand)[1]\n",
    "    p2_rank, p2_vals = rank(p2_hand)[0], rank(p2_hand)[1]\n",
    "    if p1_rank > p2_rank or p1_rank == p2_rank and p1_win(p1_vals, p2_vals):\n",
    "        p1_wins += 1\n",
    "\n",
    "p1_wins"
   ]
  },
  {
   "cell_type": "markdown",
   "metadata": {},
   "source": [
    "# #055 Lychrel numbers\n",
    "If we take 47, reverse and add, 47 + 74 = 121, which is palindromic.\n",
    "\n",
    "Not all numbers produce palindromes so quickly. For example,\n",
    "\n",
    "349 + 943 = 1292,\n",
    "1292 + 2921 = 4213\n",
    "4213 + 3124 = 7337\n",
    "\n",
    "That is, 349 took three iterations to arrive at a palindrome.\n",
    "\n",
    "Although no one has proved it yet, it is thought that some numbers, like 196, never produce a palindrome. A number that never forms a palindrome through the reverse and add process is called a Lychrel number. Due to the theoretical nature of these numbers, and for the purpose of this problem, we shall assume that a number is Lychrel until proven otherwise. In addition you are given that for every number below ten-thousand, it will either (i) become a palindrome in less than fifty iterations, or, (ii) no one, with all the computing power that exists, has managed so far to map it to a palindrome. In fact, 10677 is the first number to be shown to require over fifty iterations before producing a palindrome: 4668731596684224866951378664 (53 iterations, 28-digits).\n",
    "\n",
    "Surprisingly, there are palindromic numbers that are themselves Lychrel numbers; the first example is 4994.\n",
    "\n",
    "How many Lychrel numbers are there below ten-thousand?\n",
    "\n",
    "NOTE: Wording was modified slightly on 24 April 2007 to emphasise the theoretical nature of Lychrel numbers.\n",
    "\n"
   ]
  },
  {
   "cell_type": "code",
   "execution_count": null,
   "metadata": {},
   "outputs": [],
   "source": [
    "lychrel = set()\n",
    "safe = {1,2,3,4,5,6,7,8,9}\n",
    "\n",
    "def rev(n):\n",
    "    length = len(str(n))\n",
    "    r = 0\n",
    "    for i in range(length):\n",
    "        r += (n%10)*10**(length - i - 1)\n",
    "        n = int(n/10)\n",
    "    return r"
   ]
  },
  {
   "cell_type": "code",
   "execution_count": null,
   "metadata": {},
   "outputs": [],
   "source": [
    "n = 9\n",
    "while n < 10000:\n",
    "    n += 1\n",
    "    temp = set()\n",
    "    attempts = 1\n",
    "    success = False\n",
    "    k = n\n",
    "    while (attempts < 50 and success == False):\n",
    "        k = k + rev(k)\n",
    "        if k < 10001:\n",
    "            temp.add(k)\n",
    "        if k == rev(k) or k in safe:\n",
    "            success = True\n",
    "        else:\n",
    "            attempts += 1\n",
    "    if success == True:\n",
    "        safe = safe.union(temp)\n",
    "    else:\n",
    "        lychrel.add(n)\n",
    "len(lychrel)"
   ]
  },
  {
   "cell_type": "markdown",
   "metadata": {},
   "source": [
    "# #056 Powerful digit sum\n",
    "A googol (10100) is a massive number: one followed by one-hundred zeros; 100100 is almost unimaginably large: one followed by two-hundred zeros. Despite their size, the sum of the digits in each number is only 1.\n",
    "\n",
    "Considering natural numbers of the form, ab, where a, b < 100, what is the maximum digital sum?\n",
    "\n"
   ]
  },
  {
   "cell_type": "code",
   "execution_count": null,
   "metadata": {},
   "outputs": [],
   "source": [
    "def digisum(n):\n",
    "    result = 0\n",
    "    while n != 0:\n",
    "        result += n%10\n",
    "        n //= 10\n",
    "    return result\n",
    "\n",
    "winner = 0\n",
    "for a in range(1,100):\n",
    "    for b in range(1,100):\n",
    "        dig_sum = digisum(a**b)\n",
    "        if dig_sum > winner:\n",
    "            winner = dig_sum\n",
    "\n",
    "winner"
   ]
  },
  {
   "cell_type": "markdown",
   "metadata": {},
   "source": [
    "# #057 Square root convergents\n",
    "It is possible to show that the square root of two can be expressed as an infinite continued fraction.\n",
    "\n",
    " \n",
    " \n",
    " \n",
    "\n",
    "By expanding this for the first four iterations, we get:\n",
    "\n",
    " \n",
    " \n",
    "\n",
    " \n",
    " \n",
    " \n",
    "\n",
    " \n",
    " \n",
    " \n",
    " \n",
    "\n",
    " \n",
    " \n",
    " \n",
    " \n",
    " \n",
    "\n",
    "\n",
    "The next three expansions are \n",
    " \n",
    ", \n",
    " \n",
    ", and \n",
    " \n",
    ", but the eighth expansion, \n",
    " \n",
    ", is the first example where the number of digits in the numerator exceeds the number of digits in the denominator.\n",
    "\n",
    "In the first one-thousand expansions, how many fractions contain a numerator with more digits than the denominator?\n",
    "\n"
   ]
  },
  {
   "cell_type": "code",
   "execution_count": null,
   "metadata": {},
   "outputs": [],
   "source": [
    "numer = [3,7]\n",
    "denom = [2,5]\n",
    "count = 0\n",
    "for i in range(2,1000):\n",
    "    numer.append(2*numer[-1] + numer[-2])\n",
    "    denom.append(2*denom[-1] + denom[-2])\n",
    "    if len(str(numer[i])) > len(str(denom[i])):\n",
    "        count += 1\n",
    "\n",
    "count"
   ]
  },
  {
   "cell_type": "markdown",
   "metadata": {},
   "source": [
    "# #058 Spiral primes\n",
    "Starting with 1 and spiralling anticlockwise in the following way, a square spiral with side length 7 is formed.\n",
    "\n",
    "37 36 35 34 33 32 31\n",
    "38 17 16 15 14 13 30\n",
    "39 18  5  4  3 12 29\n",
    "40 19  6  1  2 11 28\n",
    "41 20  7  8  9 10 27\n",
    "42 21 22 23 24 25 26\n",
    "43 44 45 46 47 48 49\n",
    "\n",
    "It is interesting to note that the odd squares lie along the bottom right diagonal, but what is more interesting is that 8 out of the 13 numbers lying along both diagonals are prime; that is, a ratio of 8/13 ≈ 62%.\n",
    "\n",
    "If one complete new layer is wrapped around the spiral above, a square spiral with side length 9 will be formed. If this process is continued, what is the side length of the square spiral for which the ratio of primes along both diagonals first falls below 10%?\n",
    "\n"
   ]
  },
  {
   "cell_type": "code",
   "execution_count": null,
   "metadata": {},
   "outputs": [],
   "source": [
    "# With each new layer of the spiral, the denominator is increased by 4 and the numerator is increased by\n",
    "# as many as 3, depending on how many of the non-square corners are prime. The formula below checks those 3 corners\n",
    "# and adds 10 to the numerator instead of 1 so that the \"below 10%\" condition can be checked without any division.\n",
    "\n",
    "numer = 0\n",
    "denom = 1\n",
    "n = 1\n",
    "\n",
    "while n == 1 or numer > denom:\n",
    "    n += 2\n",
    "    \n",
    "    for j in range(1,4):\n",
    "        if prime_check((n - 2)**2 + j * (n - 1)):\n",
    "            numer += 10\n",
    "    \n",
    "    denom += 4    \n",
    "\n",
    "n"
   ]
  },
  {
   "cell_type": "markdown",
   "metadata": {},
   "source": [
    "# #059 XOR decryption\n",
    "Each character on a computer is assigned a unique code and the preferred standard is ASCII (American Standard Code for Information Interchange). For example, uppercase A = 65, asterisk (*) = 42, and lowercase k = 107.\n",
    "\n",
    "A modern encryption method is to take a text file, convert the bytes to ASCII, then XOR each byte with a given value, taken from a secret key. The advantage with the XOR function is that using the same encryption key on the cipher text, restores the plain text; for example, 65 XOR 42 = 107, then 107 XOR 42 = 65.\n",
    "\n",
    "For unbreakable encryption, the key is the same length as the plain text message, and the key is made up of random bytes. The user would keep the encrypted message and the encryption key in different locations, and without both \"halves\", it is impossible to decrypt the message.\n",
    "\n",
    "Unfortunately, this method is impractical for most users, so the modified method is to use a password as a key. If the password is shorter than the message, which is likely, the key is repeated cyclically throughout the message. The balance for this method is using a sufficiently long password key for security, but short enough to be memorable.\n",
    "\n",
    "Your task has been made easy, as the encryption key consists of three lower case characters. Using p059_cipher.txt (right click and 'Save Link/Target As...'), a file containing the encrypted ASCII codes, and the knowledge that the plain text must contain common English words, decrypt the message and find the sum of the ASCII values in the original text.\n",
    "\n"
   ]
  },
  {
   "cell_type": "code",
   "execution_count": null,
   "metadata": {},
   "outputs": [],
   "source": [
    "f = open('p059_cipher.txt', 'r')\n",
    "content = f.read()\n",
    "f.close()\n",
    "\n",
    "content = content.split(',')\n",
    "\n",
    "cipher_code = []\n",
    "\n",
    "for num in content:\n",
    "    cipher_code.append(int(num))"
   ]
  },
  {
   "cell_type": "code",
   "execution_count": null,
   "metadata": {},
   "outputs": [],
   "source": [
    "# input integer in base-a, start base, end base\n",
    "# output integer in base-b\n",
    "\n",
    "def base_change(n,a,b):\n",
    "    result = 0\n",
    "    i = 0\n",
    "    while n > 0:\n",
    "        i += 1\n",
    "        result += (n % b) * a**(i-1)\n",
    "        n //= b\n",
    "    return result"
   ]
  },
  {
   "cell_type": "code",
   "execution_count": null,
   "metadata": {},
   "outputs": [],
   "source": [
    "# input: (encrypted) integer in base-10, key (ASCII integer in base-10)\n",
    "# output: (decrypted) integer in base-10\n",
    "\n",
    "def decrypt(n,k):\n",
    "    n_binary = base_change(n,10,2)\n",
    "    k_binary = base_change(k,10,2)\n",
    "    n_binary_decrypted = xor(n_binary,k_binary)\n",
    "    n_decrypted = base_change(n_binary_decrypted,2,10)\n",
    "    return n_decrypted"
   ]
  },
  {
   "cell_type": "code",
   "execution_count": null,
   "metadata": {},
   "outputs": [],
   "source": [
    "# input: (encrypted) integer in base-2, key in base-2\n",
    "# output: (decrypted) integer in base-2\n",
    "\n",
    "def xor(n,k):\n",
    "    sn, sk = str(n), str(k)\n",
    "    while len(sn) < 7:\n",
    "        sn = '0' + sn\n",
    "    while len(sk) < 7:\n",
    "        sk = '0' + sk\n",
    "    sn_decrypted = ''\n",
    "    for i in range(7):\n",
    "        if sn[i] == sk[i]:\n",
    "            sn_decrypted = sn_decrypted + '0'\n",
    "        else:\n",
    "            sn_decrypted = sn_decrypted + '1'\n",
    "    n_decrypted = int(sn_decrypted)\n",
    "    return n_decrypted"
   ]
  },
  {
   "cell_type": "code",
   "execution_count": null,
   "metadata": {},
   "outputs": [],
   "source": [
    "# mode 0: 101, 103\n",
    "# mode 1: 120\n",
    "# mode 2: 112\n",
    "\n",
    "for mode in range(3):\n",
    "    \n",
    "    print('Mode ' + str(mode))\n",
    "\n",
    "    for key in range(97,123):\n",
    "\n",
    "        plain_code, plain_text = [], ''\n",
    "        uppers, lowers, others = 0, 0, 0\n",
    "        plain_code_freq = [0] * 128\n",
    "\n",
    "        garbage_text = ''\n",
    "\n",
    "        for i in range(mode, len(cipher_code), 3):\n",
    "            block = decrypt(cipher_code[i],key)\n",
    "            plain_code_freq[block] += 1\n",
    "            if block < 65 or block in range(91,97) or block > 122:\n",
    "                garbage_text = garbage_text + chr(block)\n",
    "        score = 0\n",
    "\n",
    "        for a in ['e', 'a', 'r', 'i', 'o', 't', 'n', 's', 'l', 'c']:\n",
    "            for b in ['q', 'j', 'z', 'x', 'v', 'k', 'w', 'y', 'f', 'b']:\n",
    "                if plain_code_freq[ord(a)] > plain_code_freq[ord(b)]:\n",
    "                    score += 1\n",
    "        if score > 85:\n",
    "            print(str(key) + ': score = ' + str(score) + '; garbage = ' + garbage_text[:25])\n",
    "    \n",
    "    print('')"
   ]
  },
  {
   "cell_type": "code",
   "execution_count": null,
   "metadata": {},
   "outputs": [],
   "source": [
    "keys = [101, 120, 112]\n",
    "\n",
    "plain_text = ''\n",
    "ascii_sum = 0\n",
    "\n",
    "for i in range(len(cipher_code)):\n",
    "    mode = i % 3\n",
    "    plain_text = plain_text + chr(decrypt(cipher_code[i],keys[mode]))\n",
    "    ascii_sum += decrypt(cipher_code[i],keys[mode])\n",
    "\n",
    "print(plain_text)\n",
    "print('')\n",
    "print(ascii_sum)"
   ]
  },
  {
   "cell_type": "markdown",
   "metadata": {},
   "source": [
    "# #060 Prime pair sets\n",
    "The primes 3, 7, 109, and 673, are quite remarkable. By taking any two primes and concatenating them in any order the result will always be prime. For example, taking 7 and 109, both 7109 and 1097 are prime. The sum of these four primes, 792, represents the lowest sum for a set of four primes with this property.\n",
    "\n",
    "Find the lowest sum for a set of five primes for which any two primes concatenate to produce another prime.\n",
    "\n"
   ]
  },
  {
   "cell_type": "code",
   "execution_count": null,
   "metadata": {},
   "outputs": [],
   "source": [
    "def pair_check(m,n):\n",
    "    if prime_check(int(str(m)+str(n))) and prime_check(int(str(n)+str(m))):\n",
    "        return True\n",
    "    else:\n",
    "        return False"
   ]
  },
  {
   "cell_type": "code",
   "execution_count": null,
   "metadata": {},
   "outputs": [],
   "source": [
    "# this version bifurcates all classes of doubles, triples, etc. into 1 mod 3 and 2 mod 3\n",
    "# because for any prime pair, both primes have to be of the same class, otherwise their concatenation will\n",
    "# have digits summing to 3\n",
    "# (the actual number 3 is allowed in either class)\n",
    "\n",
    "doubles = [[],[]]\n",
    "triples = [[],[]]\n",
    "quadruples = [[],[]]\n",
    "quintuples = []\n",
    "success = False\n",
    "for m in primes[2:]:\n",
    "    if success == True or m > 20000:\n",
    "        break\n",
    "    mode = (m % 3) - 1\n",
    "    for quadruple in quadruples[mode]:\n",
    "        a, b, c, d = quadruple[0], quadruple[1], quadruple[2], quadruple[3]\n",
    "        if pair_check(a,m) and pair_check(b,m) and pair_check(c,m) and pair_check(d,m):\n",
    "            quintuples.append([a,b,c,d,m])\n",
    "            print(quintuples[-1])\n",
    "            print(sum(quintuples[-1]))\n",
    "            success = True\n",
    "    for triple in triples[mode]:\n",
    "        a, b, c = triple[0], triple[1], triple[2]\n",
    "        if pair_check(a,m) and pair_check(b,m) and pair_check(c,m):\n",
    "            quadruples[mode].append([a,b,c,m])\n",
    "    for double in doubles[mode]:\n",
    "        a, b = double[0], double[1]\n",
    "        if pair_check(a,m) and pair_check(b,m):\n",
    "            triples[mode].append([a,b,m])\n",
    "    for n in primes[1:]:\n",
    "        if n == m:\n",
    "            break\n",
    "        if pair_check(m,n):\n",
    "            doubles[mode].append([n,m])"
   ]
  },
  {
   "cell_type": "code",
   "execution_count": null,
   "metadata": {
    "scrolled": true
   },
   "outputs": [],
   "source": [
    "# this version collects doubles only\n",
    "# for every new prime considered, it compiles a collection of doubles that it could form a triple with\n",
    "# then it checks whether any of those \"mutual\" doubles are mutual with each other\n",
    "# if so, then you've got all 5\n",
    "\n",
    "doubles = [[],[]]\n",
    "quintuple = []\n",
    "success = False\n",
    "\n",
    "for m in primes[2:]:\n",
    "    if success == True or m > 20000:\n",
    "        break\n",
    "    mode = (m % 3) - 1\n",
    "    mutuals = []\n",
    "    \n",
    "    for double in doubles[mode]:\n",
    "        a, b = double[0], double[1]\n",
    "        if pair_check(a,m) and pair_check(b,m):\n",
    "            mutuals.append(double)\n",
    "\n",
    "    for i in range(len(mutuals) - 1):\n",
    "        if success == True:\n",
    "            break\n",
    "        for j in range(i + 1, len(mutuals)):\n",
    "            a, b = mutuals[i][0], mutuals[i][1]\n",
    "            x, y = mutuals[j][0], mutuals[j][1]\n",
    "            if pair_check(a,x) and pair_check(a,y) and pair_check(b,x) and pair_check(b,y):\n",
    "                success = True\n",
    "                quintuple = [a,b,x,y,m]\n",
    "                print(quintuple)\n",
    "                print(sum(quintuple))\n",
    "                break\n",
    "\n",
    "    for n in primes[1:]:\n",
    "        if n == m:\n",
    "            break\n",
    "        if pair_check(m,n):\n",
    "            doubles[mode].append([n,m])"
   ]
  },
  {
   "cell_type": "markdown",
   "metadata": {},
   "source": [
    "# #061 Cyclical figurate numbers\n",
    "Triangle, square, pentagonal, hexagonal, heptagonal, and octagonal numbers are all figurate (polygonal) numbers and are generated by the following formulae:\n",
    "\n",
    "Triangle\t \tP3,n=n(n+1)/2\t \t1, 3, 6, 10, 15, ...\n",
    "Square\t \tP4,n=n2\t \t1, 4, 9, 16, 25, ...\n",
    "Pentagonal\t \tP5,n=n(3n−1)/2\t \t1, 5, 12, 22, 35, ...\n",
    "Hexagonal\t \tP6,n=n(2n−1)\t \t1, 6, 15, 28, 45, ...\n",
    "Heptagonal\t \tP7,n=n(5n−3)/2\t \t1, 7, 18, 34, 55, ...\n",
    "Octagonal\t \tP8,n=n(3n−2)\t \t1, 8, 21, 40, 65, ...\n",
    "The ordered set of three 4-digit numbers: 8128, 2882, 8281, has three interesting properties.\n",
    "\n",
    "The set is cyclic, in that the last two digits of each number is the first two digits of the next number (including the last number with the first).\n",
    "Each polygonal type: triangle (P3,127=8128), square (P4,91=8281), and pentagonal (P5,44=2882), is represented by a different number in the set.\n",
    "This is the only set of 4-digit numbers with this property.\n",
    "Find the sum of the only ordered set of six cyclic 4-digit numbers for which each polygonal type: triangle, square, pentagonal, hexagonal, heptagonal, and octagonal, is represented by a different number in the set.\n",
    "\n"
   ]
  },
  {
   "cell_type": "code",
   "execution_count": null,
   "metadata": {},
   "outputs": [],
   "source": [
    "def quadratic(a,b,c):\n",
    "    return (-b + np.sqrt(b**2 - 4*a*c)) / (2*a)"
   ]
  },
  {
   "cell_type": "code",
   "execution_count": null,
   "metadata": {},
   "outputs": [],
   "source": [
    "# oct\n",
    "print(quadratic(3,-2,-999))\n",
    "print(quadratic(3,-2,-10000))"
   ]
  },
  {
   "cell_type": "code",
   "execution_count": null,
   "metadata": {},
   "outputs": [],
   "source": [
    "# hept\n",
    "print(quadratic(2.5,-1.5,-999))\n",
    "print(quadratic(2.5,-1.5,-10000))"
   ]
  },
  {
   "cell_type": "code",
   "execution_count": null,
   "metadata": {},
   "outputs": [],
   "source": [
    "# hex\n",
    "print(quadratic(2,-1,-999))\n",
    "print(quadratic(2,-1,-10000))"
   ]
  },
  {
   "cell_type": "code",
   "execution_count": null,
   "metadata": {},
   "outputs": [],
   "source": [
    "# pent\n",
    "print(quadratic(1.5,-.5,-999))\n",
    "print(quadratic(1.5,-.5,-10000))"
   ]
  },
  {
   "cell_type": "code",
   "execution_count": null,
   "metadata": {},
   "outputs": [],
   "source": [
    "# square\n",
    "print(quadratic(1,0,-999))\n",
    "print(quadratic(1,0,-10000))"
   ]
  },
  {
   "cell_type": "code",
   "execution_count": null,
   "metadata": {
    "scrolled": true
   },
   "outputs": [],
   "source": [
    "# tri\n",
    "print(quadratic(.5,.5,-999))\n",
    "print(quadratic(.5,.5,-10000))"
   ]
  },
  {
   "cell_type": "code",
   "execution_count": null,
   "metadata": {},
   "outputs": [],
   "source": [
    "polynums = [[],[],[],[],[],[]]\n",
    "for n in range(45,141):\n",
    "    polynums[0].append(int(n*(n+1)/2))\n",
    "for n in range(32,100):\n",
    "    polynums[1].append(int(n**2))\n",
    "for n in range(26,82):\n",
    "    polynums[2].append(int(n*(3*n-1)/2))\n",
    "for n in range(23,71):\n",
    "    polynums[3].append(int(n*(2*n-1)))\n",
    "for n in range(21,64):\n",
    "    polynums[4].append(int(n*(5*n-3)/2))\n",
    "for n in range(19,59):\n",
    "    polynums[5].append(int(n*(3*n-2)))"
   ]
  },
  {
   "cell_type": "code",
   "execution_count": null,
   "metadata": {},
   "outputs": [],
   "source": [
    "for num_A in polynums[5]:\n",
    "    for perm in list(itertools.permutations([0,1,2,3,4], 5)):\n",
    "        for num_B in polynums[perm[4]]:\n",
    "            if str(num_A)[2:4] == str(num_B)[0:2]:\n",
    "                for num_C in polynums[perm[3]]:\n",
    "                    if str(num_B)[2:4] == str(num_C)[0:2]:\n",
    "                        for num_D in polynums[perm[2]]:\n",
    "                            if str(num_C)[2:4] == str(num_D)[0:2]:\n",
    "                                for num_E in polynums[perm[1]]:\n",
    "                                    if str(num_D)[2:4] == str(num_E)[0:2]:\n",
    "                                        for num_F in polynums[perm[0]]:\n",
    "                                            if str(num_E)[2:4] == str(num_F)[0:2] and str(num_F)[2:4] == str(num_A)[0:2]:\n",
    "                                                print(num_A,num_B,num_C,num_D,num_E,num_F)\n",
    "                                                print(num_A+num_B+num_C+num_D+num_E+num_F)"
   ]
  },
  {
   "cell_type": "markdown",
   "metadata": {},
   "source": [
    "# #062 Cubic permutations\n",
    "The cube, 41063625 (3453), can be permuted to produce two other cubes: 56623104 (3843) and 66430125 (4053). In fact, 41063625 is the smallest cube which has exactly three permutations of its digits which are also cube.\n",
    "\n",
    "Find the smallest cube for which exactly five permutations of its digits are cube.\n",
    "\n"
   ]
  },
  {
   "cell_type": "code",
   "execution_count": null,
   "metadata": {},
   "outputs": [],
   "source": [
    "cubes = {}\n",
    "\n",
    "for length in range(7,12):\n",
    "    start = int(9.9999**(length/3))+1\n",
    "    end = int(9.9999**((length+1)/3))+1\n",
    "    for n in range(start,end):\n",
    "        if digicom(n**3) in cubes:\n",
    "            cubes[digicom(n**3)].append(n**3)\n",
    "            if len(cubes[digicom(n**3)]) == 5:\n",
    "                print(cubes[digicom(n**3)])\n",
    "                print(min(cubes[digicom(n**3)]))\n",
    "        else:\n",
    "            cubes[digicom(n**3)] = [n**3]"
   ]
  },
  {
   "cell_type": "markdown",
   "metadata": {},
   "source": [
    "# #063 Powerful digit counts\n",
    "The 5-digit number, 16807=75, is also a fifth power. Similarly, the 9-digit number, 134217728=89, is a ninth power.\n",
    "\n",
    "How many n-digit positive integers exist which are also an nth power?\n",
    "\n"
   ]
  },
  {
   "cell_type": "code",
   "execution_count": null,
   "metadata": {},
   "outputs": [],
   "source": [
    "# n-digit numbers run from 10**(n-1) to 10**n - 1\n",
    "# for any n, if there are any n-digit nth powers, they must be powers of values less than 10\n",
    "# so figure out what the lowest one is, and assume the highest one is always 9\n",
    "\n",
    "count = 0\n",
    "n = 1\n",
    "while 9**n > 10**(n-1):\n",
    "    k = 1\n",
    "    while k**n < 10**(n-1):\n",
    "        k += 1\n",
    "    count += (9-k + 1)\n",
    "    n += 1\n",
    "\n",
    "count"
   ]
  },
  {
   "cell_type": "markdown",
   "metadata": {},
   "source": [
    "# #064 Odd period square roots\n",
    "All square roots are periodic when written as continued fractions and can be written in the form:\n",
    "\n",
    " \n",
    " \n",
    " \n",
    "For example, let us consider \n",
    "\n",
    " \n",
    " \n",
    " \n",
    " \n",
    "If we continue we would get the following expansion:\n",
    "\n",
    " \n",
    " \n",
    " \n",
    " \n",
    "The process can be summarised as follows:\n",
    "\n",
    " \n",
    " \n",
    " \n",
    "\n",
    " \n",
    " \n",
    " \n",
    "\n",
    " \n",
    " \n",
    " \n",
    "\n",
    " \n",
    " \n",
    "\n",
    " \n",
    " \n",
    " \n",
    "\n",
    " \n",
    " \n",
    " \n",
    "\n",
    " \n",
    " \n",
    " \n",
    "\n",
    " \n",
    " \n",
    "\n",
    "\n",
    "It can be seen that the sequence is repeating. For conciseness, we use the notation \n",
    ", to indicate that the block (1,3,1,8) repeats indefinitely.\n",
    "\n",
    "The first ten continued fraction representations of (irrational) square roots are:\n",
    "\n",
    ", period=\n",
    "\n",
    ", period=\n",
    "\n",
    ", period=\n",
    "\n",
    ", period=\n",
    "\n",
    ", period=\n",
    "\n",
    ", period=\n",
    "\n",
    ", period=\n",
    "\n",
    ", period=\n",
    "\n",
    ", period=\n",
    "\n",
    ", period=\n",
    "\n",
    "Exactly four continued fractions, for \n",
    ", have an odd period.\n",
    "\n",
    "How many continued fractions for \n",
    " have an odd period?\n",
    "\n"
   ]
  },
  {
   "cell_type": "code",
   "execution_count": null,
   "metadata": {},
   "outputs": [],
   "source": [
    "# in the process summary, every term is followed by a residual, and the values of those residuals matter more than\n",
    "# the values of the terms, for purposes of determining the period\n",
    "# this is because the uniqueness of a residual is completely determined, unlike that of the terms\n",
    "\n",
    "# every residual features 3 coefficients: a numerator, a coefficient of sqrt(k), and a constant (always subtracted)\n",
    "\n",
    "# the trick is to find when these triads are equivalent, using cross-multiplying and never dividing or rooting\n",
    "\n",
    "# THE ORDER IS: (0) NUM or DENOM, (1) COEFF, (2) CONST\n",
    "\n",
    "def reduce(N):\n",
    "    a, b, c = N[0], N[1], N[2]\n",
    "    for p in primes:\n",
    "        if p > np.sqrt(min(a,b,c)):\n",
    "            break\n",
    "        else:\n",
    "            while a%p == 0 and b%p == 0 and c%p == 0:\n",
    "                a, b, c = a/p, b/p, c/p\n",
    "    return [a,b,c]\n",
    "\n",
    "def intermediate(R):\n",
    "    R_num = R[0]\n",
    "    R_coeff = R[1]\n",
    "    R_const = R[2]\n",
    "    \n",
    "    I_denom = (R_coeff**2) * k - R_const**2\n",
    "    I_coeff = R_num * R_coeff\n",
    "    I_const = R_num * R_const\n",
    "    \n",
    "    return reduce([I_denom,I_coeff,I_const])\n",
    "\n",
    "def whole(I,k):\n",
    "    I_denom = I[0]\n",
    "    I_coeff = I[1]\n",
    "    I_const = I[2]\n",
    "    \n",
    "    return int((I_coeff * np.sqrt(k) + I_const) / I_denom)\n",
    "\n",
    "def residual(I,A):\n",
    "    I_denom = I[0]\n",
    "    I_coeff = I[1]\n",
    "    I_const = I[2]\n",
    "    \n",
    "    R_num = I_denom\n",
    "    R_coeff = I_coeff\n",
    "    R_const = A * I_denom - I_const\n",
    "    \n",
    "    return reduce([R_num, R_coeff, R_const])\n",
    "\n",
    "def R_same(R):\n",
    "#     for i in range(3):\n",
    "#         if R[-1][i] - R[0][i] != 0:\n",
    "#             return False\n",
    "#     return True\n",
    "  \n",
    "    R_num_1 = R[-1][0]\n",
    "    R_coeff_1 = R[-1][1]\n",
    "    R_const_1 = R[-1][2]\n",
    "\n",
    "    R_num_2 = R[0][0]\n",
    "    R_coeff_2 = R[0][1]\n",
    "    R_const_2 = R[0][2]\n",
    "    \n",
    "    if (R_num_1 * R_coeff_2 == R_num_2 * R_coeff_1) and (R_num_1 * R_const_2 == R_num_2 * R_const_1):\n",
    "        return True\n",
    "    else:\n",
    "        return False"
   ]
  },
  {
   "cell_type": "code",
   "execution_count": null,
   "metadata": {},
   "outputs": [],
   "source": [
    "odd_count = 0\n",
    "\n",
    "for n in range(2,101):\n",
    "    # when n = 5, k will range from 17 to 24, always between squares of (n - 1) and n\n",
    "    \n",
    "    for k in range((n - 1)**2 + 1, n**2):\n",
    "        # a_0 is always n - 1\n",
    "        # start with a residual triad: R_num, R_coeff, R_const\n",
    "        # every zero-th residual triad will be num. = 1, coeff. = 1, (neg.) const. = (n-1)\n",
    "        R = [[1,1,n-1]]\n",
    "        # next generate an intermediate fraction based on the residual\n",
    "        I = []\n",
    "        I.append(intermediate(R[-1]))\n",
    "        # next find the whole number term that follows\n",
    "        A = []\n",
    "        A.append(whole(I[-1],k))\n",
    "        # next find the \"first\" residual\n",
    "        R.append(residual(I[-1],A[-1]))\n",
    "        # so far the period is 1\n",
    "        period = 1\n",
    "        # we will check whether the period is complete, and if not, add to it\n",
    "#         while R[-1] != R[0]:\n",
    "        while R_same(R) == False:\n",
    "            period += 1\n",
    "            I.append(intermediate(R[-1]))\n",
    "            A.append(whole(I[-1],k))\n",
    "            R.append(residual(I[-1],A[-1]))\n",
    "#         print(k, period)\n",
    "        if period % 2 == 1:\n",
    "            odd_count += 1\n",
    "\n",
    "odd_count"
   ]
  },
  {
   "cell_type": "markdown",
   "metadata": {},
   "source": [
    "# #065 Convergents of e\n",
    "The square root of 2 can be written as an infinite continued fraction.\n",
    "\n",
    " \n",
    " \n",
    " \n",
    " \n",
    "\n",
    "The infinite continued fraction can be written, \n",
    ", \n",
    " indicates that 2 repeats ad infinitum. In a similar way, \n",
    ".\n",
    "\n",
    "It turns out that the sequence of partial values of continued fractions for square roots provide the best rational approximations. Let us consider the convergents for \n",
    ".\n",
    "\n",
    " \n",
    " \n",
    " \n",
    " \n",
    " \n",
    " \n",
    " \n",
    " \n",
    " \n",
    " \n",
    " \n",
    " \n",
    " \n",
    " \n",
    " \n",
    "\n",
    "Hence the sequence of the first ten convergents for \n",
    " are:\n",
    "\n",
    " \n",
    " \n",
    " \n",
    " \n",
    " \n",
    " \n",
    " \n",
    " \n",
    " \n",
    "\n",
    "What is most surprising is that the important mathematical constant,\n",
    ".\n",
    "\n",
    "The first ten terms in the sequence of convergents for e are:\n",
    "\n",
    " \n",
    " \n",
    " \n",
    " \n",
    " \n",
    " \n",
    " \n",
    " \n",
    "\n",
    "The sum of digits in the numerator of the 10th convergent is \n",
    ".\n",
    "\n",
    "Find the sum of digits in the numerator of the 100th convergent of the continued fraction for \n",
    ".\n",
    "\n"
   ]
  },
  {
   "cell_type": "code",
   "execution_count": null,
   "metadata": {},
   "outputs": [],
   "source": [
    "R = [2,1,2]\n",
    "for k in range(2,35):\n",
    "    R.extend([1,1,2*k])\n",
    "R = R[:100][::-1]\n",
    "R\n",
    "\n",
    "C = [1,1]\n",
    "for k in range(1,100):\n",
    "    numer = C[0]*R[k] + C[1]\n",
    "    denom = C[0]\n",
    "    C[0] = numer\n",
    "    C[1] = denom\n",
    "\n",
    "n = C[0]\n",
    "total = 0\n",
    "while n > 0:\n",
    "    total += n%10\n",
    "    n //= 10\n",
    "total"
   ]
  },
  {
   "cell_type": "markdown",
   "metadata": {},
   "source": [
    "# #066 Diophantine equation\n",
    "Consider quadratic Diophantine equations of the form:\n",
    "\n",
    "x2 – Dy2 = 1\n",
    "\n",
    "For example, when D=13, the minimal solution in x is 6492 – 13×1802 = 1.\n",
    "\n",
    "It can be assumed that there are no solutions in positive integers when D is square.\n",
    "\n",
    "By finding minimal solutions in x for D = {2, 3, 5, 6, 7}, we obtain the following:\n",
    "\n",
    "32 – 2×22 = 1\n",
    "22 – 3×12 = 1\n",
    "92 – 5×42 = 1\n",
    "52 – 6×22 = 1\n",
    "82 – 7×32 = 1\n",
    "\n",
    "Hence, by considering minimal solutions in x for D ≤ 7, the largest x is obtained when D=5.\n",
    "\n",
    "Find the value of D ≤ 1000 in minimal solutions of x for which the largest value of x is obtained.\n",
    "\n"
   ]
  },
  {
   "cell_type": "markdown",
   "metadata": {},
   "source": [
    "Answer: 661"
   ]
  },
  {
   "cell_type": "code",
   "execution_count": null,
   "metadata": {},
   "outputs": [],
   "source": [
    "# confirm that a fast function returns the same values as a reliable function\n",
    "\n",
    "for D in range(2,62):\n",
    "    if is_square(D):\n",
    "        continue\n",
    "    x_foolproof = diophantine_foolproof(D)\n",
    "    x_AB = diophantine_AB(D)\n",
    "    if x_foolproof == x_AB:\n",
    "        print(D, 'checks out')\n",
    "    else:\n",
    "        print('foolproof:', x_foolproof, 'AB:', x_AB)"
   ]
  },
  {
   "cell_type": "code",
   "execution_count": null,
   "metadata": {},
   "outputs": [],
   "source": [
    "# slow but reliable\n",
    "\n",
    "def diophantine_foolproof(D):\n",
    "    if int(D) != D:\n",
    "        print('D is not an integer')\n",
    "        return None\n",
    "    elif D < 1:\n",
    "        print('D is not positive')\n",
    "        return None\n",
    "    elif is_square(D):\n",
    "        print('D is a square')\n",
    "        return None\n",
    "    solved = False\n",
    "    x = 1\n",
    "    while solved == False:\n",
    "        if is_square((x**2 - 1) / D):\n",
    "            y = int(np.sqrt((x**2 - 1) / D))\n",
    "            return x\n",
    "        else:\n",
    "            x += 1"
   ]
  },
  {
   "cell_type": "code",
   "execution_count": null,
   "metadata": {},
   "outputs": [],
   "source": [
    "# fast, and mostly proven reliable\n",
    "\n",
    "def diophantine_AB(D):\n",
    "    if int(D) != D:\n",
    "        print('D is not an integer')\n",
    "        return None\n",
    "    elif D < 1:\n",
    "        print('D is not positive')\n",
    "        return None\n",
    "    elif is_square(D):\n",
    "        print('D is a square')\n",
    "        return None\n",
    "    D_prime_fac_dict = prime_fac(D) # the prime factorization dictionary of D\n",
    "    A_seeds = [1] # this will seed A in all cases\n",
    "    for p in [q for q in D_prime_fac_dict if q != 2]: # iterate over all unique odd primes in D\n",
    "        A_seeds.extend([x * p**D_prime_fac_dict[p] for x in A_seeds]) # produce all combinations of odd primes\n",
    "    B_loose_factors = [int(D / a) for a in A_seeds] # this is first set to the multiplicative complement of A_seeds\n",
    "    if D % 2 == 1: # in the case of odd D, we need to add seeds/factors with 2s\n",
    "        A_seeds.extend([2*a for a in A_seeds])\n",
    "        B_loose_factors.extend([2*b for b in B_loose_factors])\n",
    "    else: # in the case of even D, all the A_seeds must gain a 2 and all the B_loose_factors must lose a 2\n",
    "        A_seeds = [2*a for a in A_seeds]\n",
    "        B_loose_factors = [int(b/2) for b in B_loose_factors]\n",
    "    \n",
    "    solved = False\n",
    "    x = None\n",
    "    \n",
    "    for i in range(len(A_seeds)):\n",
    "        A = A_seeds[i]\n",
    "        for B in [A-2,A+2]:\n",
    "            if B < 1:\n",
    "                continue\n",
    "            elif is_square(B / B_loose_factors[i]): # this would be a solution, not nec. minimal yet\n",
    "                if solved == False or int((A+B)/2) < x: # check whether it's first OR smallest so far\n",
    "                    x = int((A+B)/2)    \n",
    "                    solved = True\n",
    "\n",
    "    k = 2 # the multiplier seed to generate values of A\n",
    "    while solved == False or solved == True and k**2 * min(A_seeds) < x - 1:        \n",
    "        for i in range(len(A_seeds)): # iterate over the seeds of A                        \n",
    "            A = A_seeds[i] * k**2 # A becomes its seed times any square            \n",
    "            for B in [A-2,A+2]: # iterate over the 2 possible values of B\n",
    "                if is_square(B / B_loose_factors[i]): # this would be a solution, not nec. minimal yet\n",
    "                    if solved == False or int((A+B)/2) < x: # check whether it's first OR smallest so far\n",
    "                        x = int((A+B)/2)    \n",
    "                        solved = True\n",
    "        k += 1\n",
    "    return x"
   ]
  },
  {
   "cell_type": "code",
   "execution_count": null,
   "metadata": {
    "scrolled": true
   },
   "outputs": [],
   "source": [
    "# look at what D values remain\n",
    "\n",
    "[n for n in range(251,1001) if not is_square(n) and n not in diophantine_dict and n in primes]"
   ]
  },
  {
   "cell_type": "code",
   "execution_count": null,
   "metadata": {},
   "outputs": [],
   "source": [
    "# the following have been submitted as potential answers:\n",
    "# primes: 277, 821, 823, 859\n",
    "# non-primes: "
   ]
  },
  {
   "cell_type": "code",
   "execution_count": null,
   "metadata": {},
   "outputs": [],
   "source": [
    "# check Ds in ascending or descending order, limited by conditions\n",
    "\n",
    "for D in range(821,251,-1):\n",
    "    if is_square(D) or D in diophantine_dict:\n",
    "        continue\n",
    "    elif len(list(prime_fac(D).keys())) == 1:\n",
    "        diophantine_dict[D] = diophantine_AB(D)\n",
    "\n",
    "# working backward on primes ... give it 25 minutes, then skip whatever it's stuck on (277, 823, 853, 859, 941, 977, 991)\n",
    "# Ds all contain at least one prime p > 17 ?\n",
    "# even Ds with one other unique prime are done for D > 886"
   ]
  },
  {
   "cell_type": "code",
   "execution_count": null,
   "metadata": {},
   "outputs": [],
   "source": [
    "# check Ds in a progressive conditional order\n",
    "\n",
    "for p in primes[:11]:\n",
    "    for D in range(251,1001):\n",
    "        if is_square(D) or D in diophantine_dict:\n",
    "            continue\n",
    "        elif max(list(prime_fac(D).keys())) == p:\n",
    "            diophantine_dict[D] = diophantine_AB(D)"
   ]
  },
  {
   "cell_type": "code",
   "execution_count": null,
   "metadata": {},
   "outputs": [],
   "source": [
    "# look at the winner so far\n",
    "\n",
    "x_max = 0\n",
    "for D in diophantine_dict:\n",
    "    if diophantine_dict[D] > x_max:\n",
    "        x_max = diophantine_dict[D]\n",
    "        winner = D\n",
    "print(winner, diophantine_dict[winner])"
   ]
  },
  {
   "cell_type": "code",
   "execution_count": null,
   "metadata": {},
   "outputs": [],
   "source": []
  },
  {
   "cell_type": "code",
   "execution_count": null,
   "metadata": {},
   "outputs": [],
   "source": []
  },
  {
   "cell_type": "code",
   "execution_count": null,
   "metadata": {},
   "outputs": [],
   "source": []
  },
  {
   "cell_type": "code",
   "execution_count": null,
   "metadata": {},
   "outputs": [],
   "source": []
  },
  {
   "cell_type": "code",
   "execution_count": null,
   "metadata": {},
   "outputs": [],
   "source": []
  },
  {
   "cell_type": "code",
   "execution_count": null,
   "metadata": {},
   "outputs": [],
   "source": [
    "diophantine_dict"
   ]
  },
  {
   "cell_type": "code",
   "execution_count": null,
   "metadata": {},
   "outputs": [],
   "source": []
  },
  {
   "cell_type": "code",
   "execution_count": null,
   "metadata": {},
   "outputs": [],
   "source": []
  },
  {
   "cell_type": "code",
   "execution_count": null,
   "metadata": {},
   "outputs": [],
   "source": []
  },
  {
   "cell_type": "code",
   "execution_count": null,
   "metadata": {},
   "outputs": [],
   "source": []
  },
  {
   "cell_type": "code",
   "execution_count": null,
   "metadata": {},
   "outputs": [],
   "source": []
  },
  {
   "cell_type": "code",
   "execution_count": null,
   "metadata": {},
   "outputs": [],
   "source": []
  },
  {
   "cell_type": "code",
   "execution_count": null,
   "metadata": {},
   "outputs": [],
   "source": []
  },
  {
   "cell_type": "code",
   "execution_count": null,
   "metadata": {},
   "outputs": [],
   "source": []
  },
  {
   "cell_type": "code",
   "execution_count": null,
   "metadata": {},
   "outputs": [],
   "source": []
  },
  {
   "cell_type": "code",
   "execution_count": null,
   "metadata": {},
   "outputs": [],
   "source": []
  },
  {
   "cell_type": "code",
   "execution_count": null,
   "metadata": {},
   "outputs": [],
   "source": []
  },
  {
   "cell_type": "code",
   "execution_count": null,
   "metadata": {},
   "outputs": [],
   "source": []
  },
  {
   "cell_type": "markdown",
   "metadata": {},
   "source": [
    "#### Notes\n",
    "\n",
    "- Rearrange to D • y^2 = (x+1)(x-1) or A • B (*not important which is A, B*), where A and B differ by 2.\n",
    "- For a given D, we're finding the smallest possible x, and y just accommodates the equation.\n",
    "- If D is divisible by any square, then D = k * m^2, but then we would already have a solution for D = k and could just modify y to be y * m. So do not consider any values of D that are divisible by squares.\n",
    "- This means that we are only looking at values of D whose prime factorization powers are all 1. D could be a single prime, or the product of two distinct primes, etc. Since D ≤ 1,000, it could be the product of at most 4 distinct primes (because the product of the 5 smallest primes is greater than 1,000).\n",
    "- **Using the equation D • y^2 = A • B, see this as D (or y) *introducing* prime factors into A and B**\n",
    "\n",
    "\n",
    "- any odd prime p introduced by D must appear as p^1, in ONLY A or B\n",
    "- if 2 is introduced by D, 2^1 appears in A or B, and 2^n (n even) appears in the other\n",
    "- if 2 is NOT introduced by D, then two cases:\n",
    "    - no 2s in A or B\n",
    "    - 2^1 appears in A or B, and 2^n (n odd) appears in the other\n",
    "- any OTHER primes q > 2 introduced by y must show up in even powers in A or B\n",
    "    - q cannot appear in both A and B\n",
    "    - can q duplicate p if it belongs to the same A or B? Yes?\n",
    "\n",
    "- split cases (D_odd, D_even) depending on whether D contains 2\n",
    "- split cases depending on whether y introduces 2 or not for D_odd\n",
    "- in every case, determine distribution in A and B of non-2 primes introduced by D\n",
    "    - WLOG ... something\n",
    "- iterate over possible A, B values, checking conditions"
   ]
  },
  {
   "cell_type": "code",
   "execution_count": null,
   "metadata": {},
   "outputs": [],
   "source": [
    "%store diophantine_dict"
   ]
  },
  {
   "cell_type": "code",
   "execution_count": null,
   "metadata": {},
   "outputs": [],
   "source": []
  },
  {
   "cell_type": "code",
   "execution_count": null,
   "metadata": {},
   "outputs": [],
   "source": []
  },
  {
   "cell_type": "code",
   "execution_count": null,
   "metadata": {},
   "outputs": [],
   "source": []
  },
  {
   "cell_type": "code",
   "execution_count": null,
   "metadata": {},
   "outputs": [],
   "source": []
  },
  {
   "cell_type": "code",
   "execution_count": null,
   "metadata": {},
   "outputs": [],
   "source": []
  },
  {
   "cell_type": "code",
   "execution_count": null,
   "metadata": {},
   "outputs": [],
   "source": []
  },
  {
   "cell_type": "code",
   "execution_count": null,
   "metadata": {},
   "outputs": [],
   "source": []
  },
  {
   "cell_type": "code",
   "execution_count": null,
   "metadata": {},
   "outputs": [],
   "source": []
  },
  {
   "cell_type": "code",
   "execution_count": null,
   "metadata": {},
   "outputs": [],
   "source": []
  },
  {
   "cell_type": "code",
   "execution_count": null,
   "metadata": {},
   "outputs": [],
   "source": []
  },
  {
   "cell_type": "markdown",
   "metadata": {},
   "source": [
    "Something is wrong with the coding that gives values for D=61 that do not agree with the math.\n",
    "\n",
    "The algorithm can be improved by only checking certain multiples of combinations of single-power primes as candidates for x+1 and x-1.\n",
    "\n",
    "For a given D, WLOG, D should be a product of single-power primes, e.g. 30 = 2 * 3 * 5.\n",
    "\n",
    "Level 1 iteration: multiples to check (revisit this)\n",
    "\n",
    "Level 2 iteration: combinations of primes — What we should do here is iterate over the divisors of D, and only cover half of them. So either start low or start high (is one better than the other?) and iterate until you reach the square root (which will never be an actual divisor)\n",
    "\n",
    "Level 3 iteration: try this for (x+1) or (x-1)\n",
    "\n",
    "Level 4 iteration: toggle whether we toss in an extra 2 for the multiples iteration (maybe move this to right after Level 1)\n",
    "\n",
    "Issue: we do need to find the LEAST such x, and this algorithm will kind of swirl around several candidates not necessarily hitting the least one first. Maybe it won't matter? Maybe it's not possible to skip over an acceptable x in this algorithm? Because at any level of this iteration, it won't be the case that BOTH options work? Or if it will, in the case of the divisors, it won't matter, because it's finding the complementary answer?"
   ]
  },
  {
   "cell_type": "code",
   "execution_count": null,
   "metadata": {},
   "outputs": [],
   "source": [
    "skipped = [277, 337, 379, 394, 397, 409]"
   ]
  },
  {
   "cell_type": "code",
   "execution_count": null,
   "metadata": {},
   "outputs": [],
   "source": [
    "remaining_Ds = [D for D in range(251,1001) if \\\n",
    "                D not in diophantine_dict and \\\n",
    "                not is_square(D) and \\\n",
    "                D not in skipped\n",
    "               ]"
   ]
  },
  {
   "cell_type": "code",
   "execution_count": null,
   "metadata": {},
   "outputs": [],
   "source": [
    "def run_diophantine(skipped, remaining_Ds):\n",
    "\n",
    "    D_ = [D for D in range(251,1001) if \\\n",
    "                    D not in diophantine_dict and \\\n",
    "                    not is_square(D) and \\\n",
    "                    D not in skipped\n",
    "                   ][0]\n",
    "    remaining_Ds.remove(D_)\n",
    "    skipped.append(D_)\n",
    "    x = diophantine_AB(D_)\n",
    "    skipped.pop()\n",
    "    diophantine_dict[D_] = x\n",
    "    if x > diophantine_dict[D_max]:\n",
    "        print('D:', D_, 'x:', x, '\\n(NEW WINNER)\\n')\n",
    "    else:\n",
    "        print('D:', D_, 'x:', x, '\\n')\n",
    "    run_diophantine(skipped, remaining_Ds)"
   ]
  },
  {
   "cell_type": "code",
   "execution_count": null,
   "metadata": {},
   "outputs": [],
   "source": []
  },
  {
   "cell_type": "code",
   "execution_count": null,
   "metadata": {},
   "outputs": [],
   "source": []
  },
  {
   "cell_type": "code",
   "execution_count": null,
   "metadata": {},
   "outputs": [],
   "source": []
  },
  {
   "cell_type": "code",
   "execution_count": null,
   "metadata": {},
   "outputs": [],
   "source": [
    "skipped"
   ]
  },
  {
   "cell_type": "code",
   "execution_count": null,
   "metadata": {},
   "outputs": [],
   "source": [
    "print('last skipped  ', skipped[-1], '\\nnext D is     ', remaining_Ds[0])"
   ]
  },
  {
   "cell_type": "code",
   "execution_count": null,
   "metadata": {},
   "outputs": [],
   "source": [
    "# values that we're skipping (and have submitted) and how long we gave them:\n",
    "\n",
    "# 277: 45 minutes\n",
    "# 337: 20 minutes\n",
    "# 379: 15 minutes\n",
    "# 394: 25 minutes\n",
    "# 397: 90 minutes\n",
    "# 409: 10 minutes"
   ]
  },
  {
   "cell_type": "code",
   "execution_count": null,
   "metadata": {},
   "outputs": [],
   "source": [
    "# log start time\n",
    "# ~ 5:32pm Saturday"
   ]
  },
  {
   "cell_type": "code",
   "execution_count": null,
   "metadata": {},
   "outputs": [],
   "source": [
    "# look at the winner so far\n",
    "\n",
    "x_max = 0\n",
    "for D in diophantine_dict:\n",
    "    if diophantine_dict[D] > x_max:\n",
    "        x_max = diophantine_dict[D]\n",
    "        winner = D\n",
    "print(winner, diophantine_dict[winner])\n",
    "D_max = winner"
   ]
  },
  {
   "cell_type": "code",
   "execution_count": null,
   "metadata": {},
   "outputs": [],
   "source": [
    "%%time\n",
    "\n",
    "run_diophantine(skipped, remaining_Ds)"
   ]
  },
  {
   "cell_type": "code",
   "execution_count": null,
   "metadata": {},
   "outputs": [],
   "source": [
    "x_max = 0\n",
    "for D in diophantine_dict:\n",
    "    if diophantine_dict[D] > x_max:\n",
    "        x_max = diophantine_dict[D]\n",
    "        D_max = D\n",
    "\n",
    "x, solved, D_prime_fac_dict, A_seeds, B_loose_factors = {}, {}, {}, {}, {}\n",
    "\n",
    "for D in [d for d in range(215,1001) if d not in diophantine_dict and not is_square(d)]:\n",
    "    x[D], solved[D], D_prime_fac_dict[D] = None, False, prime_fac(D)\n",
    "\n",
    "    A_seeds[D] = [1] # this will seed A in all cases\n",
    "    for p in [q for q in D_prime_fac_dict[D] if q != 2]: # iterate over all unique odd primes in D\n",
    "        A_seeds[D].extend([x * p**D_prime_fac_dict[D][p] for x in A_seeds[D]]) # produce all combinations of odd primes\n",
    "    B_loose_factors[D] = [int(D / a) for a in A_seeds[D]] # this is first set to the multiplicative complement of A_seeds\n",
    "    if D % 2 == 1: # in the case of odd D, we need to add seeds/factors with 2s\n",
    "        A_seeds[D].extend([2*a for a in A_seeds[D]])\n",
    "        B_loose_factors[D].extend([2*b for b in B_loose_factors[D]])\n",
    "    else: # in the case of even D, all the A_seeds must gain a 2 and all the B_loose_factors must lose a 2\n",
    "        A_seeds[D] = [2*a for a in A_seeds[D]]\n",
    "        B_loose_factors[D] = [int(b/2) for b in B_loose_factors[D]]\n",
    "\n",
    "k = 1\n",
    "\n",
    "for D in [d for d in range(215,1001) if d not in diophantine_dict and not is_square(d)]:\n",
    "\n",
    "    for i in range(len(A_seeds[D])):\n",
    "        A = A_seeds[D][i]\n",
    "        for B in [A-2,A+2]:\n",
    "            if B < 1:\n",
    "                continue\n",
    "            elif is_square(B / B_loose_factors[D][i]): # this would be a solution, not nec. minimal yet\n",
    "                if solved[D] == False or int((A+B)/2) < x: # check whether it's first OR smallest so far\n",
    "                    x[D] = int((A+B)/2)    \n",
    "                    solved[D] = True\n",
    "    \n",
    "k = 2\n",
    "\n",
    "while len([d for d in range(215,1001) if d not in diophantine_dict and not is_square(d)]) > 1:\n",
    "\n",
    "    for D in [d for d in range(215,1001) if d not in diophantine_dict and not is_square(d)]:\n",
    "\n",
    "        if solved[D] == True and k**2 * min(A_seeds[D]) > x + 1:\n",
    "\n",
    "            diophantine_dict[D] = x[D]\n",
    "            if x[D] > diophantine_dict[D_max]:\n",
    "                D_max = x[D]\n",
    "                print('D:', D, 'x:', x[D], '\\n(NEW WINNER)\\n')\n",
    "            else:\n",
    "                print('D:', D, 'x:', x[D], '\\n')\n",
    "\n",
    "            continue\n",
    "\n",
    "        else:\n",
    "            for i in range(len(A_seeds[D])): # iterate over the seeds of A                        \n",
    "                A = A_seeds[D][i] * k**2 # A becomes its seed times any square            \n",
    "                for B in [A-2,A+2]: # iterate over the 2 possible values of B\n",
    "                    if is_square(B / B_loose_factors[D][i]): # this would be a solution, not nec. minimal yet\n",
    "                        if solved == False or int((A+B)/2) < x: # check whether it's first OR smallest so far\n",
    "                            x[D] = int((A+B)/2)    \n",
    "                            solved = True\n",
    "\n",
    "    k += 1"
   ]
  },
  {
   "cell_type": "code",
   "execution_count": null,
   "metadata": {},
   "outputs": [],
   "source": []
  },
  {
   "cell_type": "markdown",
   "metadata": {},
   "source": [
    "## End of document\n",
    "**[Navigation](#Navigation)**"
   ]
  }
 ],
 "metadata": {
  "kernelspec": {
   "display_name": "Python 3",
   "language": "python",
   "name": "python3"
  },
  "language_info": {
   "codemirror_mode": {
    "name": "ipython",
    "version": 3
   },
   "file_extension": ".py",
   "mimetype": "text/x-python",
   "name": "python",
   "nbconvert_exporter": "python",
   "pygments_lexer": "ipython3",
   "version": "3.8.5"
  }
 },
 "nbformat": 4,
 "nbformat_minor": 4
}
